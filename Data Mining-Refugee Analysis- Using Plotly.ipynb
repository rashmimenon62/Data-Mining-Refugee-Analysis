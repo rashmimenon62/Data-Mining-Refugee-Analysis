{
 "cells": [
  {
   "cell_type": "code",
   "execution_count": 3,
   "metadata": {},
   "outputs": [
    {
     "data": {
      "text/html": [
       "<script type=\"text/javascript\">window.PlotlyConfig = {MathJaxConfig: 'local'};</script><script type=\"text/javascript\">if (window.MathJax) {MathJax.Hub.Config({SVG: {font: \"STIX-Web\"}});}</script><script>requirejs.config({paths: { 'plotly': ['https://cdn.plot.ly/plotly-latest.min']},});if(!window._Plotly) {require(['plotly'],function(plotly) {window._Plotly=plotly;});}</script>"
      ],
      "text/vnd.plotly.v1+html": [
       "<script type=\"text/javascript\">window.PlotlyConfig = {MathJaxConfig: 'local'};</script><script type=\"text/javascript\">if (window.MathJax) {MathJax.Hub.Config({SVG: {font: \"STIX-Web\"}});}</script><script>requirejs.config({paths: { 'plotly': ['https://cdn.plot.ly/plotly-latest.min']},});if(!window._Plotly) {require(['plotly'],function(plotly) {window._Plotly=plotly;});}</script>"
      ]
     },
     "metadata": {},
     "output_type": "display_data"
    },
    {
     "data": {
      "text/html": [
       "<script type=\"text/javascript\">window.PlotlyConfig = {MathJaxConfig: 'local'};</script><script type=\"text/javascript\">if (window.MathJax) {MathJax.Hub.Config({SVG: {font: \"STIX-Web\"}});}</script><script>requirejs.config({paths: { 'plotly': ['https://cdn.plot.ly/plotly-latest.min']},});if(!window._Plotly) {require(['plotly'],function(plotly) {window._Plotly=plotly;});}</script>"
      ],
      "text/vnd.plotly.v1+html": [
       "<script type=\"text/javascript\">window.PlotlyConfig = {MathJaxConfig: 'local'};</script><script type=\"text/javascript\">if (window.MathJax) {MathJax.Hub.Config({SVG: {font: \"STIX-Web\"}});}</script><script>requirejs.config({paths: { 'plotly': ['https://cdn.plot.ly/plotly-latest.min']},});if(!window._Plotly) {require(['plotly'],function(plotly) {window._Plotly=plotly;});}</script>"
      ]
     },
     "metadata": {},
     "output_type": "display_data"
    }
   ],
   "source": [
    "import pandas as pd\n",
    "import pandas\n",
    "import matplotlib.pyplot as plt\n",
    "import zipfile\n",
    "import warnings\n",
    "import math\n",
    "import plotly\n",
    "import plotly.plotly as py\n",
    "import numpy as np\n",
    "%matplotlib inline\n",
    "from plotly.offline import init_notebook_mode, iplot\n",
    "init_notebook_mode(connected=True)\n",
    "from plotly import tools\n",
    "import matplotlib as mpl\n",
    "import plotly.graph_objs as go#visualization\n",
    "import plotly.tools as tls#visualization\n",
    "import plotly.figure_factory as ff#visualization\n",
    "import plotly.offline as py#visualization\n",
    "py.init_notebook_mode(connected=True)#visualization"
   ]
  },
  {
   "cell_type": "code",
   "execution_count": 4,
   "metadata": {},
   "outputs": [],
   "source": [
    "#Unzipping the refugee file\n",
    "zipfile.ZipFile('refugee-data.zip').extractall('.')"
   ]
  },
  {
   "cell_type": "code",
   "execution_count": 5,
   "metadata": {},
   "outputs": [],
   "source": [
    "#Filtering warnings to ignore\n",
    "warnings.filterwarnings(\"ignore\")"
   ]
  },
  {
   "cell_type": "code",
   "execution_count": 6,
   "metadata": {},
   "outputs": [],
   "source": [
    "#Reading in all the csv files from the zipped folder\n",
    "resettlement=pandas.read_csv(\"resettlement.csv\")\n",
    "df =pandas.read_csv(\"asylum_seekers.csv\",  header=0)\n",
    "asylum_sm =pandas.read_csv(\"asylum_seekers_monthly.csv\")\n",
    "demographics =pandas.read_csv(\"demographics.csv\")\n",
    "df3 =pandas.read_csv(\"persons_of_concern.csv\")\n",
    "time =pandas.read_csv(\"time_series.csv\")"
   ]
  },
  {
   "cell_type": "code",
   "execution_count": 7,
   "metadata": {},
   "outputs": [
    {
     "data": {
      "text/plain": [
       "Index(['Year', 'Country / territory of asylum/residence', 'Origin',\n",
       "       'RSD procedure type / level', 'Tota pending start-year',\n",
       "       'of which UNHCR-assisted(start-year)', 'Applied during year',\n",
       "       'decisions_recognized', 'decisions_other', 'Rejected',\n",
       "       'Otherwise closed', 'Total decisions', 'Total pending end-year',\n",
       "       'of which UNHCR-assisted(end-year)'],\n",
       "      dtype='object')"
      ]
     },
     "execution_count": 7,
     "metadata": {},
     "output_type": "execute_result"
    }
   ],
   "source": [
    "df.columns"
   ]
  },
  {
   "cell_type": "code",
   "execution_count": null,
   "metadata": {},
   "outputs": [],
   "source": []
  },
  {
   "cell_type": "code",
   "execution_count": 32,
   "metadata": {},
   "outputs": [
    {
     "data": {
      "text/plain": [
       "False"
      ]
     },
     "execution_count": 32,
     "metadata": {},
     "output_type": "execute_result"
    }
   ],
   "source": [
    "#Checking for empty rows\n",
    "resettlement.isnull().values.any()"
   ]
  },
  {
   "cell_type": "code",
   "execution_count": 33,
   "metadata": {},
   "outputs": [
    {
     "data": {
      "text/plain": [
       "True"
      ]
     },
     "execution_count": 33,
     "metadata": {},
     "output_type": "execute_result"
    }
   ],
   "source": [
    "df.isnull().values.any()"
   ]
  },
  {
   "cell_type": "code",
   "execution_count": 34,
   "metadata": {},
   "outputs": [
    {
     "data": {
      "text/plain": [
       "False"
      ]
     },
     "execution_count": 34,
     "metadata": {},
     "output_type": "execute_result"
    }
   ],
   "source": [
    "#Removing empty rows and rechecking \n",
    "df = df.dropna(axis = 0)\n",
    "df.isnull().values.any()"
   ]
  },
  {
   "cell_type": "code",
   "execution_count": 35,
   "metadata": {},
   "outputs": [],
   "source": [
    "asylum_sm = assylum_sm.dropna(axis = 0)"
   ]
  },
  {
   "cell_type": "code",
   "execution_count": 36,
   "metadata": {},
   "outputs": [
    {
     "data": {
      "text/plain": [
       "False"
      ]
     },
     "execution_count": 36,
     "metadata": {},
     "output_type": "execute_result"
    }
   ],
   "source": [
    "demographics = demographics.dropna(axis = 0)\n",
    "demographics.isnull().values.any()"
   ]
  },
  {
   "cell_type": "code",
   "execution_count": 37,
   "metadata": {},
   "outputs": [
    {
     "data": {
      "text/plain": [
       "False"
      ]
     },
     "execution_count": 37,
     "metadata": {},
     "output_type": "execute_result"
    }
   ],
   "source": [
    "df3=df3.dropna(axis = 0)\n",
    "df3.isnull().values.any()"
   ]
  },
  {
   "cell_type": "code",
   "execution_count": 38,
   "metadata": {},
   "outputs": [
    {
     "data": {
      "text/plain": [
       "False"
      ]
     },
     "execution_count": 38,
     "metadata": {},
     "output_type": "execute_result"
    }
   ],
   "source": [
    "time=time.dropna(axis = 0)\n",
    "time.isnull().values.any()"
   ]
  },
  {
   "cell_type": "code",
   "execution_count": 39,
   "metadata": {},
   "outputs": [
    {
     "data": {
      "text/html": [
       "<div>\n",
       "<style scoped>\n",
       "    .dataframe tbody tr th:only-of-type {\n",
       "        vertical-align: middle;\n",
       "    }\n",
       "\n",
       "    .dataframe tbody tr th {\n",
       "        vertical-align: top;\n",
       "    }\n",
       "\n",
       "    .dataframe thead th {\n",
       "        text-align: right;\n",
       "    }\n",
       "</style>\n",
       "<table border=\"1\" class=\"dataframe\">\n",
       "  <thead>\n",
       "    <tr style=\"text-align: right;\">\n",
       "      <th></th>\n",
       "      <th>Country / territory of asylum/residence</th>\n",
       "      <th>Origin</th>\n",
       "      <th>Year</th>\n",
       "      <th>Month</th>\n",
       "      <th>Value</th>\n",
       "    </tr>\n",
       "  </thead>\n",
       "  <tbody>\n",
       "    <tr>\n",
       "      <th>0</th>\n",
       "      <td>Australia</td>\n",
       "      <td>Afghanistan</td>\n",
       "      <td>1999</td>\n",
       "      <td>January</td>\n",
       "      <td>8</td>\n",
       "    </tr>\n",
       "    <tr>\n",
       "      <th>1</th>\n",
       "      <td>Australia</td>\n",
       "      <td>Afghanistan</td>\n",
       "      <td>1999</td>\n",
       "      <td>February</td>\n",
       "      <td>10</td>\n",
       "    </tr>\n",
       "    <tr>\n",
       "      <th>2</th>\n",
       "      <td>Australia</td>\n",
       "      <td>Afghanistan</td>\n",
       "      <td>1999</td>\n",
       "      <td>March</td>\n",
       "      <td>25</td>\n",
       "    </tr>\n",
       "    <tr>\n",
       "      <th>3</th>\n",
       "      <td>Australia</td>\n",
       "      <td>Afghanistan</td>\n",
       "      <td>1999</td>\n",
       "      <td>April</td>\n",
       "      <td>25</td>\n",
       "    </tr>\n",
       "    <tr>\n",
       "      <th>4</th>\n",
       "      <td>Australia</td>\n",
       "      <td>Afghanistan</td>\n",
       "      <td>1999</td>\n",
       "      <td>May</td>\n",
       "      <td>7</td>\n",
       "    </tr>\n",
       "  </tbody>\n",
       "</table>\n",
       "</div>"
      ],
      "text/plain": [
       "  Country / territory of asylum/residence       Origin  Year     Month Value\n",
       "0                               Australia  Afghanistan  1999   January     8\n",
       "1                               Australia  Afghanistan  1999  February    10\n",
       "2                               Australia  Afghanistan  1999     March    25\n",
       "3                               Australia  Afghanistan  1999     April    25\n",
       "4                               Australia  Afghanistan  1999       May     7"
      ]
     },
     "execution_count": 39,
     "metadata": {},
     "output_type": "execute_result"
    }
   ],
   "source": [
    "asylum_sm.head()"
   ]
  },
  {
   "cell_type": "code",
   "execution_count": 40,
   "metadata": {},
   "outputs": [
    {
     "data": {
      "text/plain": [
       "Country / territory of asylum/residence    object\n",
       "Origin                                     object\n",
       "Year                                        int64\n",
       "Month                                      object\n",
       "Value                                      object\n",
       "dtype: object"
      ]
     },
     "execution_count": 40,
     "metadata": {},
     "output_type": "execute_result"
    }
   ],
   "source": [
    "#Assessing the data types for each column\n",
    "asylum_sm.dtypes"
   ]
  },
  {
   "cell_type": "code",
   "execution_count": 41,
   "metadata": {},
   "outputs": [
    {
     "name": "stdout",
     "output_type": "stream",
     "text": [
      "<class 'pandas.core.frame.DataFrame'>\n",
      "Int64Index: 332189 entries, 0 to 332188\n",
      "Data columns (total 5 columns):\n",
      "Country / territory of asylum/residence    332189 non-null object\n",
      "Origin                                     332189 non-null object\n",
      "Year                                       332189 non-null int64\n",
      "Month                                      332189 non-null object\n",
      "Value                                      332189 non-null object\n",
      "dtypes: int64(1), object(4)\n",
      "memory usage: 15.2+ MB\n"
     ]
    }
   ],
   "source": [
    "#Deriving the basic information on the dataset\n",
    "asylum_sm.info()"
   ]
  },
  {
   "cell_type": "code",
   "execution_count": 42,
   "metadata": {},
   "outputs": [
    {
     "data": {
      "text/html": [
       "<div>\n",
       "<style scoped>\n",
       "    .dataframe tbody tr th:only-of-type {\n",
       "        vertical-align: middle;\n",
       "    }\n",
       "\n",
       "    .dataframe tbody tr th {\n",
       "        vertical-align: top;\n",
       "    }\n",
       "\n",
       "    .dataframe thead th {\n",
       "        text-align: right;\n",
       "    }\n",
       "</style>\n",
       "<table border=\"1\" class=\"dataframe\">\n",
       "  <thead>\n",
       "    <tr style=\"text-align: right;\">\n",
       "      <th></th>\n",
       "      <th>Origin</th>\n",
       "      <th>Value</th>\n",
       "    </tr>\n",
       "  </thead>\n",
       "  <tbody>\n",
       "    <tr>\n",
       "      <th>0</th>\n",
       "      <td>Afghanistan</td>\n",
       "      <td>8</td>\n",
       "    </tr>\n",
       "    <tr>\n",
       "      <th>1</th>\n",
       "      <td>Afghanistan</td>\n",
       "      <td>10</td>\n",
       "    </tr>\n",
       "    <tr>\n",
       "      <th>2</th>\n",
       "      <td>Afghanistan</td>\n",
       "      <td>25</td>\n",
       "    </tr>\n",
       "    <tr>\n",
       "      <th>3</th>\n",
       "      <td>Afghanistan</td>\n",
       "      <td>25</td>\n",
       "    </tr>\n",
       "    <tr>\n",
       "      <th>4</th>\n",
       "      <td>Afghanistan</td>\n",
       "      <td>7</td>\n",
       "    </tr>\n",
       "  </tbody>\n",
       "</table>\n",
       "</div>"
      ],
      "text/plain": [
       "        Origin Value\n",
       "0  Afghanistan     8\n",
       "1  Afghanistan    10\n",
       "2  Afghanistan    25\n",
       "3  Afghanistan    25\n",
       "4  Afghanistan     7"
      ]
     },
     "execution_count": 42,
     "metadata": {},
     "output_type": "execute_result"
    }
   ],
   "source": [
    "df1 = pd.DataFrame(assylum_sm,columns=['Origin','Value'])\n",
    "df1.head()"
   ]
  },
  {
   "cell_type": "code",
   "execution_count": 43,
   "metadata": {},
   "outputs": [],
   "source": [
    "#Fill in the rows with * with 0 and converting the value column to numeric in order to find the sum\n",
    "df1['Value']=pd.to_numeric(df1.Value, errors=\"coerce\").fillna(0).astype(int)"
   ]
  },
  {
   "cell_type": "code",
   "execution_count": 44,
   "metadata": {},
   "outputs": [
    {
     "data": {
      "text/plain": [
       "Origin    object\n",
       "Value      int32\n",
       "dtype: object"
      ]
     },
     "execution_count": 44,
     "metadata": {},
     "output_type": "execute_result"
    }
   ],
   "source": [
    "#Rechecking the datatype for Value\n",
    "df1.dtypes"
   ]
  },
  {
   "cell_type": "code",
   "execution_count": 45,
   "metadata": {},
   "outputs": [
    {
     "data": {
      "text/html": [
       "<div>\n",
       "<style scoped>\n",
       "    .dataframe tbody tr th:only-of-type {\n",
       "        vertical-align: middle;\n",
       "    }\n",
       "\n",
       "    .dataframe tbody tr th {\n",
       "        vertical-align: top;\n",
       "    }\n",
       "\n",
       "    .dataframe thead th {\n",
       "        text-align: right;\n",
       "    }\n",
       "</style>\n",
       "<table border=\"1\" class=\"dataframe\">\n",
       "  <thead>\n",
       "    <tr style=\"text-align: right;\">\n",
       "      <th></th>\n",
       "      <th>Origin</th>\n",
       "      <th>Value</th>\n",
       "    </tr>\n",
       "  </thead>\n",
       "  <tbody>\n",
       "    <tr>\n",
       "      <th>0</th>\n",
       "      <td>Syrian Arab Rep.</td>\n",
       "      <td>1027453</td>\n",
       "    </tr>\n",
       "    <tr>\n",
       "      <th>1</th>\n",
       "      <td>Afghanistan</td>\n",
       "      <td>952542</td>\n",
       "    </tr>\n",
       "    <tr>\n",
       "      <th>2</th>\n",
       "      <td>Iraq</td>\n",
       "      <td>900244</td>\n",
       "    </tr>\n",
       "    <tr>\n",
       "      <th>3</th>\n",
       "      <td>Serbia and Kosovo: S/RES/1244 (1999)</td>\n",
       "      <td>632975</td>\n",
       "    </tr>\n",
       "    <tr>\n",
       "      <th>4</th>\n",
       "      <td>China</td>\n",
       "      <td>421080</td>\n",
       "    </tr>\n",
       "    <tr>\n",
       "      <th>5</th>\n",
       "      <td>Russian Federation</td>\n",
       "      <td>398960</td>\n",
       "    </tr>\n",
       "    <tr>\n",
       "      <th>6</th>\n",
       "      <td>Iran (Islamic Rep. of)</td>\n",
       "      <td>374002</td>\n",
       "    </tr>\n",
       "    <tr>\n",
       "      <th>7</th>\n",
       "      <td>Pakistan</td>\n",
       "      <td>342790</td>\n",
       "    </tr>\n",
       "    <tr>\n",
       "      <th>8</th>\n",
       "      <td>Somalia</td>\n",
       "      <td>303382</td>\n",
       "    </tr>\n",
       "    <tr>\n",
       "      <th>9</th>\n",
       "      <td>Nigeria</td>\n",
       "      <td>285764</td>\n",
       "    </tr>\n",
       "    <tr>\n",
       "      <th>10</th>\n",
       "      <td>Eritrea</td>\n",
       "      <td>254241</td>\n",
       "    </tr>\n",
       "    <tr>\n",
       "      <th>11</th>\n",
       "      <td>Turkey</td>\n",
       "      <td>245522</td>\n",
       "    </tr>\n",
       "    <tr>\n",
       "      <th>12</th>\n",
       "      <td>Mexico</td>\n",
       "      <td>190073</td>\n",
       "    </tr>\n",
       "    <tr>\n",
       "      <th>13</th>\n",
       "      <td>Albania</td>\n",
       "      <td>189845</td>\n",
       "    </tr>\n",
       "    <tr>\n",
       "      <th>14</th>\n",
       "      <td>Sri Lanka</td>\n",
       "      <td>171598</td>\n",
       "    </tr>\n",
       "  </tbody>\n",
       "</table>\n",
       "</div>"
      ],
      "text/plain": [
       "                                  Origin    Value\n",
       "0                       Syrian Arab Rep.  1027453\n",
       "1                            Afghanistan   952542\n",
       "2                                   Iraq   900244\n",
       "3   Serbia and Kosovo: S/RES/1244 (1999)   632975\n",
       "4                                  China   421080\n",
       "5                     Russian Federation   398960\n",
       "6                 Iran (Islamic Rep. of)   374002\n",
       "7                               Pakistan   342790\n",
       "8                                Somalia   303382\n",
       "9                                Nigeria   285764\n",
       "10                               Eritrea   254241\n",
       "11                                Turkey   245522\n",
       "12                                Mexico   190073\n",
       "13                               Albania   189845\n",
       "14                             Sri Lanka   171598"
      ]
     },
     "execution_count": 45,
     "metadata": {},
     "output_type": "execute_result"
    }
   ],
   "source": [
    "#Finding the sum of Refugees from 1999-2016 based on the country of origin\n",
    "df2=df1.groupby(by=['Origin']).sum()\n",
    "df3=df2.sort_values(\"Value\", ascending=False).head(15)\n",
    "df4 = df3.reset_index()\n",
    "df4"
   ]
  },
  {
   "cell_type": "code",
   "execution_count": 48,
   "metadata": {},
   "outputs": [],
   "source": [
    "#Converting the Countries to their equivalent codes to plot on plotly\n",
    "CODE = {\n",
    "    'Syrian Arab Rep.' : 'SYR','Afghanistan': 'AFG', 'Iraq': 'IRQ', 'Serbia and Kosovo: S/RES/1244 (1999)':'SRB',\n",
    "    'China':'CHN', 'Russian Federation' : 'RUS','Iran (Islamic Rep. of)': 'IRN','Pakistan':'PAK', 'Somalia':'SOM',\n",
    "    'Nigeria':'NGA', 'Eritrea' :'ERI','Turkey':'TUR','Mexico':'MEX','Albania':'ALB', 'Sri Lanka':'LKA'\n",
    "    }"
   ]
  },
  {
   "cell_type": "code",
   "execution_count": 49,
   "metadata": {},
   "outputs": [
    {
     "data": {
      "text/html": [
       "<div>\n",
       "<style scoped>\n",
       "    .dataframe tbody tr th:only-of-type {\n",
       "        vertical-align: middle;\n",
       "    }\n",
       "\n",
       "    .dataframe tbody tr th {\n",
       "        vertical-align: top;\n",
       "    }\n",
       "\n",
       "    .dataframe thead th {\n",
       "        text-align: right;\n",
       "    }\n",
       "</style>\n",
       "<table border=\"1\" class=\"dataframe\">\n",
       "  <thead>\n",
       "    <tr style=\"text-align: right;\">\n",
       "      <th></th>\n",
       "      <th>Origin</th>\n",
       "      <th>Value</th>\n",
       "      <th>CODE</th>\n",
       "    </tr>\n",
       "  </thead>\n",
       "  <tbody>\n",
       "    <tr>\n",
       "      <th>0</th>\n",
       "      <td>Syrian Arab Rep.</td>\n",
       "      <td>1027453</td>\n",
       "      <td>SYR</td>\n",
       "    </tr>\n",
       "    <tr>\n",
       "      <th>1</th>\n",
       "      <td>Afghanistan</td>\n",
       "      <td>952542</td>\n",
       "      <td>AFG</td>\n",
       "    </tr>\n",
       "    <tr>\n",
       "      <th>2</th>\n",
       "      <td>Iraq</td>\n",
       "      <td>900244</td>\n",
       "      <td>IRQ</td>\n",
       "    </tr>\n",
       "    <tr>\n",
       "      <th>3</th>\n",
       "      <td>Serbia and Kosovo: S/RES/1244 (1999)</td>\n",
       "      <td>632975</td>\n",
       "      <td>SRB</td>\n",
       "    </tr>\n",
       "    <tr>\n",
       "      <th>4</th>\n",
       "      <td>China</td>\n",
       "      <td>421080</td>\n",
       "      <td>CHN</td>\n",
       "    </tr>\n",
       "    <tr>\n",
       "      <th>5</th>\n",
       "      <td>Russian Federation</td>\n",
       "      <td>398960</td>\n",
       "      <td>RUS</td>\n",
       "    </tr>\n",
       "    <tr>\n",
       "      <th>6</th>\n",
       "      <td>Iran (Islamic Rep. of)</td>\n",
       "      <td>374002</td>\n",
       "      <td>IRN</td>\n",
       "    </tr>\n",
       "    <tr>\n",
       "      <th>7</th>\n",
       "      <td>Pakistan</td>\n",
       "      <td>342790</td>\n",
       "      <td>PAK</td>\n",
       "    </tr>\n",
       "    <tr>\n",
       "      <th>8</th>\n",
       "      <td>Somalia</td>\n",
       "      <td>303382</td>\n",
       "      <td>SOM</td>\n",
       "    </tr>\n",
       "    <tr>\n",
       "      <th>9</th>\n",
       "      <td>Nigeria</td>\n",
       "      <td>285764</td>\n",
       "      <td>NGA</td>\n",
       "    </tr>\n",
       "    <tr>\n",
       "      <th>10</th>\n",
       "      <td>Eritrea</td>\n",
       "      <td>254241</td>\n",
       "      <td>ERI</td>\n",
       "    </tr>\n",
       "    <tr>\n",
       "      <th>11</th>\n",
       "      <td>Turkey</td>\n",
       "      <td>245522</td>\n",
       "      <td>TUR</td>\n",
       "    </tr>\n",
       "    <tr>\n",
       "      <th>12</th>\n",
       "      <td>Mexico</td>\n",
       "      <td>190073</td>\n",
       "      <td>MEX</td>\n",
       "    </tr>\n",
       "    <tr>\n",
       "      <th>13</th>\n",
       "      <td>Albania</td>\n",
       "      <td>189845</td>\n",
       "      <td>ALB</td>\n",
       "    </tr>\n",
       "    <tr>\n",
       "      <th>14</th>\n",
       "      <td>Sri Lanka</td>\n",
       "      <td>171598</td>\n",
       "      <td>LKA</td>\n",
       "    </tr>\n",
       "  </tbody>\n",
       "</table>\n",
       "</div>"
      ],
      "text/plain": [
       "                                  Origin    Value CODE\n",
       "0                       Syrian Arab Rep.  1027453  SYR\n",
       "1                            Afghanistan   952542  AFG\n",
       "2                                   Iraq   900244  IRQ\n",
       "3   Serbia and Kosovo: S/RES/1244 (1999)   632975  SRB\n",
       "4                                  China   421080  CHN\n",
       "5                     Russian Federation   398960  RUS\n",
       "6                 Iran (Islamic Rep. of)   374002  IRN\n",
       "7                               Pakistan   342790  PAK\n",
       "8                                Somalia   303382  SOM\n",
       "9                                Nigeria   285764  NGA\n",
       "10                               Eritrea   254241  ERI\n",
       "11                                Turkey   245522  TUR\n",
       "12                                Mexico   190073  MEX\n",
       "13                               Albania   189845  ALB\n",
       "14                             Sri Lanka   171598  LKA"
      ]
     },
     "execution_count": 49,
     "metadata": {},
     "output_type": "execute_result"
    }
   ],
   "source": [
    "#Assigning the above mentioned code as a column to each Country\n",
    "df4['CODE'] = df4['Origin'].apply(lambda x : CODE[x])\n",
    "df4"
   ]
  },
  {
   "cell_type": "code",
   "execution_count": 50,
   "metadata": {},
   "outputs": [
    {
     "data": {
      "application/vnd.plotly.v1+json": {
       "config": {
        "linkText": "Export to plot.ly",
        "plotlyServerURL": "https://plot.ly",
        "showLink": false
       },
       "data": [
        {
         "autocolorscale": false,
         "colorbar": {
          "title": {
           "text": "Number of Refugees"
          }
         },
         "colorscale": [
          [
           0,
           "rgb(5, 10, 172)"
          ]
         ],
         "locations": [
          "SYR",
          "AFG",
          "IRQ",
          "SRB",
          "CHN",
          "RUS",
          "IRN",
          "PAK",
          "SOM",
          "NGA",
          "ERI",
          "TUR",
          "MEX",
          "ALB",
          "LKA"
         ],
         "marker": {
          "line": {
           "color": "rgb(255,255,255)",
           "width": 2
          }
         },
         "text": [
          "Syrian Arab Rep.",
          "Afghanistan",
          "Iraq",
          "Serbia and Kosovo: S/RES/1244 (1999)",
          "China",
          "Russian Federation",
          "Iran (Islamic Rep. of)",
          "Pakistan",
          "Somalia",
          "Nigeria",
          "Eritrea",
          "Turkey",
          "Mexico",
          "Albania",
          "Sri Lanka"
         ],
         "type": "choropleth",
         "uid": "498f7c03-43e8-4fbe-b07f-c8124937c079",
         "z": [
          1027453,
          952542,
          900244,
          632975,
          421080,
          398960,
          374002,
          342790,
          303382,
          285764,
          254241,
          245522,
          190073,
          189845,
          171598
         ]
        }
       ],
       "layout": {
        "geo": {
         "projection": {
          "type": "robinson"
         },
         "scope": "world",
         "showlakes": false
        },
        "title": {
         "text": "Refugees based on their Country of Origin"
        }
       }
      },
      "text/html": [
       "<div id=\"b531f836-3fe7-4a7e-9cb2-6289d6a65794\" style=\"height: 525px; width: 100%;\" class=\"plotly-graph-div\"></div><script type=\"text/javascript\">require([\"plotly\"], function(Plotly) { window.PLOTLYENV=window.PLOTLYENV || {};window.PLOTLYENV.BASE_URL=\"https://plot.ly\";\n",
       "if (document.getElementById(\"b531f836-3fe7-4a7e-9cb2-6289d6a65794\")) {\n",
       "    Plotly.newPlot(\"b531f836-3fe7-4a7e-9cb2-6289d6a65794\", [{\"autocolorscale\": false, \"colorbar\": {\"title\": {\"text\": \"Number of Refugees\"}}, \"colorscale\": [[0, \"rgb(5, 10, 172)\"]], \"locations\": [\"SYR\", \"AFG\", \"IRQ\", \"SRB\", \"CHN\", \"RUS\", \"IRN\", \"PAK\", \"SOM\", \"NGA\", \"ERI\", \"TUR\", \"MEX\", \"ALB\", \"LKA\"], \"marker\": {\"line\": {\"color\": \"rgb(255,255,255)\", \"width\": 2}}, \"text\": [\"Syrian Arab Rep.\", \"Afghanistan\", \"Iraq\", \"Serbia and Kosovo: S/RES/1244 (1999)\", \"China\", \"Russian Federation\", \"Iran (Islamic Rep. of)\", \"Pakistan\", \"Somalia\", \"Nigeria\", \"Eritrea\", \"Turkey\", \"Mexico\", \"Albania\", \"Sri Lanka\"], \"z\": [1027453, 952542, 900244, 632975, 421080, 398960, 374002, 342790, 303382, 285764, 254241, 245522, 190073, 189845, 171598], \"type\": \"choropleth\", \"uid\": \"14c213b4-a297-4df9-bf66-20f68cb1ce1c\"}], {\"geo\": {\"projection\": {\"type\": \"robinson\"}, \"scope\": \"world\", \"showlakes\": false}, \"title\": {\"text\": \"Refugees based on their Country of Origin\"}}, {\"showLink\": false, \"linkText\": \"Export to plot.ly\", \"plotlyServerURL\": \"https://plot.ly\"}); \n",
       "}\n",
       "});</script><script type=\"text/javascript\">window.addEventListener(\"resize\", function(){if (document.getElementById(\"b531f836-3fe7-4a7e-9cb2-6289d6a65794\")) {window._Plotly.Plots.resize(document.getElementById(\"b531f836-3fe7-4a7e-9cb2-6289d6a65794\"));};})</script>"
      ],
      "text/vnd.plotly.v1+html": [
       "<div id=\"b531f836-3fe7-4a7e-9cb2-6289d6a65794\" style=\"height: 525px; width: 100%;\" class=\"plotly-graph-div\"></div><script type=\"text/javascript\">require([\"plotly\"], function(Plotly) { window.PLOTLYENV=window.PLOTLYENV || {};window.PLOTLYENV.BASE_URL=\"https://plot.ly\";\n",
       "if (document.getElementById(\"b531f836-3fe7-4a7e-9cb2-6289d6a65794\")) {\n",
       "    Plotly.newPlot(\"b531f836-3fe7-4a7e-9cb2-6289d6a65794\", [{\"autocolorscale\": false, \"colorbar\": {\"title\": {\"text\": \"Number of Refugees\"}}, \"colorscale\": [[0, \"rgb(5, 10, 172)\"]], \"locations\": [\"SYR\", \"AFG\", \"IRQ\", \"SRB\", \"CHN\", \"RUS\", \"IRN\", \"PAK\", \"SOM\", \"NGA\", \"ERI\", \"TUR\", \"MEX\", \"ALB\", \"LKA\"], \"marker\": {\"line\": {\"color\": \"rgb(255,255,255)\", \"width\": 2}}, \"text\": [\"Syrian Arab Rep.\", \"Afghanistan\", \"Iraq\", \"Serbia and Kosovo: S/RES/1244 (1999)\", \"China\", \"Russian Federation\", \"Iran (Islamic Rep. of)\", \"Pakistan\", \"Somalia\", \"Nigeria\", \"Eritrea\", \"Turkey\", \"Mexico\", \"Albania\", \"Sri Lanka\"], \"z\": [1027453, 952542, 900244, 632975, 421080, 398960, 374002, 342790, 303382, 285764, 254241, 245522, 190073, 189845, 171598], \"type\": \"choropleth\", \"uid\": \"14c213b4-a297-4df9-bf66-20f68cb1ce1c\"}], {\"geo\": {\"projection\": {\"type\": \"robinson\"}, \"scope\": \"world\", \"showlakes\": false}, \"title\": {\"text\": \"Refugees based on their Country of Origin\"}}, {\"showLink\": false, \"linkText\": \"Export to plot.ly\", \"plotlyServerURL\": \"https://plot.ly\"}); \n",
       "}\n",
       "});</script><script type=\"text/javascript\">window.addEventListener(\"resize\", function(){if (document.getElementById(\"b531f836-3fe7-4a7e-9cb2-6289d6a65794\")) {window._Plotly.Plots.resize(document.getElementById(\"b531f836-3fe7-4a7e-9cb2-6289d6a65794\"));};})</script>"
      ]
     },
     "metadata": {},
     "output_type": "display_data"
    }
   ],
   "source": [
    "#World Map(Using Plotly) showing the top 15 countries with the hishest numbe rof refugees based on their Country of Origin\n",
    "scl =  [0, \"rgb(5, 10, 172)\"],\n",
    "[0.35, \"rgb(40, 60, 190)\"],\n",
    "[0.5, \"rgb(70, 100, 245)\"],\n",
    "[0.6, \"rgb(90, 120, 245)\"],\n",
    "[0.7, \"rgb(106, 137, 247)\"],\n",
    "[1, \"rgb(220, 220, 220)\"],\n",
    "\n",
    "data = [ dict(\n",
    "        type='choropleth',\n",
    "        colorscale = scl,\n",
    "        autocolorscale = False,\n",
    "        locations = df4['CODE'],\n",
    "        z = df4['Value'],\n",
    "        text = df4['Origin'],\n",
    "        marker = dict(\n",
    "            line = dict (\n",
    "                color = 'rgb(255,255,255)',\n",
    "                width = 2\n",
    "            ) ),\n",
    "        colorbar = dict(\n",
    "            title = \"Number of Refugees\")\n",
    "        ) ]\n",
    "\n",
    "layout = dict(\n",
    "        title = 'Refugees based on their Country of Origin',\n",
    "        geo = dict(\n",
    "            scope='world',\n",
    "            projection=dict( type='robinson' ),\n",
    "            showlakes = False))\n",
    "    \n",
    "fig = dict( data=data, layout=layout )\n",
    "iplot( fig )"
   ]
  },
  {
   "cell_type": "code",
   "execution_count": 51,
   "metadata": {},
   "outputs": [
    {
     "data": {
      "text/html": [
       "<div>\n",
       "<style scoped>\n",
       "    .dataframe tbody tr th:only-of-type {\n",
       "        vertical-align: middle;\n",
       "    }\n",
       "\n",
       "    .dataframe tbody tr th {\n",
       "        vertical-align: top;\n",
       "    }\n",
       "\n",
       "    .dataframe thead th {\n",
       "        text-align: right;\n",
       "    }\n",
       "</style>\n",
       "<table border=\"1\" class=\"dataframe\">\n",
       "  <thead>\n",
       "    <tr style=\"text-align: right;\">\n",
       "      <th></th>\n",
       "      <th>Year</th>\n",
       "      <th>Value</th>\n",
       "    </tr>\n",
       "  </thead>\n",
       "  <tbody>\n",
       "    <tr>\n",
       "      <th>0</th>\n",
       "      <td>1999</td>\n",
       "      <td>8</td>\n",
       "    </tr>\n",
       "    <tr>\n",
       "      <th>1</th>\n",
       "      <td>1999</td>\n",
       "      <td>10</td>\n",
       "    </tr>\n",
       "    <tr>\n",
       "      <th>2</th>\n",
       "      <td>1999</td>\n",
       "      <td>25</td>\n",
       "    </tr>\n",
       "    <tr>\n",
       "      <th>3</th>\n",
       "      <td>1999</td>\n",
       "      <td>25</td>\n",
       "    </tr>\n",
       "    <tr>\n",
       "      <th>4</th>\n",
       "      <td>1999</td>\n",
       "      <td>7</td>\n",
       "    </tr>\n",
       "  </tbody>\n",
       "</table>\n",
       "</div>"
      ],
      "text/plain": [
       "   Year Value\n",
       "0  1999     8\n",
       "1  1999    10\n",
       "2  1999    25\n",
       "3  1999    25\n",
       "4  1999     7"
      ]
     },
     "execution_count": 51,
     "metadata": {},
     "output_type": "execute_result"
    }
   ],
   "source": [
    "df7 = pd.DataFrame(assylum_sm,columns=['Year', 'Value',])\n",
    "df7.head()"
   ]
  },
  {
   "cell_type": "code",
   "execution_count": 52,
   "metadata": {},
   "outputs": [
    {
     "data": {
      "text/html": [
       "<div>\n",
       "<style scoped>\n",
       "    .dataframe tbody tr th:only-of-type {\n",
       "        vertical-align: middle;\n",
       "    }\n",
       "\n",
       "    .dataframe tbody tr th {\n",
       "        vertical-align: top;\n",
       "    }\n",
       "\n",
       "    .dataframe thead th {\n",
       "        text-align: right;\n",
       "    }\n",
       "</style>\n",
       "<table border=\"1\" class=\"dataframe\">\n",
       "  <thead>\n",
       "    <tr style=\"text-align: right;\">\n",
       "      <th></th>\n",
       "      <th>Year</th>\n",
       "      <th>Value</th>\n",
       "    </tr>\n",
       "  </thead>\n",
       "  <tbody>\n",
       "    <tr>\n",
       "      <th>0</th>\n",
       "      <td>1999</td>\n",
       "      <td>8</td>\n",
       "    </tr>\n",
       "    <tr>\n",
       "      <th>1</th>\n",
       "      <td>1999</td>\n",
       "      <td>10</td>\n",
       "    </tr>\n",
       "    <tr>\n",
       "      <th>2</th>\n",
       "      <td>1999</td>\n",
       "      <td>25</td>\n",
       "    </tr>\n",
       "    <tr>\n",
       "      <th>3</th>\n",
       "      <td>1999</td>\n",
       "      <td>25</td>\n",
       "    </tr>\n",
       "    <tr>\n",
       "      <th>4</th>\n",
       "      <td>1999</td>\n",
       "      <td>7</td>\n",
       "    </tr>\n",
       "  </tbody>\n",
       "</table>\n",
       "</div>"
      ],
      "text/plain": [
       "   Year Value\n",
       "0  1999     8\n",
       "1  1999    10\n",
       "2  1999    25\n",
       "3  1999    25\n",
       "4  1999     7"
      ]
     },
     "execution_count": 52,
     "metadata": {},
     "output_type": "execute_result"
    }
   ],
   "source": [
    "Ref = pd.DataFrame(assylum_sm,columns=['Year','Value'])\n",
    "Ref.head()"
   ]
  },
  {
   "cell_type": "code",
   "execution_count": 53,
   "metadata": {},
   "outputs": [],
   "source": [
    "Ref['Value']=pd.to_numeric(Ref.Value, errors=\"coerce\").fillna(0)"
   ]
  },
  {
   "cell_type": "code",
   "execution_count": 54,
   "metadata": {},
   "outputs": [],
   "source": [
    "#Trend in Refugees over the years\n",
    "Ref=Ref.groupby(by=['Year']).sum()\n",
    "Ref=Ref.reset_index()"
   ]
  },
  {
   "cell_type": "code",
   "execution_count": 55,
   "metadata": {},
   "outputs": [
    {
     "data": {
      "text/html": [
       "<div>\n",
       "<style scoped>\n",
       "    .dataframe tbody tr th:only-of-type {\n",
       "        vertical-align: middle;\n",
       "    }\n",
       "\n",
       "    .dataframe tbody tr th {\n",
       "        vertical-align: top;\n",
       "    }\n",
       "\n",
       "    .dataframe thead th {\n",
       "        text-align: right;\n",
       "    }\n",
       "</style>\n",
       "<table border=\"1\" class=\"dataframe\">\n",
       "  <thead>\n",
       "    <tr style=\"text-align: right;\">\n",
       "      <th></th>\n",
       "      <th>Year</th>\n",
       "      <th>Value</th>\n",
       "    </tr>\n",
       "  </thead>\n",
       "  <tbody>\n",
       "    <tr>\n",
       "      <th>12</th>\n",
       "      <td>2011</td>\n",
       "      <td>432473.0</td>\n",
       "    </tr>\n",
       "    <tr>\n",
       "      <th>13</th>\n",
       "      <td>2012</td>\n",
       "      <td>475645.0</td>\n",
       "    </tr>\n",
       "    <tr>\n",
       "      <th>14</th>\n",
       "      <td>2013</td>\n",
       "      <td>580799.0</td>\n",
       "    </tr>\n",
       "    <tr>\n",
       "      <th>15</th>\n",
       "      <td>2014</td>\n",
       "      <td>834773.0</td>\n",
       "    </tr>\n",
       "    <tr>\n",
       "      <th>16</th>\n",
       "      <td>2015</td>\n",
       "      <td>1646296.0</td>\n",
       "    </tr>\n",
       "  </tbody>\n",
       "</table>\n",
       "</div>"
      ],
      "text/plain": [
       "    Year      Value\n",
       "12  2011   432473.0\n",
       "13  2012   475645.0\n",
       "14  2013   580799.0\n",
       "15  2014   834773.0\n",
       "16  2015  1646296.0"
      ]
     },
     "execution_count": 55,
     "metadata": {},
     "output_type": "execute_result"
    }
   ],
   "source": [
    "#Dropping the year 2016 and 2017 as the data stops in the month of May\n",
    "Ref = Ref.drop(Ref[Ref.Year > 2015].index)\n",
    "Ref.tail()"
   ]
  },
  {
   "cell_type": "code",
   "execution_count": 56,
   "metadata": {},
   "outputs": [
    {
     "data": {
      "application/vnd.plotly.v1+json": {
       "config": {
        "linkText": "Export to plot.ly",
        "plotlyServerURL": "https://plot.ly",
        "showLink": false
       },
       "data": [
        {
         "type": "scatter",
         "uid": "f736f9e6-87c9-4067-ac8a-5017f32fdb2d",
         "x": [
          1999,
          2000,
          2001,
          2002,
          2003,
          2004,
          2005,
          2006,
          2007,
          2008,
          2009,
          2010,
          2011,
          2012,
          2013,
          2014,
          2015
         ],
         "y": [
          477816,
          535038,
          584609,
          565325,
          470733,
          368640,
          308989,
          278737,
          305771,
          363812,
          368720,
          354657,
          432473,
          475645,
          580799,
          834773,
          1646296
         ]
        }
       ],
       "layout": {
        "title": {
         "text": "Trend in Refugees between 1999-2016"
        },
        "xaxis": {
         "title": {
          "text": "Years"
         }
        },
        "yaxis": {
         "title": {
          "text": "Number of applications"
         }
        }
       }
      },
      "text/html": [
       "<div id=\"a67c9fe4-8d86-4bc8-ba63-cab4b693d85c\" style=\"height: 525px; width: 100%;\" class=\"plotly-graph-div\"></div><script type=\"text/javascript\">require([\"plotly\"], function(Plotly) { window.PLOTLYENV=window.PLOTLYENV || {};window.PLOTLYENV.BASE_URL=\"https://plot.ly\";\n",
       "if (document.getElementById(\"a67c9fe4-8d86-4bc8-ba63-cab4b693d85c\")) {\n",
       "    Plotly.newPlot(\"a67c9fe4-8d86-4bc8-ba63-cab4b693d85c\", [{\"x\": [1999, 2000, 2001, 2002, 2003, 2004, 2005, 2006, 2007, 2008, 2009, 2010, 2011, 2012, 2013, 2014, 2015], \"y\": [477816.0, 535038.0, 584609.0, 565325.0, 470733.0, 368640.0, 308989.0, 278737.0, 305771.0, 363812.0, 368720.0, 354657.0, 432473.0, 475645.0, 580799.0, 834773.0, 1646296.0], \"type\": \"scatter\", \"uid\": \"f736f9e6-87c9-4067-ac8a-5017f32fdb2d\"}], {\"title\": {\"text\": \"Trend in Refugees between 1999-2016\"}, \"xaxis\": {\"title\": {\"text\": \"Years\"}}, \"yaxis\": {\"title\": {\"text\": \"Number of applications\"}}}, {\"showLink\": false, \"linkText\": \"Export to plot.ly\", \"plotlyServerURL\": \"https://plot.ly\"}); \n",
       "}\n",
       "});</script><script type=\"text/javascript\">window.addEventListener(\"resize\", function(){if (document.getElementById(\"a67c9fe4-8d86-4bc8-ba63-cab4b693d85c\")) {window._Plotly.Plots.resize(document.getElementById(\"a67c9fe4-8d86-4bc8-ba63-cab4b693d85c\"));};})</script>"
      ],
      "text/vnd.plotly.v1+html": [
       "<div id=\"a67c9fe4-8d86-4bc8-ba63-cab4b693d85c\" style=\"height: 525px; width: 100%;\" class=\"plotly-graph-div\"></div><script type=\"text/javascript\">require([\"plotly\"], function(Plotly) { window.PLOTLYENV=window.PLOTLYENV || {};window.PLOTLYENV.BASE_URL=\"https://plot.ly\";\n",
       "if (document.getElementById(\"a67c9fe4-8d86-4bc8-ba63-cab4b693d85c\")) {\n",
       "    Plotly.newPlot(\"a67c9fe4-8d86-4bc8-ba63-cab4b693d85c\", [{\"x\": [1999, 2000, 2001, 2002, 2003, 2004, 2005, 2006, 2007, 2008, 2009, 2010, 2011, 2012, 2013, 2014, 2015], \"y\": [477816.0, 535038.0, 584609.0, 565325.0, 470733.0, 368640.0, 308989.0, 278737.0, 305771.0, 363812.0, 368720.0, 354657.0, 432473.0, 475645.0, 580799.0, 834773.0, 1646296.0], \"type\": \"scatter\", \"uid\": \"f736f9e6-87c9-4067-ac8a-5017f32fdb2d\"}], {\"title\": {\"text\": \"Trend in Refugees between 1999-2016\"}, \"xaxis\": {\"title\": {\"text\": \"Years\"}}, \"yaxis\": {\"title\": {\"text\": \"Number of applications\"}}}, {\"showLink\": false, \"linkText\": \"Export to plot.ly\", \"plotlyServerURL\": \"https://plot.ly\"}); \n",
       "}\n",
       "});</script><script type=\"text/javascript\">window.addEventListener(\"resize\", function(){if (document.getElementById(\"a67c9fe4-8d86-4bc8-ba63-cab4b693d85c\")) {window._Plotly.Plots.resize(document.getElementById(\"a67c9fe4-8d86-4bc8-ba63-cab4b693d85c\"));};})</script>"
      ]
     },
     "metadata": {},
     "output_type": "display_data"
    }
   ],
   "source": [
    "#Using plotly to plot the Trend in Refugees between 1999-2015\n",
    "Plot = []\n",
    "\n",
    "Plot.append(go.Scatter(x = Ref.Year,y= Ref.Value))\n",
    "\n",
    "layout = go.Layout(dict(title= \"Trend in Refugees between 1999-2016\",xaxis=dict(title=\"Years\"),\n",
    "                        yaxis=dict(title=\"Number of applications\")))\n",
    "Lineplot = go.Figure(Plot,layout)    \n",
    "iplot(Lineplot)    "
   ]
  },
  {
   "cell_type": "code",
   "execution_count": 57,
   "metadata": {},
   "outputs": [
    {
     "data": {
      "text/html": [
       "<div>\n",
       "<style scoped>\n",
       "    .dataframe tbody tr th:only-of-type {\n",
       "        vertical-align: middle;\n",
       "    }\n",
       "\n",
       "    .dataframe tbody tr th {\n",
       "        vertical-align: top;\n",
       "    }\n",
       "\n",
       "    .dataframe thead th {\n",
       "        text-align: right;\n",
       "    }\n",
       "</style>\n",
       "<table border=\"1\" class=\"dataframe\">\n",
       "  <thead>\n",
       "    <tr style=\"text-align: right;\">\n",
       "      <th></th>\n",
       "      <th>Origin</th>\n",
       "      <th>Year</th>\n",
       "      <th>Value</th>\n",
       "    </tr>\n",
       "  </thead>\n",
       "  <tbody>\n",
       "    <tr>\n",
       "      <th>0</th>\n",
       "      <td>Afghanistan</td>\n",
       "      <td>1999</td>\n",
       "      <td>8</td>\n",
       "    </tr>\n",
       "    <tr>\n",
       "      <th>1</th>\n",
       "      <td>Afghanistan</td>\n",
       "      <td>1999</td>\n",
       "      <td>10</td>\n",
       "    </tr>\n",
       "    <tr>\n",
       "      <th>2</th>\n",
       "      <td>Afghanistan</td>\n",
       "      <td>1999</td>\n",
       "      <td>25</td>\n",
       "    </tr>\n",
       "    <tr>\n",
       "      <th>3</th>\n",
       "      <td>Afghanistan</td>\n",
       "      <td>1999</td>\n",
       "      <td>25</td>\n",
       "    </tr>\n",
       "    <tr>\n",
       "      <th>4</th>\n",
       "      <td>Afghanistan</td>\n",
       "      <td>1999</td>\n",
       "      <td>7</td>\n",
       "    </tr>\n",
       "  </tbody>\n",
       "</table>\n",
       "</div>"
      ],
      "text/plain": [
       "        Origin  Year Value\n",
       "0  Afghanistan  1999     8\n",
       "1  Afghanistan  1999    10\n",
       "2  Afghanistan  1999    25\n",
       "3  Afghanistan  1999    25\n",
       "4  Afghanistan  1999     7"
      ]
     },
     "execution_count": 57,
     "metadata": {},
     "output_type": "execute_result"
    }
   ],
   "source": [
    "#Shortlisting the columns to Origin, Year and Value and making Origin the index column\n",
    "Spec=assylum_sm.loc[:, ['Origin','Year', 'Value']]\n",
    "Spec.head()"
   ]
  },
  {
   "cell_type": "code",
   "execution_count": 58,
   "metadata": {},
   "outputs": [],
   "source": [
    "Spec = Spec.drop(Spec[Spec.Year > 2015].index)"
   ]
  },
  {
   "cell_type": "code",
   "execution_count": 59,
   "metadata": {},
   "outputs": [
    {
     "data": {
      "text/html": [
       "<div>\n",
       "<style scoped>\n",
       "    .dataframe tbody tr th:only-of-type {\n",
       "        vertical-align: middle;\n",
       "    }\n",
       "\n",
       "    .dataframe tbody tr th {\n",
       "        vertical-align: top;\n",
       "    }\n",
       "\n",
       "    .dataframe thead th {\n",
       "        text-align: right;\n",
       "    }\n",
       "</style>\n",
       "<table border=\"1\" class=\"dataframe\">\n",
       "  <thead>\n",
       "    <tr style=\"text-align: right;\">\n",
       "      <th></th>\n",
       "      <th>Year</th>\n",
       "      <th>Value</th>\n",
       "    </tr>\n",
       "    <tr>\n",
       "      <th>Origin</th>\n",
       "      <th></th>\n",
       "      <th></th>\n",
       "    </tr>\n",
       "  </thead>\n",
       "  <tbody>\n",
       "    <tr>\n",
       "      <th>Zimbabwe</th>\n",
       "      <td>2015</td>\n",
       "      <td>12</td>\n",
       "    </tr>\n",
       "    <tr>\n",
       "      <th>Zimbabwe</th>\n",
       "      <td>2015</td>\n",
       "      <td>9</td>\n",
       "    </tr>\n",
       "    <tr>\n",
       "      <th>Zimbabwe</th>\n",
       "      <td>2015</td>\n",
       "      <td>6</td>\n",
       "    </tr>\n",
       "    <tr>\n",
       "      <th>Zimbabwe</th>\n",
       "      <td>2015</td>\n",
       "      <td>9</td>\n",
       "    </tr>\n",
       "    <tr>\n",
       "      <th>Zimbabwe</th>\n",
       "      <td>2015</td>\n",
       "      <td>14</td>\n",
       "    </tr>\n",
       "  </tbody>\n",
       "</table>\n",
       "</div>"
      ],
      "text/plain": [
       "          Year Value\n",
       "Origin              \n",
       "Zimbabwe  2015    12\n",
       "Zimbabwe  2015     9\n",
       "Zimbabwe  2015     6\n",
       "Zimbabwe  2015     9\n",
       "Zimbabwe  2015    14"
      ]
     },
     "execution_count": 59,
     "metadata": {},
     "output_type": "execute_result"
    }
   ],
   "source": [
    "Spec1=Spec.set_index('Origin')\n",
    "Spec1.tail()"
   ]
  },
  {
   "cell_type": "code",
   "execution_count": 60,
   "metadata": {},
   "outputs": [
    {
     "data": {
      "text/plain": [
       "Year     int64\n",
       "Value    int32\n",
       "dtype: object"
      ]
     },
     "execution_count": 60,
     "metadata": {},
     "output_type": "execute_result"
    }
   ],
   "source": [
    "Spec1['Value']=pd.to_numeric(Spec1.Value, errors=\"coerce\").fillna(0).astype(int)\n",
    "Spec1.dtypes"
   ]
  },
  {
   "cell_type": "code",
   "execution_count": 61,
   "metadata": {},
   "outputs": [
    {
     "data": {
      "text/plain": [
       "Origin\n",
       "Afghanistan         695810\n",
       "Iraq                716940\n",
       "Syrian Arab Rep.    674542\n",
       "Name: Value, dtype: int32"
      ]
     },
     "execution_count": 61,
     "metadata": {},
     "output_type": "execute_result"
    }
   ],
   "source": [
    "Spec21= Spec1.loc[[\"Afghanistan\",\"Iraq\",\"Syrian Arab Rep.\"]]\n",
    "Spec22=Spec21.groupby(by=['Origin'])['Value'].sum()\n",
    "Spec22"
   ]
  },
  {
   "cell_type": "code",
   "execution_count": 62,
   "metadata": {},
   "outputs": [
    {
     "data": {
      "application/vnd.plotly.v1+json": {
       "config": {
        "linkText": "Export to plot.ly",
        "plotlyServerURL": "https://plot.ly",
        "showLink": false
       },
       "data": [
        {
         "labels": [
          "Afghanistan",
          "Iraq",
          "Syria"
         ],
         "type": "pie",
         "uid": "daf4e18a-81be-4c35-840f-1360d453473e",
         "values": [
          952542,
          900244,
          1027453
         ]
        }
       ],
       "layout": {}
      },
      "text/html": [
       "<div id=\"77962ff8-6ad5-4bbc-94fc-19b6b6382ce7\" style=\"height: 525px; width: 100%;\" class=\"plotly-graph-div\"></div><script type=\"text/javascript\">require([\"plotly\"], function(Plotly) { window.PLOTLYENV=window.PLOTLYENV || {};window.PLOTLYENV.BASE_URL=\"https://plot.ly\";\n",
       "if (document.getElementById(\"77962ff8-6ad5-4bbc-94fc-19b6b6382ce7\")) {\n",
       "    Plotly.newPlot(\"77962ff8-6ad5-4bbc-94fc-19b6b6382ce7\", [{\"labels\": [\"Afghanistan\", \"Iraq\", \"Syria\"], \"values\": [952542, 900244, 1027453], \"type\": \"pie\", \"uid\": \"bd84fcf1-4270-4bad-a192-c81fd93fc34d\"}], {}, {\"showLink\": false, \"linkText\": \"Export to plot.ly\", \"plotlyServerURL\": \"https://plot.ly\"}); \n",
       "}\n",
       "});</script><script type=\"text/javascript\">window.addEventListener(\"resize\", function(){if (document.getElementById(\"77962ff8-6ad5-4bbc-94fc-19b6b6382ce7\")) {window._Plotly.Plots.resize(document.getElementById(\"77962ff8-6ad5-4bbc-94fc-19b6b6382ce7\"));};})</script>"
      ],
      "text/vnd.plotly.v1+html": [
       "<div id=\"77962ff8-6ad5-4bbc-94fc-19b6b6382ce7\" style=\"height: 525px; width: 100%;\" class=\"plotly-graph-div\"></div><script type=\"text/javascript\">require([\"plotly\"], function(Plotly) { window.PLOTLYENV=window.PLOTLYENV || {};window.PLOTLYENV.BASE_URL=\"https://plot.ly\";\n",
       "if (document.getElementById(\"77962ff8-6ad5-4bbc-94fc-19b6b6382ce7\")) {\n",
       "    Plotly.newPlot(\"77962ff8-6ad5-4bbc-94fc-19b6b6382ce7\", [{\"labels\": [\"Afghanistan\", \"Iraq\", \"Syria\"], \"values\": [952542, 900244, 1027453], \"type\": \"pie\", \"uid\": \"bd84fcf1-4270-4bad-a192-c81fd93fc34d\"}], {}, {\"showLink\": false, \"linkText\": \"Export to plot.ly\", \"plotlyServerURL\": \"https://plot.ly\"}); \n",
       "}\n",
       "});</script><script type=\"text/javascript\">window.addEventListener(\"resize\", function(){if (document.getElementById(\"77962ff8-6ad5-4bbc-94fc-19b6b6382ce7\")) {window._Plotly.Plots.resize(document.getElementById(\"77962ff8-6ad5-4bbc-94fc-19b6b6382ce7\"));};})</script>"
      ]
     },
     "metadata": {},
     "output_type": "display_data"
    }
   ],
   "source": [
    "#Using Plotly to find the percentage difference between the top 3 refugee-seeking countries(BASED ON THE WORLD MAP)\n",
    "labels = ['Afghanistan','Iraq','Syria']\n",
    "values = [952542,900244,1027453]\n",
    "\n",
    "trace = go.Pie(labels=labels, values=values)\n",
    "\n",
    "py.iplot([trace])"
   ]
  },
  {
   "cell_type": "code",
   "execution_count": 63,
   "metadata": {},
   "outputs": [],
   "source": [
    "Spec2= Spec1.loc[[\"Afghanistan\"]]\n",
    "Spec3=Spec1.loc[[\"Syrian Arab Rep.\"]]"
   ]
  },
  {
   "cell_type": "code",
   "execution_count": 64,
   "metadata": {},
   "outputs": [
    {
     "data": {
      "text/html": [
       "<div>\n",
       "<style scoped>\n",
       "    .dataframe tbody tr th:only-of-type {\n",
       "        vertical-align: middle;\n",
       "    }\n",
       "\n",
       "    .dataframe tbody tr th {\n",
       "        vertical-align: top;\n",
       "    }\n",
       "\n",
       "    .dataframe thead th {\n",
       "        text-align: right;\n",
       "    }\n",
       "</style>\n",
       "<table border=\"1\" class=\"dataframe\">\n",
       "  <thead>\n",
       "    <tr style=\"text-align: right;\">\n",
       "      <th></th>\n",
       "      <th>Year</th>\n",
       "      <th>Value</th>\n",
       "    </tr>\n",
       "  </thead>\n",
       "  <tbody>\n",
       "    <tr>\n",
       "      <th>0</th>\n",
       "      <td>1999</td>\n",
       "      <td>25053</td>\n",
       "    </tr>\n",
       "    <tr>\n",
       "      <th>1</th>\n",
       "      <td>2000</td>\n",
       "      <td>31609</td>\n",
       "    </tr>\n",
       "    <tr>\n",
       "      <th>2</th>\n",
       "      <td>2001</td>\n",
       "      <td>53203</td>\n",
       "    </tr>\n",
       "    <tr>\n",
       "      <th>3</th>\n",
       "      <td>2002</td>\n",
       "      <td>26498</td>\n",
       "    </tr>\n",
       "    <tr>\n",
       "      <th>4</th>\n",
       "      <td>2003</td>\n",
       "      <td>14308</td>\n",
       "    </tr>\n",
       "    <tr>\n",
       "      <th>5</th>\n",
       "      <td>2004</td>\n",
       "      <td>9199</td>\n",
       "    </tr>\n",
       "    <tr>\n",
       "      <th>6</th>\n",
       "      <td>2005</td>\n",
       "      <td>8106</td>\n",
       "    </tr>\n",
       "    <tr>\n",
       "      <th>7</th>\n",
       "      <td>2006</td>\n",
       "      <td>8653</td>\n",
       "    </tr>\n",
       "    <tr>\n",
       "      <th>8</th>\n",
       "      <td>2007</td>\n",
       "      <td>9293</td>\n",
       "    </tr>\n",
       "    <tr>\n",
       "      <th>9</th>\n",
       "      <td>2008</td>\n",
       "      <td>18436</td>\n",
       "    </tr>\n",
       "    <tr>\n",
       "      <th>10</th>\n",
       "      <td>2009</td>\n",
       "      <td>27102</td>\n",
       "    </tr>\n",
       "    <tr>\n",
       "      <th>11</th>\n",
       "      <td>2010</td>\n",
       "      <td>26570</td>\n",
       "    </tr>\n",
       "    <tr>\n",
       "      <th>12</th>\n",
       "      <td>2011</td>\n",
       "      <td>36356</td>\n",
       "    </tr>\n",
       "    <tr>\n",
       "      <th>13</th>\n",
       "      <td>2012</td>\n",
       "      <td>47520</td>\n",
       "    </tr>\n",
       "    <tr>\n",
       "      <th>14</th>\n",
       "      <td>2013</td>\n",
       "      <td>36115</td>\n",
       "    </tr>\n",
       "    <tr>\n",
       "      <th>15</th>\n",
       "      <td>2014</td>\n",
       "      <td>59271</td>\n",
       "    </tr>\n",
       "    <tr>\n",
       "      <th>16</th>\n",
       "      <td>2015</td>\n",
       "      <td>258518</td>\n",
       "    </tr>\n",
       "  </tbody>\n",
       "</table>\n",
       "</div>"
      ],
      "text/plain": [
       "    Year   Value\n",
       "0   1999   25053\n",
       "1   2000   31609\n",
       "2   2001   53203\n",
       "3   2002   26498\n",
       "4   2003   14308\n",
       "5   2004    9199\n",
       "6   2005    8106\n",
       "7   2006    8653\n",
       "8   2007    9293\n",
       "9   2008   18436\n",
       "10  2009   27102\n",
       "11  2010   26570\n",
       "12  2011   36356\n",
       "13  2012   47520\n",
       "14  2013   36115\n",
       "15  2014   59271\n",
       "16  2015  258518"
      ]
     },
     "execution_count": 64,
     "metadata": {},
     "output_type": "execute_result"
    }
   ],
   "source": [
    "Spectot=Spec2.groupby(by=['Year']).sum()\n",
    "Spectot.reset_index()"
   ]
  },
  {
   "cell_type": "code",
   "execution_count": 65,
   "metadata": {},
   "outputs": [
    {
     "data": {
      "text/html": [
       "<div>\n",
       "<style scoped>\n",
       "    .dataframe tbody tr th:only-of-type {\n",
       "        vertical-align: middle;\n",
       "    }\n",
       "\n",
       "    .dataframe tbody tr th {\n",
       "        vertical-align: top;\n",
       "    }\n",
       "\n",
       "    .dataframe thead th {\n",
       "        text-align: right;\n",
       "    }\n",
       "</style>\n",
       "<table border=\"1\" class=\"dataframe\">\n",
       "  <thead>\n",
       "    <tr style=\"text-align: right;\">\n",
       "      <th></th>\n",
       "      <th>Year</th>\n",
       "      <th>Value</th>\n",
       "    </tr>\n",
       "  </thead>\n",
       "  <tbody>\n",
       "    <tr>\n",
       "      <th>0</th>\n",
       "      <td>1999</td>\n",
       "      <td>4394</td>\n",
       "    </tr>\n",
       "    <tr>\n",
       "      <th>1</th>\n",
       "      <td>2000</td>\n",
       "      <td>5189</td>\n",
       "    </tr>\n",
       "    <tr>\n",
       "      <th>2</th>\n",
       "      <td>2001</td>\n",
       "      <td>4558</td>\n",
       "    </tr>\n",
       "    <tr>\n",
       "      <th>3</th>\n",
       "      <td>2002</td>\n",
       "      <td>3802</td>\n",
       "    </tr>\n",
       "    <tr>\n",
       "      <th>4</th>\n",
       "      <td>2003</td>\n",
       "      <td>3484</td>\n",
       "    </tr>\n",
       "    <tr>\n",
       "      <th>5</th>\n",
       "      <td>2004</td>\n",
       "      <td>3352</td>\n",
       "    </tr>\n",
       "    <tr>\n",
       "      <th>6</th>\n",
       "      <td>2005</td>\n",
       "      <td>4115</td>\n",
       "    </tr>\n",
       "    <tr>\n",
       "      <th>7</th>\n",
       "      <td>2006</td>\n",
       "      <td>3704</td>\n",
       "    </tr>\n",
       "    <tr>\n",
       "      <th>8</th>\n",
       "      <td>2007</td>\n",
       "      <td>5503</td>\n",
       "    </tr>\n",
       "    <tr>\n",
       "      <th>9</th>\n",
       "      <td>2008</td>\n",
       "      <td>4823</td>\n",
       "    </tr>\n",
       "    <tr>\n",
       "      <th>10</th>\n",
       "      <td>2009</td>\n",
       "      <td>5099</td>\n",
       "    </tr>\n",
       "    <tr>\n",
       "      <th>11</th>\n",
       "      <td>2010</td>\n",
       "      <td>4987</td>\n",
       "    </tr>\n",
       "    <tr>\n",
       "      <th>12</th>\n",
       "      <td>2011</td>\n",
       "      <td>8739</td>\n",
       "    </tr>\n",
       "    <tr>\n",
       "      <th>13</th>\n",
       "      <td>2012</td>\n",
       "      <td>25217</td>\n",
       "    </tr>\n",
       "    <tr>\n",
       "      <th>14</th>\n",
       "      <td>2013</td>\n",
       "      <td>56334</td>\n",
       "    </tr>\n",
       "    <tr>\n",
       "      <th>15</th>\n",
       "      <td>2014</td>\n",
       "      <td>148729</td>\n",
       "    </tr>\n",
       "    <tr>\n",
       "      <th>16</th>\n",
       "      <td>2015</td>\n",
       "      <td>382513</td>\n",
       "    </tr>\n",
       "  </tbody>\n",
       "</table>\n",
       "</div>"
      ],
      "text/plain": [
       "    Year   Value\n",
       "0   1999    4394\n",
       "1   2000    5189\n",
       "2   2001    4558\n",
       "3   2002    3802\n",
       "4   2003    3484\n",
       "5   2004    3352\n",
       "6   2005    4115\n",
       "7   2006    3704\n",
       "8   2007    5503\n",
       "9   2008    4823\n",
       "10  2009    5099\n",
       "11  2010    4987\n",
       "12  2011    8739\n",
       "13  2012   25217\n",
       "14  2013   56334\n",
       "15  2014  148729\n",
       "16  2015  382513"
      ]
     },
     "execution_count": 65,
     "metadata": {},
     "output_type": "execute_result"
    }
   ],
   "source": [
    "#Yearly concentration for Syria\n",
    "Spectot1=Spec3.groupby(by=['Year']).sum()\n",
    "Spectot1.reset_index()"
   ]
  },
  {
   "cell_type": "code",
   "execution_count": 66,
   "metadata": {},
   "outputs": [
    {
     "data": {
      "text/html": [
       "<div>\n",
       "<style scoped>\n",
       "    .dataframe tbody tr th:only-of-type {\n",
       "        vertical-align: middle;\n",
       "    }\n",
       "\n",
       "    .dataframe tbody tr th {\n",
       "        vertical-align: top;\n",
       "    }\n",
       "\n",
       "    .dataframe thead th {\n",
       "        text-align: right;\n",
       "    }\n",
       "</style>\n",
       "<table border=\"1\" class=\"dataframe\">\n",
       "  <thead>\n",
       "    <tr style=\"text-align: right;\">\n",
       "      <th></th>\n",
       "      <th>Afghanistan</th>\n",
       "      <th>Syria</th>\n",
       "    </tr>\n",
       "    <tr>\n",
       "      <th>Year</th>\n",
       "      <th></th>\n",
       "      <th></th>\n",
       "    </tr>\n",
       "  </thead>\n",
       "  <tbody>\n",
       "    <tr>\n",
       "      <th>1999</th>\n",
       "      <td>25053</td>\n",
       "      <td>4394</td>\n",
       "    </tr>\n",
       "    <tr>\n",
       "      <th>2000</th>\n",
       "      <td>31609</td>\n",
       "      <td>5189</td>\n",
       "    </tr>\n",
       "    <tr>\n",
       "      <th>2001</th>\n",
       "      <td>53203</td>\n",
       "      <td>4558</td>\n",
       "    </tr>\n",
       "    <tr>\n",
       "      <th>2002</th>\n",
       "      <td>26498</td>\n",
       "      <td>3802</td>\n",
       "    </tr>\n",
       "    <tr>\n",
       "      <th>2003</th>\n",
       "      <td>14308</td>\n",
       "      <td>3484</td>\n",
       "    </tr>\n",
       "  </tbody>\n",
       "</table>\n",
       "</div>"
      ],
      "text/plain": [
       "      Afghanistan  Syria\n",
       "Year                    \n",
       "1999        25053   4394\n",
       "2000        31609   5189\n",
       "2001        53203   4558\n",
       "2002        26498   3802\n",
       "2003        14308   3484"
      ]
     },
     "execution_count": 66,
     "metadata": {},
     "output_type": "execute_result"
    }
   ],
   "source": [
    "Spectot['Syria']=Spectot1['Value']\n",
    "Spectot.rename(columns={\"Value\": \"Afghanistan\"}, inplace=True)\n",
    "Spectot.head()"
   ]
  },
  {
   "cell_type": "code",
   "execution_count": 67,
   "metadata": {},
   "outputs": [
    {
     "data": {
      "text/plain": [
       "Text(0.5, 0, 'Years')"
      ]
     },
     "execution_count": 67,
     "metadata": {},
     "output_type": "execute_result"
    },
    {
     "data": {
      "image/png": "[encoded data removed]",
      "text/plain": [
       "<Figure size 1152x720 with 1 Axes>"
      ]
     },
     "metadata": {
      "needs_background": "light"
     },
     "output_type": "display_data"
    }
   ],
   "source": [
    "Syria=Spectot.plot(kind='line',figsize=(16,10), legend=True, fontsize=8)\n",
    "plt.title('Refugee Analysis from Afghanistan and Syria, 1999-2015 ')\n",
    "plt.ylabel('Number of Refugees')\n",
    "plt.xlabel('Years')"
   ]
  },
  {
   "cell_type": "code",
   "execution_count": 68,
   "metadata": {},
   "outputs": [
    {
     "data": {
      "text/html": [
       "<div>\n",
       "<style scoped>\n",
       "    .dataframe tbody tr th:only-of-type {\n",
       "        vertical-align: middle;\n",
       "    }\n",
       "\n",
       "    .dataframe tbody tr th {\n",
       "        vertical-align: top;\n",
       "    }\n",
       "\n",
       "    .dataframe thead th {\n",
       "        text-align: right;\n",
       "    }\n",
       "</style>\n",
       "<table border=\"1\" class=\"dataframe\">\n",
       "  <thead>\n",
       "    <tr style=\"text-align: right;\">\n",
       "      <th></th>\n",
       "      <th>Country / territory of asylum/residence</th>\n",
       "      <th>Origin</th>\n",
       "      <th>Year</th>\n",
       "      <th>Value</th>\n",
       "    </tr>\n",
       "  </thead>\n",
       "  <tbody>\n",
       "    <tr>\n",
       "      <th>0</th>\n",
       "      <td>Canada</td>\n",
       "      <td>Albania</td>\n",
       "      <td>1959</td>\n",
       "      <td>17</td>\n",
       "    </tr>\n",
       "    <tr>\n",
       "      <th>1</th>\n",
       "      <td>Canada</td>\n",
       "      <td>Austria</td>\n",
       "      <td>1959</td>\n",
       "      <td>17</td>\n",
       "    </tr>\n",
       "    <tr>\n",
       "      <th>2</th>\n",
       "      <td>Canada</td>\n",
       "      <td>Belgium</td>\n",
       "      <td>1959</td>\n",
       "      <td>2</td>\n",
       "    </tr>\n",
       "    <tr>\n",
       "      <th>3</th>\n",
       "      <td>Canada</td>\n",
       "      <td>Bulgaria</td>\n",
       "      <td>1959</td>\n",
       "      <td>35</td>\n",
       "    </tr>\n",
       "    <tr>\n",
       "      <th>4</th>\n",
       "      <td>Canada</td>\n",
       "      <td>China</td>\n",
       "      <td>1959</td>\n",
       "      <td>2</td>\n",
       "    </tr>\n",
       "  </tbody>\n",
       "</table>\n",
       "</div>"
      ],
      "text/plain": [
       "  Country / territory of asylum/residence    Origin  Year Value\n",
       "0                                  Canada   Albania  1959    17\n",
       "1                                  Canada   Austria  1959    17\n",
       "2                                  Canada   Belgium  1959     2\n",
       "3                                  Canada  Bulgaria  1959    35\n",
       "4                                  Canada     China  1959     2"
      ]
     },
     "execution_count": 68,
     "metadata": {},
     "output_type": "execute_result"
    }
   ],
   "source": [
    "#Resettlement of Refugees\n",
    "resettlement.head()"
   ]
  },
  {
   "cell_type": "code",
   "execution_count": 173,
   "metadata": {},
   "outputs": [
    {
     "data": {
      "text/html": [
       "<div>\n",
       "<style scoped>\n",
       "    .dataframe tbody tr th:only-of-type {\n",
       "        vertical-align: middle;\n",
       "    }\n",
       "\n",
       "    .dataframe tbody tr th {\n",
       "        vertical-align: top;\n",
       "    }\n",
       "\n",
       "    .dataframe thead th {\n",
       "        text-align: right;\n",
       "    }\n",
       "</style>\n",
       "<table border=\"1\" class=\"dataframe\">\n",
       "  <thead>\n",
       "    <tr style=\"text-align: right;\">\n",
       "      <th></th>\n",
       "      <th>Country / territory of asylum/residence</th>\n",
       "      <th>Year</th>\n",
       "      <th>Value</th>\n",
       "    </tr>\n",
       "  </thead>\n",
       "  <tbody>\n",
       "    <tr>\n",
       "      <th>0</th>\n",
       "      <td>Canada</td>\n",
       "      <td>1959</td>\n",
       "      <td>17</td>\n",
       "    </tr>\n",
       "    <tr>\n",
       "      <th>1</th>\n",
       "      <td>Canada</td>\n",
       "      <td>1959</td>\n",
       "      <td>17</td>\n",
       "    </tr>\n",
       "    <tr>\n",
       "      <th>2</th>\n",
       "      <td>Canada</td>\n",
       "      <td>1959</td>\n",
       "      <td>2</td>\n",
       "    </tr>\n",
       "    <tr>\n",
       "      <th>3</th>\n",
       "      <td>Canada</td>\n",
       "      <td>1959</td>\n",
       "      <td>35</td>\n",
       "    </tr>\n",
       "    <tr>\n",
       "      <th>4</th>\n",
       "      <td>Canada</td>\n",
       "      <td>1959</td>\n",
       "      <td>2</td>\n",
       "    </tr>\n",
       "  </tbody>\n",
       "</table>\n",
       "</div>"
      ],
      "text/plain": [
       "  Country / territory of asylum/residence  Year Value\n",
       "0                                  Canada  1959    17\n",
       "1                                  Canada  1959    17\n",
       "2                                  Canada  1959     2\n",
       "3                                  Canada  1959    35\n",
       "4                                  Canada  1959     2"
      ]
     },
     "execution_count": 173,
     "metadata": {},
     "output_type": "execute_result"
    }
   ],
   "source": [
    "#Deleting the column 'Origin'\n",
    "Res=resettlement.drop('Origin', axis=1)\n",
    "Res.head()"
   ]
  },
  {
   "cell_type": "code",
   "execution_count": 70,
   "metadata": {},
   "outputs": [
    {
     "data": {
      "text/plain": [
       "Index(['Country of Asylum', 'Year', 'Value'], dtype='object')"
      ]
     },
     "execution_count": 70,
     "metadata": {},
     "output_type": "execute_result"
    }
   ],
   "source": [
    "#Renaming columns\n",
    "Res.rename(columns={'Country / territory of asylum/residence': 'Country of Asylum'}, inplace=True)\n",
    "Res.columns"
   ]
  },
  {
   "cell_type": "code",
   "execution_count": 71,
   "metadata": {},
   "outputs": [
    {
     "data": {
      "text/plain": [
       "Country of Asylum    object\n",
       "Year                  int64\n",
       "Value                object\n",
       "dtype: object"
      ]
     },
     "execution_count": 71,
     "metadata": {},
     "output_type": "execute_result"
    }
   ],
   "source": [
    "Res.dtypes"
   ]
  },
  {
   "cell_type": "code",
   "execution_count": 72,
   "metadata": {},
   "outputs": [],
   "source": [
    "#Converting Value to int from object and filling empty rows\n",
    "Res['Value']=pd.to_numeric(Res.Value, errors=\"coerce\").fillna(0).astype(int)"
   ]
  },
  {
   "cell_type": "code",
   "execution_count": 1,
   "metadata": {},
   "outputs": [],
   "source": [
    "#Made 2011 the starting as data goes back to 1959\n",
    "Res1 = Res.drop(Res[Res.Year < 2011].index)"
   ]
  },
  {
   "cell_type": "code",
   "execution_count": 172,
   "metadata": {},
   "outputs": [],
   "source": [
    "Res2=Res1.drop('Year', axis=1)"
   ]
  },
  {
   "cell_type": "code",
   "execution_count": 75,
   "metadata": {},
   "outputs": [
    {
     "data": {
      "text/html": [
       "<div>\n",
       "<style scoped>\n",
       "    .dataframe tbody tr th:only-of-type {\n",
       "        vertical-align: middle;\n",
       "    }\n",
       "\n",
       "    .dataframe tbody tr th {\n",
       "        vertical-align: top;\n",
       "    }\n",
       "\n",
       "    .dataframe thead th {\n",
       "        text-align: right;\n",
       "    }\n",
       "</style>\n",
       "<table border=\"1\" class=\"dataframe\">\n",
       "  <thead>\n",
       "    <tr style=\"text-align: right;\">\n",
       "      <th></th>\n",
       "      <th>Country of Asylum</th>\n",
       "      <th>Value</th>\n",
       "    </tr>\n",
       "  </thead>\n",
       "  <tbody>\n",
       "    <tr>\n",
       "      <th>0</th>\n",
       "      <td>United States of America</td>\n",
       "      <td>420347</td>\n",
       "    </tr>\n",
       "    <tr>\n",
       "      <th>1</th>\n",
       "      <td>Canada</td>\n",
       "      <td>113659</td>\n",
       "    </tr>\n",
       "    <tr>\n",
       "      <th>2</th>\n",
       "      <td>Australia</td>\n",
       "      <td>76849</td>\n",
       "    </tr>\n",
       "    <tr>\n",
       "      <th>3</th>\n",
       "      <td>Sweden</td>\n",
       "      <td>11408</td>\n",
       "    </tr>\n",
       "    <tr>\n",
       "      <th>4</th>\n",
       "      <td>Norway</td>\n",
       "      <td>10380</td>\n",
       "    </tr>\n",
       "    <tr>\n",
       "      <th>5</th>\n",
       "      <td>United Kingdom of Great Britain and Northern I...</td>\n",
       "      <td>10287</td>\n",
       "    </tr>\n",
       "    <tr>\n",
       "      <th>6</th>\n",
       "      <td>Finland</td>\n",
       "      <td>5018</td>\n",
       "    </tr>\n",
       "    <tr>\n",
       "      <th>7</th>\n",
       "      <td>New Zealand</td>\n",
       "      <td>4008</td>\n",
       "    </tr>\n",
       "    <tr>\n",
       "      <th>8</th>\n",
       "      <td>Netherlands</td>\n",
       "      <td>2753</td>\n",
       "    </tr>\n",
       "    <tr>\n",
       "      <th>9</th>\n",
       "      <td>Denmark</td>\n",
       "      <td>2746</td>\n",
       "    </tr>\n",
       "    <tr>\n",
       "      <th>10</th>\n",
       "      <td>Germany</td>\n",
       "      <td>2659</td>\n",
       "    </tr>\n",
       "    <tr>\n",
       "      <th>11</th>\n",
       "      <td>France</td>\n",
       "      <td>1792</td>\n",
       "    </tr>\n",
       "    <tr>\n",
       "      <th>12</th>\n",
       "      <td>Switzerland</td>\n",
       "      <td>1409</td>\n",
       "    </tr>\n",
       "    <tr>\n",
       "      <th>13</th>\n",
       "      <td>Austria</td>\n",
       "      <td>1346</td>\n",
       "    </tr>\n",
       "    <tr>\n",
       "      <th>14</th>\n",
       "      <td>Belgium</td>\n",
       "      <td>887</td>\n",
       "    </tr>\n",
       "  </tbody>\n",
       "</table>\n",
       "</div>"
      ],
      "text/plain": [
       "                                    Country of Asylum   Value\n",
       "0                            United States of America  420347\n",
       "1                                              Canada  113659\n",
       "2                                           Australia   76849\n",
       "3                                              Sweden   11408\n",
       "4                                              Norway   10380\n",
       "5   United Kingdom of Great Britain and Northern I...   10287\n",
       "6                                             Finland    5018\n",
       "7                                         New Zealand    4008\n",
       "8                                         Netherlands    2753\n",
       "9                                             Denmark    2746\n",
       "10                                            Germany    2659\n",
       "11                                             France    1792\n",
       "12                                        Switzerland    1409\n",
       "13                                            Austria    1346\n",
       "14                                            Belgium     887"
      ]
     },
     "execution_count": 75,
     "metadata": {},
     "output_type": "execute_result"
    }
   ],
   "source": [
    "Reset=Res2.groupby(by=['Country of Asylum']).sum()\n",
    "Resett=Reset.sort_values(\"Value\", ascending=False).head(15)\n",
    "Resettl = Resett.reset_index()\n",
    "Resettl"
   ]
  },
  {
   "cell_type": "code",
   "execution_count": 76,
   "metadata": {},
   "outputs": [],
   "source": [
    "#Converting the Countries to their equivalent codes to plot on plotly\n",
    "CODE = {\n",
    "'United States of America':'USA','Canada':'CAN','Australia':'AUS','Sweden':'SWE','Norway':'NOR',\n",
    "'United Kingdom of Great Britain and Northern Ireland':'GBR','Finland':'FIN','New Zealand':'NZL','Netherlands':'NLD',\n",
    "'Denmark':'DNK','Germany':'DEU','France':'FRA','Switzerland':'CHE','Austria':'AUT','Belgium':'BEL'}"
   ]
  },
  {
   "cell_type": "code",
   "execution_count": 77,
   "metadata": {},
   "outputs": [
    {
     "data": {
      "text/html": [
       "<div>\n",
       "<style scoped>\n",
       "    .dataframe tbody tr th:only-of-type {\n",
       "        vertical-align: middle;\n",
       "    }\n",
       "\n",
       "    .dataframe tbody tr th {\n",
       "        vertical-align: top;\n",
       "    }\n",
       "\n",
       "    .dataframe thead th {\n",
       "        text-align: right;\n",
       "    }\n",
       "</style>\n",
       "<table border=\"1\" class=\"dataframe\">\n",
       "  <thead>\n",
       "    <tr style=\"text-align: right;\">\n",
       "      <th></th>\n",
       "      <th>Country of Asylum</th>\n",
       "      <th>Value</th>\n",
       "      <th>CODE</th>\n",
       "    </tr>\n",
       "  </thead>\n",
       "  <tbody>\n",
       "    <tr>\n",
       "      <th>0</th>\n",
       "      <td>United States of America</td>\n",
       "      <td>420347</td>\n",
       "      <td>USA</td>\n",
       "    </tr>\n",
       "    <tr>\n",
       "      <th>1</th>\n",
       "      <td>Canada</td>\n",
       "      <td>113659</td>\n",
       "      <td>CAN</td>\n",
       "    </tr>\n",
       "    <tr>\n",
       "      <th>2</th>\n",
       "      <td>Australia</td>\n",
       "      <td>76849</td>\n",
       "      <td>AUS</td>\n",
       "    </tr>\n",
       "    <tr>\n",
       "      <th>3</th>\n",
       "      <td>Sweden</td>\n",
       "      <td>11408</td>\n",
       "      <td>SWE</td>\n",
       "    </tr>\n",
       "    <tr>\n",
       "      <th>4</th>\n",
       "      <td>Norway</td>\n",
       "      <td>10380</td>\n",
       "      <td>NOR</td>\n",
       "    </tr>\n",
       "    <tr>\n",
       "      <th>5</th>\n",
       "      <td>United Kingdom of Great Britain and Northern I...</td>\n",
       "      <td>10287</td>\n",
       "      <td>GBR</td>\n",
       "    </tr>\n",
       "    <tr>\n",
       "      <th>6</th>\n",
       "      <td>Finland</td>\n",
       "      <td>5018</td>\n",
       "      <td>FIN</td>\n",
       "    </tr>\n",
       "    <tr>\n",
       "      <th>7</th>\n",
       "      <td>New Zealand</td>\n",
       "      <td>4008</td>\n",
       "      <td>NZL</td>\n",
       "    </tr>\n",
       "    <tr>\n",
       "      <th>8</th>\n",
       "      <td>Netherlands</td>\n",
       "      <td>2753</td>\n",
       "      <td>NLD</td>\n",
       "    </tr>\n",
       "    <tr>\n",
       "      <th>9</th>\n",
       "      <td>Denmark</td>\n",
       "      <td>2746</td>\n",
       "      <td>DNK</td>\n",
       "    </tr>\n",
       "    <tr>\n",
       "      <th>10</th>\n",
       "      <td>Germany</td>\n",
       "      <td>2659</td>\n",
       "      <td>DEU</td>\n",
       "    </tr>\n",
       "    <tr>\n",
       "      <th>11</th>\n",
       "      <td>France</td>\n",
       "      <td>1792</td>\n",
       "      <td>FRA</td>\n",
       "    </tr>\n",
       "    <tr>\n",
       "      <th>12</th>\n",
       "      <td>Switzerland</td>\n",
       "      <td>1409</td>\n",
       "      <td>CHE</td>\n",
       "    </tr>\n",
       "    <tr>\n",
       "      <th>13</th>\n",
       "      <td>Austria</td>\n",
       "      <td>1346</td>\n",
       "      <td>AUT</td>\n",
       "    </tr>\n",
       "    <tr>\n",
       "      <th>14</th>\n",
       "      <td>Belgium</td>\n",
       "      <td>887</td>\n",
       "      <td>BEL</td>\n",
       "    </tr>\n",
       "  </tbody>\n",
       "</table>\n",
       "</div>"
      ],
      "text/plain": [
       "                                    Country of Asylum   Value CODE\n",
       "0                            United States of America  420347  USA\n",
       "1                                              Canada  113659  CAN\n",
       "2                                           Australia   76849  AUS\n",
       "3                                              Sweden   11408  SWE\n",
       "4                                              Norway   10380  NOR\n",
       "5   United Kingdom of Great Britain and Northern I...   10287  GBR\n",
       "6                                             Finland    5018  FIN\n",
       "7                                         New Zealand    4008  NZL\n",
       "8                                         Netherlands    2753  NLD\n",
       "9                                             Denmark    2746  DNK\n",
       "10                                            Germany    2659  DEU\n",
       "11                                             France    1792  FRA\n",
       "12                                        Switzerland    1409  CHE\n",
       "13                                            Austria    1346  AUT\n",
       "14                                            Belgium     887  BEL"
      ]
     },
     "execution_count": 77,
     "metadata": {},
     "output_type": "execute_result"
    }
   ],
   "source": [
    "#Assigning the above mentioned code as a column to each Country\n",
    "Resettl['CODE'] = Resettl['Country of Asylum'].apply(lambda x : CODE[x])\n",
    "Resettl"
   ]
  },
  {
   "cell_type": "code",
   "execution_count": 78,
   "metadata": {},
   "outputs": [
    {
     "data": {
      "application/vnd.plotly.v1+json": {
       "config": {
        "linkText": "Export to plot.ly",
        "plotlyServerURL": "https://plot.ly",
        "showLink": false
       },
       "data": [
        {
         "autocolorscale": false,
         "colorbar": {
          "title": {
           "text": "Number of Refugees"
          }
         },
         "colorscale": [
          [
           0.2,
           "rgb(7, 13, 162)"
          ],
          [
           0.15,
           "rgb(30, 50, 180)"
          ],
          [
           0.7,
           "rgb(750, 90, 145)"
          ],
          [
           0.8,
           "rgb(90, 140, 345)"
          ]
         ],
         "locations": [
          "USA",
          "CAN",
          "AUS",
          "SWE",
          "NOR",
          "GBR",
          "FIN",
          "NZL",
          "NLD",
          "DNK",
          "DEU",
          "FRA",
          "CHE",
          "AUT",
          "BEL"
         ],
         "marker": {
          "line": {
           "color": "rgb(255,255,255)",
           "width": 2
          }
         },
         "text": [
          "United States of America",
          "Canada",
          "Australia",
          "Sweden",
          "Norway",
          "United Kingdom of Great Britain and Northern Ireland",
          "Finland",
          "New Zealand",
          "Netherlands",
          "Denmark",
          "Germany",
          "France",
          "Switzerland",
          "Austria",
          "Belgium"
         ],
         "type": "choropleth",
         "uid": "42d173b4-37e4-4a72-8c61-8caef7c826ae",
         "z": [
          420347,
          113659,
          76849,
          11408,
          10380,
          10287,
          5018,
          4008,
          2753,
          2746,
          2659,
          1792,
          1409,
          1346,
          887
         ]
        }
       ],
       "layout": {
        "geo": {
         "projection": {
          "type": "equirectangular"
         },
         "scope": "world",
         "showlakes": false
        },
        "title": {
         "text": "Refugees based on their Country of Asylum"
        }
       }
      },
      "text/html": [
       "<div id=\"8879a080-cbd5-4264-bcf3-11b54b9f8125\" style=\"height: 525px; width: 100%;\" class=\"plotly-graph-div\"></div><script type=\"text/javascript\">require([\"plotly\"], function(Plotly) { window.PLOTLYENV=window.PLOTLYENV || {};window.PLOTLYENV.BASE_URL=\"https://plot.ly\";\n",
       "if (document.getElementById(\"8879a080-cbd5-4264-bcf3-11b54b9f8125\")) {\n",
       "    Plotly.newPlot(\"8879a080-cbd5-4264-bcf3-11b54b9f8125\", [{\"autocolorscale\": false, \"colorbar\": {\"title\": {\"text\": \"Number of Refugees\"}}, \"colorscale\": [[0.2, \"rgb(7, 13, 162)\"], [0.15, \"rgb(30, 50, 180)\"], [0.7, \"rgb(750, 90, 145)\"], [0.8, \"rgb(90, 140, 345)\"]], \"locations\": [\"USA\", \"CAN\", \"AUS\", \"SWE\", \"NOR\", \"GBR\", \"FIN\", \"NZL\", \"NLD\", \"DNK\", \"DEU\", \"FRA\", \"CHE\", \"AUT\", \"BEL\"], \"marker\": {\"line\": {\"color\": \"rgb(255,255,255)\", \"width\": 2}}, \"text\": [\"United States of America\", \"Canada\", \"Australia\", \"Sweden\", \"Norway\", \"United Kingdom of Great Britain and Northern Ireland\", \"Finland\", \"New Zealand\", \"Netherlands\", \"Denmark\", \"Germany\", \"France\", \"Switzerland\", \"Austria\", \"Belgium\"], \"z\": [420347, 113659, 76849, 11408, 10380, 10287, 5018, 4008, 2753, 2746, 2659, 1792, 1409, 1346, 887], \"type\": \"choropleth\", \"uid\": \"5551c9f8-d81f-4a9c-93a1-da5ee47adf92\"}], {\"geo\": {\"projection\": {\"type\": \"equirectangular\"}, \"scope\": \"world\", \"showlakes\": false}, \"title\": {\"text\": \"Refugees based on their Country of Asylum\"}}, {\"showLink\": false, \"linkText\": \"Export to plot.ly\", \"plotlyServerURL\": \"https://plot.ly\"}); \n",
       "}\n",
       "});</script><script type=\"text/javascript\">window.addEventListener(\"resize\", function(){if (document.getElementById(\"8879a080-cbd5-4264-bcf3-11b54b9f8125\")) {window._Plotly.Plots.resize(document.getElementById(\"8879a080-cbd5-4264-bcf3-11b54b9f8125\"));};})</script>"
      ],
      "text/vnd.plotly.v1+html": [
       "<div id=\"8879a080-cbd5-4264-bcf3-11b54b9f8125\" style=\"height: 525px; width: 100%;\" class=\"plotly-graph-div\"></div><script type=\"text/javascript\">require([\"plotly\"], function(Plotly) { window.PLOTLYENV=window.PLOTLYENV || {};window.PLOTLYENV.BASE_URL=\"https://plot.ly\";\n",
       "if (document.getElementById(\"8879a080-cbd5-4264-bcf3-11b54b9f8125\")) {\n",
       "    Plotly.newPlot(\"8879a080-cbd5-4264-bcf3-11b54b9f8125\", [{\"autocolorscale\": false, \"colorbar\": {\"title\": {\"text\": \"Number of Refugees\"}}, \"colorscale\": [[0.2, \"rgb(7, 13, 162)\"], [0.15, \"rgb(30, 50, 180)\"], [0.7, \"rgb(750, 90, 145)\"], [0.8, \"rgb(90, 140, 345)\"]], \"locations\": [\"USA\", \"CAN\", \"AUS\", \"SWE\", \"NOR\", \"GBR\", \"FIN\", \"NZL\", \"NLD\", \"DNK\", \"DEU\", \"FRA\", \"CHE\", \"AUT\", \"BEL\"], \"marker\": {\"line\": {\"color\": \"rgb(255,255,255)\", \"width\": 2}}, \"text\": [\"United States of America\", \"Canada\", \"Australia\", \"Sweden\", \"Norway\", \"United Kingdom of Great Britain and Northern Ireland\", \"Finland\", \"New Zealand\", \"Netherlands\", \"Denmark\", \"Germany\", \"France\", \"Switzerland\", \"Austria\", \"Belgium\"], \"z\": [420347, 113659, 76849, 11408, 10380, 10287, 5018, 4008, 2753, 2746, 2659, 1792, 1409, 1346, 887], \"type\": \"choropleth\", \"uid\": \"5551c9f8-d81f-4a9c-93a1-da5ee47adf92\"}], {\"geo\": {\"projection\": {\"type\": \"equirectangular\"}, \"scope\": \"world\", \"showlakes\": false}, \"title\": {\"text\": \"Refugees based on their Country of Asylum\"}}, {\"showLink\": false, \"linkText\": \"Export to plot.ly\", \"plotlyServerURL\": \"https://plot.ly\"}); \n",
       "}\n",
       "});</script><script type=\"text/javascript\">window.addEventListener(\"resize\", function(){if (document.getElementById(\"8879a080-cbd5-4264-bcf3-11b54b9f8125\")) {window._Plotly.Plots.resize(document.getElementById(\"8879a080-cbd5-4264-bcf3-11b54b9f8125\"));};})</script>"
      ]
     },
     "metadata": {},
     "output_type": "display_data"
    }
   ],
   "source": [
    "#World Map(Using Plotly) showing the top 15 countries with the hishest number of refugees based on their Country of Asylum\n",
    "scl =  [0.2, \"rgb(7, 13, 162)\"],[0.15, \"rgb(30, 50, 180)\"],[0.7, \"rgb(750, 90, 145)\"],[0.8, \"rgb(90, 140, 345)\"],\n",
    "[0.8, \"rgb(126, 127, 237)\"],[2, \"rgb(230, 230, 230)\"]\n",
    "data = [ dict(\n",
    "        type='choropleth',\n",
    "        colorscale = scl,\n",
    "        autocolorscale = False,\n",
    "        locations = Resettl['CODE'],\n",
    "        z = Resettl['Value'],\n",
    "        text = Resettl['Country of Asylum'],\n",
    "        marker = dict(\n",
    "            line = dict (\n",
    "                color = 'rgb(255,255,255)',\n",
    "                width = 2\n",
    "            ) ),\n",
    "        colorbar = dict(\n",
    "            title = \"Number of Refugees\")\n",
    "        ) ]\n",
    "\n",
    "layout = dict(\n",
    "        title = 'Refugees based on their Country of Asylum',\n",
    "        geo = dict(\n",
    "            scope='world',\n",
    "            projection=dict( type='equirectangular' ),\n",
    "            showlakes = False))\n",
    "    \n",
    "fig = dict( data=data, layout=layout )\n",
    "iplot( fig )"
   ]
  },
  {
   "cell_type": "code",
   "execution_count": 79,
   "metadata": {},
   "outputs": [
    {
     "data": {
      "application/vnd.plotly.v1+json": {
       "config": {
        "linkText": "Export to plot.ly",
        "plotlyServerURL": "https://plot.ly",
        "showLink": false
       },
       "data": [
        {
         "hole": 0.2,
         "labels": [
          "Dem. Rep. of the Congo",
          "Iraq",
          "Somalia",
          "Sudan",
          "Iran (Islamic Rep. of)",
          "Nigeria",
          "Afghanistan",
          "Ethiopia",
          "Pakistan",
          "Côte d'Ivoire"
         ],
         "marker": {
          "colors": [
           "skyblue",
           "#FEBFB3",
           "#96D38C",
           "#D0F9B1",
           "gold",
           "orange",
           "lightgrey",
           "lightblue",
           "lightgreen",
           "aqua"
          ]
         },
         "type": "pie",
         "uid": "5a5b87e3-eb40-41c8-bf94-09b2d055a46e",
         "values": [
          1618,
          1611,
          1581,
          1516,
          1454,
          1450,
          1429,
          1399,
          1377,
          1235
         ]
        }
       ],
       "layout": {
        "title": {
         "text": "Country of Origin"
        }
       }
      },
      "text/html": [
       "<div id=\"065c379e-82e5-4fed-b034-76902d80a856\" style=\"height: 525px; width: 100%;\" class=\"plotly-graph-div\"></div><script type=\"text/javascript\">require([\"plotly\"], function(Plotly) { window.PLOTLYENV=window.PLOTLYENV || {};window.PLOTLYENV.BASE_URL=\"https://plot.ly\";\n",
       "if (document.getElementById(\"065c379e-82e5-4fed-b034-76902d80a856\")) {\n",
       "    Plotly.newPlot(\"065c379e-82e5-4fed-b034-76902d80a856\", [{\"hole\": 0.2, \"labels\": [\"Dem. Rep. of the Congo\", \"Iraq\", \"Somalia\", \"Sudan\", \"Iran (Islamic Rep. of)\", \"Nigeria\", \"Afghanistan\", \"Ethiopia\", \"Pakistan\", \"C\\u00f4te d'Ivoire\"], \"marker\": {\"colors\": [\"skyblue\", \"#FEBFB3\", \"#96D38C\", \"#D0F9B1\", \"gold\", \"orange\", \"lightgrey\", \"lightblue\", \"lightgreen\", \"aqua\"]}, \"values\": [1618, 1611, 1581, 1516, 1454, 1450, 1429, 1399, 1377, 1235], \"type\": \"pie\", \"uid\": \"5a5b87e3-eb40-41c8-bf94-09b2d055a46e\"}], {\"title\": {\"text\": \"Country of Origin\"}}, {\"showLink\": false, \"linkText\": \"Export to plot.ly\", \"plotlyServerURL\": \"https://plot.ly\"}); \n",
       "}\n",
       "});</script><script type=\"text/javascript\">window.addEventListener(\"resize\", function(){if (document.getElementById(\"065c379e-82e5-4fed-b034-76902d80a856\")) {window._Plotly.Plots.resize(document.getElementById(\"065c379e-82e5-4fed-b034-76902d80a856\"));};})</script>"
      ],
      "text/vnd.plotly.v1+html": [
       "<div id=\"065c379e-82e5-4fed-b034-76902d80a856\" style=\"height: 525px; width: 100%;\" class=\"plotly-graph-div\"></div><script type=\"text/javascript\">require([\"plotly\"], function(Plotly) { window.PLOTLYENV=window.PLOTLYENV || {};window.PLOTLYENV.BASE_URL=\"https://plot.ly\";\n",
       "if (document.getElementById(\"065c379e-82e5-4fed-b034-76902d80a856\")) {\n",
       "    Plotly.newPlot(\"065c379e-82e5-4fed-b034-76902d80a856\", [{\"hole\": 0.2, \"labels\": [\"Dem. Rep. of the Congo\", \"Iraq\", \"Somalia\", \"Sudan\", \"Iran (Islamic Rep. of)\", \"Nigeria\", \"Afghanistan\", \"Ethiopia\", \"Pakistan\", \"C\\u00f4te d'Ivoire\"], \"marker\": {\"colors\": [\"skyblue\", \"#FEBFB3\", \"#96D38C\", \"#D0F9B1\", \"gold\", \"orange\", \"lightgrey\", \"lightblue\", \"lightgreen\", \"aqua\"]}, \"values\": [1618, 1611, 1581, 1516, 1454, 1450, 1429, 1399, 1377, 1235], \"type\": \"pie\", \"uid\": \"5a5b87e3-eb40-41c8-bf94-09b2d055a46e\"}], {\"title\": {\"text\": \"Country of Origin\"}}, {\"showLink\": false, \"linkText\": \"Export to plot.ly\", \"plotlyServerURL\": \"https://plot.ly\"}); \n",
       "}\n",
       "});</script><script type=\"text/javascript\">window.addEventListener(\"resize\", function(){if (document.getElementById(\"065c379e-82e5-4fed-b034-76902d80a856\")) {window._Plotly.Plots.resize(document.getElementById(\"065c379e-82e5-4fed-b034-76902d80a856\"));};})</script>"
      ]
     },
     "metadata": {},
     "output_type": "display_data"
    }
   ],
   "source": [
    "dff = df['Origin'].value_counts()[:10]\n",
    "label = dff.index\n",
    "size = dff.values\n",
    "\n",
    "colors = ['skyblue', '#FEBFB3', '#96D38C', '#D0F9B1', 'gold', 'orange', 'lightgrey', \n",
    "          'lightblue','lightgreen','aqua']\n",
    "trace = go.Pie(labels=label, values=size, marker=dict(colors=colors),hole = .2)\n",
    "\n",
    "data = [trace]\n",
    "layout = go.Layout(\n",
    "    title='Country of Origin'\n",
    ")\n",
    "\n",
    "fig = go.Figure(data=data, layout=layout)\n",
    "py.iplot(fig)"
   ]
  },
  {
   "cell_type": "code",
   "execution_count": 80,
   "metadata": {},
   "outputs": [
    {
     "data": {
      "application/vnd.plotly.v1+json": {
       "config": {
        "linkText": "Export to plot.ly",
        "plotlyServerURL": "https://plot.ly",
        "showLink": false
       },
       "data": [
        {
         "hole": 0.2,
         "labels": [
          "United States of America",
          "Sweden",
          "Germany",
          "Australia",
          "United Kingdom",
          "Norway",
          "Netherlands",
          "Ireland",
          "Canada",
          "France"
         ],
         "marker": {
          "colors": [
           "skyblue",
           "#FEBFB3",
           "#96D38C",
           "#D0F9B1",
           "gold",
           "orange",
           "lightgrey",
           "lightblue",
           "lightgreen",
           "aqua"
          ]
         },
         "type": "pie",
         "uid": "e0e7caa2-3a0b-4cf2-9c63-7055070f4fc2",
         "values": [
          4661,
          3724,
          3227,
          3116,
          3032,
          3011,
          2721,
          2619,
          2598,
          2495
         ]
        }
       ],
       "layout": {
        "title": {
         "text": "Country of Asylum"
        }
       }
      },
      "text/html": [
       "<div id=\"01f67501-6fd7-44c4-9021-9969c50f06fc\" style=\"height: 525px; width: 100%;\" class=\"plotly-graph-div\"></div><script type=\"text/javascript\">require([\"plotly\"], function(Plotly) { window.PLOTLYENV=window.PLOTLYENV || {};window.PLOTLYENV.BASE_URL=\"https://plot.ly\";\n",
       "if (document.getElementById(\"01f67501-6fd7-44c4-9021-9969c50f06fc\")) {\n",
       "    Plotly.newPlot(\"01f67501-6fd7-44c4-9021-9969c50f06fc\", [{\"hole\": 0.2, \"labels\": [\"United States of America\", \"Sweden\", \"Germany\", \"Australia\", \"United Kingdom\", \"Norway\", \"Netherlands\", \"Ireland\", \"Canada\", \"France\"], \"marker\": {\"colors\": [\"skyblue\", \"#FEBFB3\", \"#96D38C\", \"#D0F9B1\", \"gold\", \"orange\", \"lightgrey\", \"lightblue\", \"lightgreen\", \"aqua\"]}, \"values\": [4661, 3724, 3227, 3116, 3032, 3011, 2721, 2619, 2598, 2495], \"type\": \"pie\", \"uid\": \"e0e7caa2-3a0b-4cf2-9c63-7055070f4fc2\"}], {\"title\": {\"text\": \"Country of Asylum\"}}, {\"showLink\": false, \"linkText\": \"Export to plot.ly\", \"plotlyServerURL\": \"https://plot.ly\"}); \n",
       "}\n",
       "});</script><script type=\"text/javascript\">window.addEventListener(\"resize\", function(){if (document.getElementById(\"01f67501-6fd7-44c4-9021-9969c50f06fc\")) {window._Plotly.Plots.resize(document.getElementById(\"01f67501-6fd7-44c4-9021-9969c50f06fc\"));};})</script>"
      ],
      "text/vnd.plotly.v1+html": [
       "<div id=\"01f67501-6fd7-44c4-9021-9969c50f06fc\" style=\"height: 525px; width: 100%;\" class=\"plotly-graph-div\"></div><script type=\"text/javascript\">require([\"plotly\"], function(Plotly) { window.PLOTLYENV=window.PLOTLYENV || {};window.PLOTLYENV.BASE_URL=\"https://plot.ly\";\n",
       "if (document.getElementById(\"01f67501-6fd7-44c4-9021-9969c50f06fc\")) {\n",
       "    Plotly.newPlot(\"01f67501-6fd7-44c4-9021-9969c50f06fc\", [{\"hole\": 0.2, \"labels\": [\"United States of America\", \"Sweden\", \"Germany\", \"Australia\", \"United Kingdom\", \"Norway\", \"Netherlands\", \"Ireland\", \"Canada\", \"France\"], \"marker\": {\"colors\": [\"skyblue\", \"#FEBFB3\", \"#96D38C\", \"#D0F9B1\", \"gold\", \"orange\", \"lightgrey\", \"lightblue\", \"lightgreen\", \"aqua\"]}, \"values\": [4661, 3724, 3227, 3116, 3032, 3011, 2721, 2619, 2598, 2495], \"type\": \"pie\", \"uid\": \"e0e7caa2-3a0b-4cf2-9c63-7055070f4fc2\"}], {\"title\": {\"text\": \"Country of Asylum\"}}, {\"showLink\": false, \"linkText\": \"Export to plot.ly\", \"plotlyServerURL\": \"https://plot.ly\"}); \n",
       "}\n",
       "});</script><script type=\"text/javascript\">window.addEventListener(\"resize\", function(){if (document.getElementById(\"01f67501-6fd7-44c4-9021-9969c50f06fc\")) {window._Plotly.Plots.resize(document.getElementById(\"01f67501-6fd7-44c4-9021-9969c50f06fc\"));};})</script>"
      ]
     },
     "metadata": {},
     "output_type": "display_data"
    }
   ],
   "source": [
    "dff = df['Country / territory of asylum/residence'].value_counts()[:10]\n",
    "label = dff.index\n",
    "size = dff.values\n",
    "\n",
    "colors = ['skyblue', '#FEBFB3', '#96D38C', '#D0F9B1', 'gold', 'orange', 'lightgrey', \n",
    "          'lightblue','lightgreen','aqua']\n",
    "trace = go.Pie(labels=label, values=size, marker=dict(colors=colors),hole = .2)\n",
    "\n",
    "data = [trace]\n",
    "layout = go.Layout(\n",
    "    title='Country of Asylum'\n",
    ")\n",
    "\n",
    "fig = go.Figure(data=data, layout=layout)\n",
    "py.iplot(fig)"
   ]
  },
  {
   "cell_type": "code",
   "execution_count": 81,
   "metadata": {},
   "outputs": [],
   "source": [
    "df3 = pd.read_csv(\"persons_of_concern.csv\")"
   ]
  },
  {
   "cell_type": "code",
   "execution_count": 82,
   "metadata": {},
   "outputs": [
    {
     "data": {
      "application/vnd.plotly.v1+json": {
       "config": {
        "linkText": "Export to plot.ly",
        "plotlyServerURL": "https://plot.ly",
        "showLink": false
       },
       "data": [
        {
         "marker": {
          "color": [
           1951,
           1952,
           1953,
           1954,
           1955,
           1956,
           1957,
           1958,
           1959,
           1960,
           1961,
           1962,
           1963,
           1964,
           1965,
           1966,
           1967,
           1968,
           1969,
           1970,
           1971,
           1972,
           1973,
           1974,
           1975,
           1976,
           1977,
           1978,
           1979,
           1980,
           1981,
           1982,
           1983,
           1984,
           1985,
           1986,
           1987,
           1988,
           1989,
           1990,
           1991,
           1992,
           1993,
           1994,
           1995,
           1996,
           1997,
           1998,
           1999,
           2000,
           2001,
           2002,
           2003,
           2004,
           2005,
           2006,
           2007,
           2008,
           2009,
           2010,
           2011,
           2012,
           2013,
           2014,
           2015,
           2016
          ],
          "colorscale": "Reds",
          "showscale": true
         },
         "type": "bar",
         "uid": "7f7ef466-e927-4b1e-9c3f-3abbb787d9a3",
         "x": [
          1951,
          1952,
          1953,
          1954,
          1955,
          1956,
          1957,
          1958,
          1959,
          1960,
          1961,
          1962,
          1963,
          1964,
          1965,
          1966,
          1967,
          1968,
          1969,
          1970,
          1971,
          1972,
          1973,
          1974,
          1975,
          1976,
          1977,
          1978,
          1979,
          1980,
          1981,
          1982,
          1983,
          1984,
          1985,
          1986,
          1987,
          1988,
          1989,
          1990,
          1991,
          1992,
          1993,
          1994,
          1995,
          1996,
          1997,
          1998,
          1999,
          2000,
          2001,
          2002,
          2003,
          2004,
          2005,
          2006,
          2007,
          2008,
          2009,
          2010,
          2011,
          2012,
          2013,
          2014,
          2015,
          2016
         ],
         "y": [
          21,
          17,
          17,
          20,
          16,
          16,
          16,
          18,
          18,
          19,
          25,
          26,
          29,
          41,
          48,
          55,
          53,
          69,
          86,
          105,
          102,
          119,
          89,
          101,
          107,
          103,
          125,
          149,
          160,
          203,
          215,
          260,
          261,
          278,
          314,
          290,
          287,
          391,
          467,
          588,
          662,
          799,
          1517,
          1774,
          1917,
          2207,
          2553,
          3006,
          3052,
          4093,
          4318,
          4536,
          4777,
          4903,
          5048,
          5228,
          5498,
          5555,
          5577,
          5899,
          5984,
          6157,
          6506,
          6691,
          6918,
          6822
         ]
        }
       ],
       "layout": {
        "title": {
         "text": "#Refugees yearly"
        },
        "yaxis": {
         "title": {
          "text": "# refugees"
         }
        }
       }
      },
      "text/html": [
       "<div id=\"710aa4cc-c95c-432e-b172-7af39cc9e147\" style=\"height: 525px; width: 100%;\" class=\"plotly-graph-div\"></div><script type=\"text/javascript\">require([\"plotly\"], function(Plotly) { window.PLOTLYENV=window.PLOTLYENV || {};window.PLOTLYENV.BASE_URL=\"https://plot.ly\";\n",
       "if (document.getElementById(\"710aa4cc-c95c-432e-b172-7af39cc9e147\")) {\n",
       "    Plotly.newPlot(\"710aa4cc-c95c-432e-b172-7af39cc9e147\", [{\"marker\": {\"color\": [1951, 1952, 1953, 1954, 1955, 1956, 1957, 1958, 1959, 1960, 1961, 1962, 1963, 1964, 1965, 1966, 1967, 1968, 1969, 1970, 1971, 1972, 1973, 1974, 1975, 1976, 1977, 1978, 1979, 1980, 1981, 1982, 1983, 1984, 1985, 1986, 1987, 1988, 1989, 1990, 1991, 1992, 1993, 1994, 1995, 1996, 1997, 1998, 1999, 2000, 2001, 2002, 2003, 2004, 2005, 2006, 2007, 2008, 2009, 2010, 2011, 2012, 2013, 2014, 2015, 2016], \"colorscale\": \"Reds\", \"showscale\": true}, \"x\": [1951, 1952, 1953, 1954, 1955, 1956, 1957, 1958, 1959, 1960, 1961, 1962, 1963, 1964, 1965, 1966, 1967, 1968, 1969, 1970, 1971, 1972, 1973, 1974, 1975, 1976, 1977, 1978, 1979, 1980, 1981, 1982, 1983, 1984, 1985, 1986, 1987, 1988, 1989, 1990, 1991, 1992, 1993, 1994, 1995, 1996, 1997, 1998, 1999, 2000, 2001, 2002, 2003, 2004, 2005, 2006, 2007, 2008, 2009, 2010, 2011, 2012, 2013, 2014, 2015, 2016], \"y\": [21, 17, 17, 20, 16, 16, 16, 18, 18, 19, 25, 26, 29, 41, 48, 55, 53, 69, 86, 105, 102, 119, 89, 101, 107, 103, 125, 149, 160, 203, 215, 260, 261, 278, 314, 290, 287, 391, 467, 588, 662, 799, 1517, 1774, 1917, 2207, 2553, 3006, 3052, 4093, 4318, 4536, 4777, 4903, 5048, 5228, 5498, 5555, 5577, 5899, 5984, 6157, 6506, 6691, 6918, 6822], \"type\": \"bar\", \"uid\": \"7f7ef466-e927-4b1e-9c3f-3abbb787d9a3\"}], {\"title\": {\"text\": \"#Refugees yearly\"}, \"yaxis\": {\"title\": {\"text\": \"# refugees\"}}}, {\"showLink\": false, \"linkText\": \"Export to plot.ly\", \"plotlyServerURL\": \"https://plot.ly\"}); \n",
       "}\n",
       "});</script><script type=\"text/javascript\">window.addEventListener(\"resize\", function(){if (document.getElementById(\"710aa4cc-c95c-432e-b172-7af39cc9e147\")) {window._Plotly.Plots.resize(document.getElementById(\"710aa4cc-c95c-432e-b172-7af39cc9e147\"));};})</script>"
      ],
      "text/vnd.plotly.v1+html": [
       "<div id=\"710aa4cc-c95c-432e-b172-7af39cc9e147\" style=\"height: 525px; width: 100%;\" class=\"plotly-graph-div\"></div><script type=\"text/javascript\">require([\"plotly\"], function(Plotly) { window.PLOTLYENV=window.PLOTLYENV || {};window.PLOTLYENV.BASE_URL=\"https://plot.ly\";\n",
       "if (document.getElementById(\"710aa4cc-c95c-432e-b172-7af39cc9e147\")) {\n",
       "    Plotly.newPlot(\"710aa4cc-c95c-432e-b172-7af39cc9e147\", [{\"marker\": {\"color\": [1951, 1952, 1953, 1954, 1955, 1956, 1957, 1958, 1959, 1960, 1961, 1962, 1963, 1964, 1965, 1966, 1967, 1968, 1969, 1970, 1971, 1972, 1973, 1974, 1975, 1976, 1977, 1978, 1979, 1980, 1981, 1982, 1983, 1984, 1985, 1986, 1987, 1988, 1989, 1990, 1991, 1992, 1993, 1994, 1995, 1996, 1997, 1998, 1999, 2000, 2001, 2002, 2003, 2004, 2005, 2006, 2007, 2008, 2009, 2010, 2011, 2012, 2013, 2014, 2015, 2016], \"colorscale\": \"Reds\", \"showscale\": true}, \"x\": [1951, 1952, 1953, 1954, 1955, 1956, 1957, 1958, 1959, 1960, 1961, 1962, 1963, 1964, 1965, 1966, 1967, 1968, 1969, 1970, 1971, 1972, 1973, 1974, 1975, 1976, 1977, 1978, 1979, 1980, 1981, 1982, 1983, 1984, 1985, 1986, 1987, 1988, 1989, 1990, 1991, 1992, 1993, 1994, 1995, 1996, 1997, 1998, 1999, 2000, 2001, 2002, 2003, 2004, 2005, 2006, 2007, 2008, 2009, 2010, 2011, 2012, 2013, 2014, 2015, 2016], \"y\": [21, 17, 17, 20, 16, 16, 16, 18, 18, 19, 25, 26, 29, 41, 48, 55, 53, 69, 86, 105, 102, 119, 89, 101, 107, 103, 125, 149, 160, 203, 215, 260, 261, 278, 314, 290, 287, 391, 467, 588, 662, 799, 1517, 1774, 1917, 2207, 2553, 3006, 3052, 4093, 4318, 4536, 4777, 4903, 5048, 5228, 5498, 5555, 5577, 5899, 5984, 6157, 6506, 6691, 6918, 6822], \"type\": \"bar\", \"uid\": \"7f7ef466-e927-4b1e-9c3f-3abbb787d9a3\"}], {\"title\": {\"text\": \"#Refugees yearly\"}, \"yaxis\": {\"title\": {\"text\": \"# refugees\"}}}, {\"showLink\": false, \"linkText\": \"Export to plot.ly\", \"plotlyServerURL\": \"https://plot.ly\"}); \n",
       "}\n",
       "});</script><script type=\"text/javascript\">window.addEventListener(\"resize\", function(){if (document.getElementById(\"710aa4cc-c95c-432e-b172-7af39cc9e147\")) {window._Plotly.Plots.resize(document.getElementById(\"710aa4cc-c95c-432e-b172-7af39cc9e147\"));};})</script>"
      ]
     },
     "metadata": {},
     "output_type": "display_data"
    }
   ],
   "source": [
    "dff = df3.Year.value_counts().to_frame().reset_index().sort_values(by='index')\n",
    "dff.columns = ['Year', 'Refugees (incl. refugee-like situations)']\n",
    "\n",
    "trace = go.Bar(\n",
    "    x=dff.Year,\n",
    "    y=dff['Refugees (incl. refugee-like situations)'],\n",
    "    marker=dict(\n",
    "        color = dff.Year,\n",
    "        colorscale='Reds',\n",
    "        showscale=True)\n",
    ")\n",
    "\n",
    "data = [trace]\n",
    "layout = go.Layout(\n",
    "    title='#Refugees yearly', \n",
    "    yaxis = dict(title = '# refugees'\n",
    "                                                )\n",
    ")\n",
    "\n",
    "fig = go.Figure(data=data, layout=layout)\n",
    "py.iplot(fig)"
   ]
  },
  {
   "cell_type": "code",
   "execution_count": 83,
   "metadata": {},
   "outputs": [
    {
     "data": {
      "application/vnd.plotly.v1+json": {
       "config": {
        "linkText": "Export to plot.ly",
        "plotlyServerURL": "https://plot.ly",
        "showLink": false
       },
       "data": [
        {
         "marker": {
          "color": [
           116,
           231,
           503,
           605,
           2,
           4,
           1548,
           235,
           15,
           2782,
           1910,
           298,
           55,
           75,
           174,
           4,
           445,
           2157,
           168,
           544,
           1,
           340,
           1,
           327,
           457,
           1591,
           5,
           7,
           1228,
           487,
           328,
           9,
           251,
           520,
           4069,
           23,
           485,
           362,
           649,
           442,
           778,
           64,
           668,
           13,
           423,
           706,
           436,
           365,
           30,
           1089,
           1156,
           795,
           1,
           515,
           2339,
           231,
           135,
           1245,
           1079,
           135,
           1,
           92,
           282,
           510,
           59,
           1603,
           2450,
           6,
           569,
           236,
           294,
           2824,
           533,
           1485,
           4,
           321,
           409,
           246,
           18,
           40,
           157,
           1326,
           657,
           645,
           613,
           179,
           315,
           1909,
           686,
           2889,
           74,
           678,
           635,
           264,
           654,
           336,
           213,
           14,
           341,
           716,
           83,
           426,
           457,
           222,
           445,
           475,
           72,
           250,
           925,
           415,
           726,
           355,
           4,
           1229,
           7,
           7,
           38,
           146,
           3,
           884,
           463,
           17,
           411,
           70,
           285,
           3090,
           1463,
           265,
           379,
           630,
           2179,
           77,
           619,
           10,
           799,
           176,
           244,
           857,
           576,
           1194,
           960,
           140,
           737,
           544,
           1012,
           758,
           275,
           5,
           16,
           2,
           2,
           305,
           768,
           530,
           1,
           217,
           86,
           14,
           774,
           556,
           8,
           252,
           1129,
           60,
           2046,
           211,
           1,
           460,
           32,
           425,
           3481,
           2495,
           874,
           116,
           791,
           250,
           60,
           426,
           10,
           200,
           457,
           1089,
           121,
           13,
           573,
           1325,
           312,
           2723,
           374,
           4308,
           579,
           154,
           16,
           759,
           51,
           520,
           502,
           504
          ],
          "colorscale": "Reds",
          "showscale": true
         },
         "type": "bar",
         "uid": "3ee6dfd5-1d7d-4742-a5a0-84e26ae2b541",
         "x": [
          "Afghanistan",
          "Albania",
          "Algeria",
          "Angola",
          "Anguilla",
          "Antigua and Barbuda",
          "Argentina",
          "Armenia",
          "Aruba",
          "Australia",
          "Austria",
          "Azerbaijan",
          "Bahamas",
          "Bahrain",
          "Bangladesh",
          "Barbados",
          "Belarus",
          "Belgium",
          "Belize",
          "Benin",
          "Bhutan",
          "Bolivia (Plurinational State of)",
          "Bonaire",
          "Bosnia and Herzegovina",
          "Botswana",
          "Brazil",
          "British Virgin Islands",
          "Brunei Darussalam",
          "Bulgaria",
          "Burkina Faso",
          "Burundi",
          "Cabo Verde",
          "Cambodia",
          "Cameroon",
          "Canada",
          "Cayman Islands",
          "Central African Rep.",
          "Chad",
          "Chile",
          "China",
          "China, Hong Kong SAR",
          "China, Macao SAR",
          "Colombia",
          "Comoros",
          "Congo",
          "Costa Rica",
          "Croatia",
          "Cuba",
          "Curaçao",
          "Cyprus",
          "Czech Rep.",
          "Côte d'Ivoire",
          "Dem. People's Rep. of Korea",
          "Dem. Rep. of the Congo",
          "Denmark",
          "Djibouti",
          "Dominican Rep.",
          "Ecuador",
          "Egypt",
          "El Salvador",
          "Equatorial Guinea",
          "Eritrea",
          "Estonia",
          "Ethiopia",
          "Fiji",
          "Finland",
          "France",
          "French Guiana",
          "Gabon",
          "Gambia",
          "Georgia",
          "Germany",
          "Ghana",
          "Greece",
          "Grenada",
          "Guatemala",
          "Guinea",
          "Guinea-Bissau",
          "Guyana",
          "Haiti",
          "Honduras",
          "Hungary",
          "Iceland",
          "India",
          "Indonesia",
          "Iran (Islamic Rep. of)",
          "Iraq",
          "Ireland",
          "Israel",
          "Italy",
          "Jamaica",
          "Japan",
          "Jordan",
          "Kazakhstan",
          "Kenya",
          "Kuwait",
          "Kyrgyzstan",
          "Lao People's Dem. Rep.",
          "Latvia",
          "Lebanon",
          "Lesotho",
          "Liberia",
          "Libya",
          "Liechtenstein",
          "Lithuania",
          "Luxembourg",
          "Madagascar",
          "Malawi",
          "Malaysia",
          "Mali",
          "Malta",
          "Mauritania",
          "Mauritius",
          "Mexico",
          "Micronesia (Federated States of)",
          "Monaco",
          "Mongolia",
          "Montenegro",
          "Montserrat",
          "Morocco",
          "Mozambique",
          "Myanmar",
          "Namibia",
          "Nauru",
          "Nepal",
          "Netherlands",
          "New Zealand",
          "Nicaragua",
          "Niger",
          "Nigeria",
          "Norway",
          "Oman",
          "Pakistan",
          "Palau",
          "Panama",
          "Papua New Guinea",
          "Paraguay",
          "Peru",
          "Philippines",
          "Poland",
          "Portugal",
          "Qatar",
          "Rep. of Korea",
          "Rep. of Moldova",
          "Romania",
          "Russian Federation",
          "Rwanda",
          "Saint Kitts and Nevis",
          "Saint Lucia",
          "Saint Vincent and the Grenadines",
          "Samoa",
          "Saudi Arabia",
          "Senegal",
          "Serbia and Kosovo (S/RES/1244 (1999))",
          "Seychelles",
          "Sierra Leone",
          "Singapore",
          "Sint Maarten (Dutch part)",
          "Slovakia",
          "Slovenia",
          "Solomon Islands",
          "Somalia",
          "South Africa",
          "South Sudan",
          "Spain",
          "Sri Lanka",
          "State of Palestine",
          "Sudan",
          "Suriname",
          "Swaziland",
          "Sweden",
          "Switzerland",
          "Syrian Arab Rep.",
          "Tajikistan",
          "Thailand",
          "The former Yugoslav Republic of Macedonia",
          "Timor-Leste",
          "Togo",
          "Tonga",
          "Trinidad and Tobago",
          "Tunisia",
          "Turkey",
          "Turkmenistan",
          "Turks and Caicos Islands",
          "Uganda",
          "Ukraine",
          "United Arab Emirates",
          "United Kingdom",
          "United Rep. of Tanzania",
          "United States of America",
          "Uruguay",
          "Uzbekistan",
          "Vanuatu",
          "Venezuela (Bolivarian Republic of)",
          "Viet Nam",
          "Yemen",
          "Zambia",
          "Zimbabwe"
         ],
         "y": [
          116,
          231,
          503,
          605,
          2,
          4,
          1548,
          235,
          15,
          2782,
          1910,
          298,
          55,
          75,
          174,
          4,
          445,
          2157,
          168,
          544,
          1,
          340,
          1,
          327,
          457,
          1591,
          5,
          7,
          1228,
          487,
          328,
          9,
          251,
          520,
          4069,
          23,
          485,
          362,
          649,
          442,
          778,
          64,
          668,
          13,
          423,
          706,
          436,
          365,
          30,
          1089,
          1156,
          795,
          1,
          515,
          2339,
          231,
          135,
          1245,
          1079,
          135,
          1,
          92,
          282,
          510,
          59,
          1603,
          2450,
          6,
          569,
          236,
          294,
          2824,
          533,
          1485,
          4,
          321,
          409,
          246,
          18,
          40,
          157,
          1326,
          657,
          645,
          613,
          179,
          315,
          1909,
          686,
          2889,
          74,
          678,
          635,
          264,
          654,
          336,
          213,
          14,
          341,
          716,
          83,
          426,
          457,
          222,
          445,
          475,
          72,
          250,
          925,
          415,
          726,
          355,
          4,
          1229,
          7,
          7,
          38,
          146,
          3,
          884,
          463,
          17,
          411,
          70,
          285,
          3090,
          1463,
          265,
          379,
          630,
          2179,
          77,
          619,
          10,
          799,
          176,
          244,
          857,
          576,
          1194,
          960,
          140,
          737,
          544,
          1012,
          758,
          275,
          5,
          16,
          2,
          2,
          305,
          768,
          530,
          1,
          217,
          86,
          14,
          774,
          556,
          8,
          252,
          1129,
          60,
          2046,
          211,
          1,
          460,
          32,
          425,
          3481,
          2495,
          874,
          116,
          791,
          250,
          60,
          426,
          10,
          200,
          457,
          1089,
          121,
          13,
          573,
          1325,
          312,
          2723,
          374,
          4308,
          579,
          154,
          16,
          759,
          51,
          520,
          502,
          504
         ]
        }
       ],
       "layout": {
        "title": {
         "text": "#Refugees population by country"
        },
        "yaxis": {
         "title": {
          "text": "# refugees"
         }
        }
       }
      },
      "text/html": [
       "<div id=\"002cf707-8c3e-49ff-be92-d2b588eb65a2\" style=\"height: 525px; width: 100%;\" class=\"plotly-graph-div\"></div><script type=\"text/javascript\">require([\"plotly\"], function(Plotly) { window.PLOTLYENV=window.PLOTLYENV || {};window.PLOTLYENV.BASE_URL=\"https://plot.ly\";\n",
       "if (document.getElementById(\"002cf707-8c3e-49ff-be92-d2b588eb65a2\")) {\n",
       "    Plotly.newPlot(\"002cf707-8c3e-49ff-be92-d2b588eb65a2\", [{\"marker\": {\"color\": [116, 231, 503, 605, 2, 4, 1548, 235, 15, 2782, 1910, 298, 55, 75, 174, 4, 445, 2157, 168, 544, 1, 340, 1, 327, 457, 1591, 5, 7, 1228, 487, 328, 9, 251, 520, 4069, 23, 485, 362, 649, 442, 778, 64, 668, 13, 423, 706, 436, 365, 30, 1089, 1156, 795, 1, 515, 2339, 231, 135, 1245, 1079, 135, 1, 92, 282, 510, 59, 1603, 2450, 6, 569, 236, 294, 2824, 533, 1485, 4, 321, 409, 246, 18, 40, 157, 1326, 657, 645, 613, 179, 315, 1909, 686, 2889, 74, 678, 635, 264, 654, 336, 213, 14, 341, 716, 83, 426, 457, 222, 445, 475, 72, 250, 925, 415, 726, 355, 4, 1229, 7, 7, 38, 146, 3, 884, 463, 17, 411, 70, 285, 3090, 1463, 265, 379, 630, 2179, 77, 619, 10, 799, 176, 244, 857, 576, 1194, 960, 140, 737, 544, 1012, 758, 275, 5, 16, 2, 2, 305, 768, 530, 1, 217, 86, 14, 774, 556, 8, 252, 1129, 60, 2046, 211, 1, 460, 32, 425, 3481, 2495, 874, 116, 791, 250, 60, 426, 10, 200, 457, 1089, 121, 13, 573, 1325, 312, 2723, 374, 4308, 579, 154, 16, 759, 51, 520, 502, 504], \"colorscale\": \"Reds\", \"showscale\": true}, \"x\": [\"Afghanistan\", \"Albania\", \"Algeria\", \"Angola\", \"Anguilla\", \"Antigua and Barbuda\", \"Argentina\", \"Armenia\", \"Aruba\", \"Australia\", \"Austria\", \"Azerbaijan\", \"Bahamas\", \"Bahrain\", \"Bangladesh\", \"Barbados\", \"Belarus\", \"Belgium\", \"Belize\", \"Benin\", \"Bhutan\", \"Bolivia (Plurinational State of)\", \"Bonaire\", \"Bosnia and Herzegovina\", \"Botswana\", \"Brazil\", \"British Virgin Islands\", \"Brunei Darussalam\", \"Bulgaria\", \"Burkina Faso\", \"Burundi\", \"Cabo Verde\", \"Cambodia\", \"Cameroon\", \"Canada\", \"Cayman Islands\", \"Central African Rep.\", \"Chad\", \"Chile\", \"China\", \"China, Hong Kong SAR\", \"China, Macao SAR\", \"Colombia\", \"Comoros\", \"Congo\", \"Costa Rica\", \"Croatia\", \"Cuba\", \"Cura\\u00e7ao\", \"Cyprus\", \"Czech Rep.\", \"C\\u00f4te d'Ivoire\", \"Dem. People's Rep. of Korea\", \"Dem. Rep. of the Congo\", \"Denmark\", \"Djibouti\", \"Dominican Rep.\", \"Ecuador\", \"Egypt\", \"El Salvador\", \"Equatorial Guinea\", \"Eritrea\", \"Estonia\", \"Ethiopia\", \"Fiji\", \"Finland\", \"France\", \"French Guiana\", \"Gabon\", \"Gambia\", \"Georgia\", \"Germany\", \"Ghana\", \"Greece\", \"Grenada\", \"Guatemala\", \"Guinea\", \"Guinea-Bissau\", \"Guyana\", \"Haiti\", \"Honduras\", \"Hungary\", \"Iceland\", \"India\", \"Indonesia\", \"Iran (Islamic Rep. of)\", \"Iraq\", \"Ireland\", \"Israel\", \"Italy\", \"Jamaica\", \"Japan\", \"Jordan\", \"Kazakhstan\", \"Kenya\", \"Kuwait\", \"Kyrgyzstan\", \"Lao People's Dem. Rep.\", \"Latvia\", \"Lebanon\", \"Lesotho\", \"Liberia\", \"Libya\", \"Liechtenstein\", \"Lithuania\", \"Luxembourg\", \"Madagascar\", \"Malawi\", \"Malaysia\", \"Mali\", \"Malta\", \"Mauritania\", \"Mauritius\", \"Mexico\", \"Micronesia (Federated States of)\", \"Monaco\", \"Mongolia\", \"Montenegro\", \"Montserrat\", \"Morocco\", \"Mozambique\", \"Myanmar\", \"Namibia\", \"Nauru\", \"Nepal\", \"Netherlands\", \"New Zealand\", \"Nicaragua\", \"Niger\", \"Nigeria\", \"Norway\", \"Oman\", \"Pakistan\", \"Palau\", \"Panama\", \"Papua New Guinea\", \"Paraguay\", \"Peru\", \"Philippines\", \"Poland\", \"Portugal\", \"Qatar\", \"Rep. of Korea\", \"Rep. of Moldova\", \"Romania\", \"Russian Federation\", \"Rwanda\", \"Saint Kitts and Nevis\", \"Saint Lucia\", \"Saint Vincent and the Grenadines\", \"Samoa\", \"Saudi Arabia\", \"Senegal\", \"Serbia and Kosovo (S/RES/1244 (1999))\", \"Seychelles\", \"Sierra Leone\", \"Singapore\", \"Sint Maarten (Dutch part)\", \"Slovakia\", \"Slovenia\", \"Solomon Islands\", \"Somalia\", \"South Africa\", \"South Sudan\", \"Spain\", \"Sri Lanka\", \"State of Palestine\", \"Sudan\", \"Suriname\", \"Swaziland\", \"Sweden\", \"Switzerland\", \"Syrian Arab Rep.\", \"Tajikistan\", \"Thailand\", \"The former Yugoslav Republic of Macedonia\", \"Timor-Leste\", \"Togo\", \"Tonga\", \"Trinidad and Tobago\", \"Tunisia\", \"Turkey\", \"Turkmenistan\", \"Turks and Caicos Islands\", \"Uganda\", \"Ukraine\", \"United Arab Emirates\", \"United Kingdom\", \"United Rep. of Tanzania\", \"United States of America\", \"Uruguay\", \"Uzbekistan\", \"Vanuatu\", \"Venezuela (Bolivarian Republic of)\", \"Viet Nam\", \"Yemen\", \"Zambia\", \"Zimbabwe\"], \"y\": [116, 231, 503, 605, 2, 4, 1548, 235, 15, 2782, 1910, 298, 55, 75, 174, 4, 445, 2157, 168, 544, 1, 340, 1, 327, 457, 1591, 5, 7, 1228, 487, 328, 9, 251, 520, 4069, 23, 485, 362, 649, 442, 778, 64, 668, 13, 423, 706, 436, 365, 30, 1089, 1156, 795, 1, 515, 2339, 231, 135, 1245, 1079, 135, 1, 92, 282, 510, 59, 1603, 2450, 6, 569, 236, 294, 2824, 533, 1485, 4, 321, 409, 246, 18, 40, 157, 1326, 657, 645, 613, 179, 315, 1909, 686, 2889, 74, 678, 635, 264, 654, 336, 213, 14, 341, 716, 83, 426, 457, 222, 445, 475, 72, 250, 925, 415, 726, 355, 4, 1229, 7, 7, 38, 146, 3, 884, 463, 17, 411, 70, 285, 3090, 1463, 265, 379, 630, 2179, 77, 619, 10, 799, 176, 244, 857, 576, 1194, 960, 140, 737, 544, 1012, 758, 275, 5, 16, 2, 2, 305, 768, 530, 1, 217, 86, 14, 774, 556, 8, 252, 1129, 60, 2046, 211, 1, 460, 32, 425, 3481, 2495, 874, 116, 791, 250, 60, 426, 10, 200, 457, 1089, 121, 13, 573, 1325, 312, 2723, 374, 4308, 579, 154, 16, 759, 51, 520, 502, 504], \"type\": \"bar\", \"uid\": \"3ee6dfd5-1d7d-4742-a5a0-84e26ae2b541\"}], {\"title\": {\"text\": \"#Refugees population by country\"}, \"yaxis\": {\"title\": {\"text\": \"# refugees\"}}}, {\"showLink\": false, \"linkText\": \"Export to plot.ly\", \"plotlyServerURL\": \"https://plot.ly\"}); \n",
       "}\n",
       "});</script><script type=\"text/javascript\">window.addEventListener(\"resize\", function(){if (document.getElementById(\"002cf707-8c3e-49ff-be92-d2b588eb65a2\")) {window._Plotly.Plots.resize(document.getElementById(\"002cf707-8c3e-49ff-be92-d2b588eb65a2\"));};})</script>"
      ],
      "text/vnd.plotly.v1+html": [
       "<div id=\"002cf707-8c3e-49ff-be92-d2b588eb65a2\" style=\"height: 525px; width: 100%;\" class=\"plotly-graph-div\"></div><script type=\"text/javascript\">require([\"plotly\"], function(Plotly) { window.PLOTLYENV=window.PLOTLYENV || {};window.PLOTLYENV.BASE_URL=\"https://plot.ly\";\n",
       "if (document.getElementById(\"002cf707-8c3e-49ff-be92-d2b588eb65a2\")) {\n",
       "    Plotly.newPlot(\"002cf707-8c3e-49ff-be92-d2b588eb65a2\", [{\"marker\": {\"color\": [116, 231, 503, 605, 2, 4, 1548, 235, 15, 2782, 1910, 298, 55, 75, 174, 4, 445, 2157, 168, 544, 1, 340, 1, 327, 457, 1591, 5, 7, 1228, 487, 328, 9, 251, 520, 4069, 23, 485, 362, 649, 442, 778, 64, 668, 13, 423, 706, 436, 365, 30, 1089, 1156, 795, 1, 515, 2339, 231, 135, 1245, 1079, 135, 1, 92, 282, 510, 59, 1603, 2450, 6, 569, 236, 294, 2824, 533, 1485, 4, 321, 409, 246, 18, 40, 157, 1326, 657, 645, 613, 179, 315, 1909, 686, 2889, 74, 678, 635, 264, 654, 336, 213, 14, 341, 716, 83, 426, 457, 222, 445, 475, 72, 250, 925, 415, 726, 355, 4, 1229, 7, 7, 38, 146, 3, 884, 463, 17, 411, 70, 285, 3090, 1463, 265, 379, 630, 2179, 77, 619, 10, 799, 176, 244, 857, 576, 1194, 960, 140, 737, 544, 1012, 758, 275, 5, 16, 2, 2, 305, 768, 530, 1, 217, 86, 14, 774, 556, 8, 252, 1129, 60, 2046, 211, 1, 460, 32, 425, 3481, 2495, 874, 116, 791, 250, 60, 426, 10, 200, 457, 1089, 121, 13, 573, 1325, 312, 2723, 374, 4308, 579, 154, 16, 759, 51, 520, 502, 504], \"colorscale\": \"Reds\", \"showscale\": true}, \"x\": [\"Afghanistan\", \"Albania\", \"Algeria\", \"Angola\", \"Anguilla\", \"Antigua and Barbuda\", \"Argentina\", \"Armenia\", \"Aruba\", \"Australia\", \"Austria\", \"Azerbaijan\", \"Bahamas\", \"Bahrain\", \"Bangladesh\", \"Barbados\", \"Belarus\", \"Belgium\", \"Belize\", \"Benin\", \"Bhutan\", \"Bolivia (Plurinational State of)\", \"Bonaire\", \"Bosnia and Herzegovina\", \"Botswana\", \"Brazil\", \"British Virgin Islands\", \"Brunei Darussalam\", \"Bulgaria\", \"Burkina Faso\", \"Burundi\", \"Cabo Verde\", \"Cambodia\", \"Cameroon\", \"Canada\", \"Cayman Islands\", \"Central African Rep.\", \"Chad\", \"Chile\", \"China\", \"China, Hong Kong SAR\", \"China, Macao SAR\", \"Colombia\", \"Comoros\", \"Congo\", \"Costa Rica\", \"Croatia\", \"Cuba\", \"Cura\\u00e7ao\", \"Cyprus\", \"Czech Rep.\", \"C\\u00f4te d'Ivoire\", \"Dem. People's Rep. of Korea\", \"Dem. Rep. of the Congo\", \"Denmark\", \"Djibouti\", \"Dominican Rep.\", \"Ecuador\", \"Egypt\", \"El Salvador\", \"Equatorial Guinea\", \"Eritrea\", \"Estonia\", \"Ethiopia\", \"Fiji\", \"Finland\", \"France\", \"French Guiana\", \"Gabon\", \"Gambia\", \"Georgia\", \"Germany\", \"Ghana\", \"Greece\", \"Grenada\", \"Guatemala\", \"Guinea\", \"Guinea-Bissau\", \"Guyana\", \"Haiti\", \"Honduras\", \"Hungary\", \"Iceland\", \"India\", \"Indonesia\", \"Iran (Islamic Rep. of)\", \"Iraq\", \"Ireland\", \"Israel\", \"Italy\", \"Jamaica\", \"Japan\", \"Jordan\", \"Kazakhstan\", \"Kenya\", \"Kuwait\", \"Kyrgyzstan\", \"Lao People's Dem. Rep.\", \"Latvia\", \"Lebanon\", \"Lesotho\", \"Liberia\", \"Libya\", \"Liechtenstein\", \"Lithuania\", \"Luxembourg\", \"Madagascar\", \"Malawi\", \"Malaysia\", \"Mali\", \"Malta\", \"Mauritania\", \"Mauritius\", \"Mexico\", \"Micronesia (Federated States of)\", \"Monaco\", \"Mongolia\", \"Montenegro\", \"Montserrat\", \"Morocco\", \"Mozambique\", \"Myanmar\", \"Namibia\", \"Nauru\", \"Nepal\", \"Netherlands\", \"New Zealand\", \"Nicaragua\", \"Niger\", \"Nigeria\", \"Norway\", \"Oman\", \"Pakistan\", \"Palau\", \"Panama\", \"Papua New Guinea\", \"Paraguay\", \"Peru\", \"Philippines\", \"Poland\", \"Portugal\", \"Qatar\", \"Rep. of Korea\", \"Rep. of Moldova\", \"Romania\", \"Russian Federation\", \"Rwanda\", \"Saint Kitts and Nevis\", \"Saint Lucia\", \"Saint Vincent and the Grenadines\", \"Samoa\", \"Saudi Arabia\", \"Senegal\", \"Serbia and Kosovo (S/RES/1244 (1999))\", \"Seychelles\", \"Sierra Leone\", \"Singapore\", \"Sint Maarten (Dutch part)\", \"Slovakia\", \"Slovenia\", \"Solomon Islands\", \"Somalia\", \"South Africa\", \"South Sudan\", \"Spain\", \"Sri Lanka\", \"State of Palestine\", \"Sudan\", \"Suriname\", \"Swaziland\", \"Sweden\", \"Switzerland\", \"Syrian Arab Rep.\", \"Tajikistan\", \"Thailand\", \"The former Yugoslav Republic of Macedonia\", \"Timor-Leste\", \"Togo\", \"Tonga\", \"Trinidad and Tobago\", \"Tunisia\", \"Turkey\", \"Turkmenistan\", \"Turks and Caicos Islands\", \"Uganda\", \"Ukraine\", \"United Arab Emirates\", \"United Kingdom\", \"United Rep. of Tanzania\", \"United States of America\", \"Uruguay\", \"Uzbekistan\", \"Vanuatu\", \"Venezuela (Bolivarian Republic of)\", \"Viet Nam\", \"Yemen\", \"Zambia\", \"Zimbabwe\"], \"y\": [116, 231, 503, 605, 2, 4, 1548, 235, 15, 2782, 1910, 298, 55, 75, 174, 4, 445, 2157, 168, 544, 1, 340, 1, 327, 457, 1591, 5, 7, 1228, 487, 328, 9, 251, 520, 4069, 23, 485, 362, 649, 442, 778, 64, 668, 13, 423, 706, 436, 365, 30, 1089, 1156, 795, 1, 515, 2339, 231, 135, 1245, 1079, 135, 1, 92, 282, 510, 59, 1603, 2450, 6, 569, 236, 294, 2824, 533, 1485, 4, 321, 409, 246, 18, 40, 157, 1326, 657, 645, 613, 179, 315, 1909, 686, 2889, 74, 678, 635, 264, 654, 336, 213, 14, 341, 716, 83, 426, 457, 222, 445, 475, 72, 250, 925, 415, 726, 355, 4, 1229, 7, 7, 38, 146, 3, 884, 463, 17, 411, 70, 285, 3090, 1463, 265, 379, 630, 2179, 77, 619, 10, 799, 176, 244, 857, 576, 1194, 960, 140, 737, 544, 1012, 758, 275, 5, 16, 2, 2, 305, 768, 530, 1, 217, 86, 14, 774, 556, 8, 252, 1129, 60, 2046, 211, 1, 460, 32, 425, 3481, 2495, 874, 116, 791, 250, 60, 426, 10, 200, 457, 1089, 121, 13, 573, 1325, 312, 2723, 374, 4308, 579, 154, 16, 759, 51, 520, 502, 504], \"type\": \"bar\", \"uid\": \"3ee6dfd5-1d7d-4742-a5a0-84e26ae2b541\"}], {\"title\": {\"text\": \"#Refugees population by country\"}, \"yaxis\": {\"title\": {\"text\": \"# refugees\"}}}, {\"showLink\": false, \"linkText\": \"Export to plot.ly\", \"plotlyServerURL\": \"https://plot.ly\"}); \n",
       "}\n",
       "});</script><script type=\"text/javascript\">window.addEventListener(\"resize\", function(){if (document.getElementById(\"002cf707-8c3e-49ff-be92-d2b588eb65a2\")) {window._Plotly.Plots.resize(document.getElementById(\"002cf707-8c3e-49ff-be92-d2b588eb65a2\"));};})</script>"
      ]
     },
     "metadata": {},
     "output_type": "display_data"
    }
   ],
   "source": [
    "dff = df3['Country / territory of asylum/residence'].value_counts().to_frame().reset_index().sort_values(by='index')\n",
    "dff.columns = ['Total Population', 'Country / territory of asylum/residence']\n",
    "#month = {1: 'Jan', 2: 'Feb', 3: 'Mar', 4: 'Apr', 5: 'May',\n",
    "           # 6: 'Jun', 7: 'Jul', 8: 'Aug', 9: 'Sep', 10: 'Oct', 11: 'Nov', 12: 'Dec'}\n",
    "#dff.month = dff.month.map(month)\n",
    "dff.columns\n",
    "trace = go.Bar(\n",
    "    x=dff['Total Population'],\n",
    "    y=dff['Country / territory of asylum/residence'],\n",
    "    marker=dict(\n",
    "        color = dff['Country / territory of asylum/residence'],\n",
    "        colorscale='Reds',\n",
    "        showscale=True)\n",
    ")\n",
    "\n",
    "data = [trace]\n",
    "layout = go.Layout(\n",
    "    title='#Refugees population by country', \n",
    "    yaxis = dict(title = '# refugees'\n",
    "                                                )\n",
    ")\n",
    "\n",
    "fig = go.Figure(data=data, layout=layout)\n",
    "py.iplot(fig)"
   ]
  },
  {
   "cell_type": "code",
   "execution_count": 84,
   "metadata": {},
   "outputs": [
    {
     "data": {
      "text/html": [
       "<div>\n",
       "<style scoped>\n",
       "    .dataframe tbody tr th:only-of-type {\n",
       "        vertical-align: middle;\n",
       "    }\n",
       "\n",
       "    .dataframe tbody tr th {\n",
       "        vertical-align: top;\n",
       "    }\n",
       "\n",
       "    .dataframe thead th {\n",
       "        text-align: right;\n",
       "    }\n",
       "</style>\n",
       "<table border=\"1\" class=\"dataframe\">\n",
       "  <thead>\n",
       "    <tr style=\"text-align: right;\">\n",
       "      <th></th>\n",
       "      <th>Year</th>\n",
       "      <th>Country / territory of asylum/residence</th>\n",
       "      <th>Origin</th>\n",
       "      <th>Refugees (incl. refugee-like situations)</th>\n",
       "      <th>Asylum-seekers (pending cases)</th>\n",
       "      <th>Returned refugees</th>\n",
       "      <th>Internally displaced persons (IDPs)</th>\n",
       "      <th>Returned IDPs</th>\n",
       "      <th>Stateless persons</th>\n",
       "      <th>Others of concern</th>\n",
       "      <th>Total Population</th>\n",
       "    </tr>\n",
       "  </thead>\n",
       "  <tbody>\n",
       "    <tr>\n",
       "      <th>0</th>\n",
       "      <td>1951</td>\n",
       "      <td>Australia</td>\n",
       "      <td>Various/Unknown</td>\n",
       "      <td>180000</td>\n",
       "      <td>NaN</td>\n",
       "      <td>NaN</td>\n",
       "      <td>NaN</td>\n",
       "      <td>NaN</td>\n",
       "      <td>NaN</td>\n",
       "      <td>NaN</td>\n",
       "      <td>180000</td>\n",
       "    </tr>\n",
       "    <tr>\n",
       "      <th>1</th>\n",
       "      <td>1951</td>\n",
       "      <td>Austria</td>\n",
       "      <td>Various/Unknown</td>\n",
       "      <td>282000</td>\n",
       "      <td>NaN</td>\n",
       "      <td>NaN</td>\n",
       "      <td>NaN</td>\n",
       "      <td>NaN</td>\n",
       "      <td>NaN</td>\n",
       "      <td>NaN</td>\n",
       "      <td>282000</td>\n",
       "    </tr>\n",
       "    <tr>\n",
       "      <th>2</th>\n",
       "      <td>1951</td>\n",
       "      <td>Belgium</td>\n",
       "      <td>Various/Unknown</td>\n",
       "      <td>55000</td>\n",
       "      <td>NaN</td>\n",
       "      <td>NaN</td>\n",
       "      <td>NaN</td>\n",
       "      <td>NaN</td>\n",
       "      <td>NaN</td>\n",
       "      <td>NaN</td>\n",
       "      <td>55000</td>\n",
       "    </tr>\n",
       "    <tr>\n",
       "      <th>3</th>\n",
       "      <td>1951</td>\n",
       "      <td>Canada</td>\n",
       "      <td>Various/Unknown</td>\n",
       "      <td>168511</td>\n",
       "      <td>NaN</td>\n",
       "      <td>NaN</td>\n",
       "      <td>NaN</td>\n",
       "      <td>NaN</td>\n",
       "      <td>NaN</td>\n",
       "      <td>NaN</td>\n",
       "      <td>168511</td>\n",
       "    </tr>\n",
       "    <tr>\n",
       "      <th>4</th>\n",
       "      <td>1951</td>\n",
       "      <td>Switzerland</td>\n",
       "      <td>Various/Unknown</td>\n",
       "      <td>10000</td>\n",
       "      <td>NaN</td>\n",
       "      <td>NaN</td>\n",
       "      <td>NaN</td>\n",
       "      <td>NaN</td>\n",
       "      <td>NaN</td>\n",
       "      <td>NaN</td>\n",
       "      <td>10000</td>\n",
       "    </tr>\n",
       "  </tbody>\n",
       "</table>\n",
       "</div>"
      ],
      "text/plain": [
       "   Year Country / territory of asylum/residence           Origin  \\\n",
       "0  1951                               Australia  Various/Unknown   \n",
       "1  1951                                 Austria  Various/Unknown   \n",
       "2  1951                                 Belgium  Various/Unknown   \n",
       "3  1951                                  Canada  Various/Unknown   \n",
       "4  1951                             Switzerland  Various/Unknown   \n",
       "\n",
       "  Refugees (incl. refugee-like situations) Asylum-seekers (pending cases)  \\\n",
       "0                                   180000                            NaN   \n",
       "1                                   282000                            NaN   \n",
       "2                                    55000                            NaN   \n",
       "3                                   168511                            NaN   \n",
       "4                                    10000                            NaN   \n",
       "\n",
       "  Returned refugees  Internally displaced persons (IDPs)  Returned IDPs  \\\n",
       "0               NaN                                  NaN            NaN   \n",
       "1               NaN                                  NaN            NaN   \n",
       "2               NaN                                  NaN            NaN   \n",
       "3               NaN                                  NaN            NaN   \n",
       "4               NaN                                  NaN            NaN   \n",
       "\n",
       "  Stateless persons Others of concern Total Population  \n",
       "0               NaN               NaN           180000  \n",
       "1               NaN               NaN           282000  \n",
       "2               NaN               NaN            55000  \n",
       "3               NaN               NaN           168511  \n",
       "4               NaN               NaN            10000  "
      ]
     },
     "execution_count": 84,
     "metadata": {},
     "output_type": "execute_result"
    }
   ],
   "source": [
    "df_new= df3.drop(df[df.Year == 2017].index)\n",
    "df_new.head()"
   ]
  },
  {
   "cell_type": "code",
   "execution_count": 233,
   "metadata": {},
   "outputs": [],
   "source": [
    "df=df.rename(index=str, columns={\"Country / territory of asylum/residence\": \"Country\", \"Applied during year\": \"Applied\"})\n"
   ]
  },
  {
   "cell_type": "code",
   "execution_count": 154,
   "metadata": {},
   "outputs": [
    {
     "data": {
      "text/plain": [
       "Year                                    int64\n",
       "Country                                object\n",
       "Origin                                 object\n",
       "RSD procedure type / level             object\n",
       "Tota pending start-year                object\n",
       "of which UNHCR-assisted(start-year)    object\n",
       "Applied                                object\n",
       "decisions_recognized                   object\n",
       "decisions_other                        object\n",
       "Rejected                               object\n",
       "Otherwise closed                       object\n",
       "Total decisions                        object\n",
       "Total pending end-year                 object\n",
       "of which UNHCR-assisted(end-year)      object\n",
       "dtype: object"
      ]
     },
     "execution_count": 154,
     "metadata": {},
     "output_type": "execute_result"
    }
   ],
   "source": [
    "df.dtypes"
   ]
  },
  {
   "cell_type": "code",
   "execution_count": 155,
   "metadata": {},
   "outputs": [],
   "source": [
    "df_new['Population']=pd.to_numeric(df_new.Population, errors=\"coerce\").fillna(0).astype(int)"
   ]
  },
  {
   "cell_type": "code",
   "execution_count": 229,
   "metadata": {},
   "outputs": [
    {
     "data": {
      "application/vnd.plotly.v1+json": {
       "config": {
        "linkText": "Export to plot.ly",
        "plotlyServerURL": "https://plot.ly",
        "showLink": false
       },
       "data": [
        {
         "marker": {
          "color": [
           90347706,
           71625678,
           57037336,
           53453201,
           43421174,
           40496629,
           35351568,
           33736056,
           33055463,
           26005866,
           18766088,
           18720115
          ],
          "colorscale": "Jet",
          "showscale": true,
          "size": 30,
          "sizemode": "diameter",
          "sizeref": 1
         },
         "mode": "markers",
         "type": "scatter",
         "uid": "35211a35-c2d0-40a2-a63e-d3e8b3f3b0dd",
         "x": [
          "Pakistan",
          "Iran (Islamic Rep. of)",
          "Colombia",
          "Dem. Rep. of the Congo",
          "Sudan",
          "Syrian Arab Rep.",
          "United States of America",
          "Iraq",
          "Germany",
          "Somalia",
          "United Rep. of Tanzania",
          "Uganda"
         ],
         "y": [
          90347706,
          71625678,
          57037336,
          53453201,
          43421174,
          40496629,
          35351568,
          33736056,
          33055463,
          26005866,
          18766088,
          18720115
         ]
        }
       ],
       "layout": {
        "title": {
         "text": "Territory of asylum residence "
        },
        "xaxis": {
         "tickangle": -20
        },
        "yaxis": {
         "title": {
          "text": "Population"
         }
        }
       }
      },
      "text/html": [
       "<div id=\"c7c00fb1-774b-4f0a-ad93-185914da8e3c\" style=\"height: 525px; width: 100%;\" class=\"plotly-graph-div\"></div><script type=\"text/javascript\">require([\"plotly\"], function(Plotly) { window.PLOTLYENV=window.PLOTLYENV || {};window.PLOTLYENV.BASE_URL=\"https://plot.ly\";\n",
       "if (document.getElementById(\"c7c00fb1-774b-4f0a-ad93-185914da8e3c\")) {\n",
       "    Plotly.newPlot(\"c7c00fb1-774b-4f0a-ad93-185914da8e3c\", [{\"marker\": {\"color\": [90347706, 71625678, 57037336, 53453201, 43421174, 40496629, 35351568, 33736056, 33055463, 26005866, 18766088, 18720115], \"colorscale\": \"Jet\", \"showscale\": true, \"size\": 30, \"sizemode\": \"diameter\", \"sizeref\": 1}, \"mode\": \"markers\", \"x\": [\"Pakistan\", \"Iran (Islamic Rep. of)\", \"Colombia\", \"Dem. Rep. of the Congo\", \"Sudan\", \"Syrian Arab Rep.\", \"United States of America\", \"Iraq\", \"Germany\", \"Somalia\", \"United Rep. of Tanzania\", \"Uganda\"], \"y\": [90347706, 71625678, 57037336, 53453201, 43421174, 40496629, 35351568, 33736056, 33055463, 26005866, 18766088, 18720115], \"type\": \"scatter\", \"uid\": \"35211a35-c2d0-40a2-a63e-d3e8b3f3b0dd\"}], {\"title\": {\"text\": \"Territory of asylum residence \"}, \"xaxis\": {\"tickangle\": -20}, \"yaxis\": {\"title\": {\"text\": \"Population\"}}}, {\"showLink\": false, \"linkText\": \"Export to plot.ly\", \"plotlyServerURL\": \"https://plot.ly\"}); \n",
       "}\n",
       "});</script><script type=\"text/javascript\">window.addEventListener(\"resize\", function(){if (document.getElementById(\"c7c00fb1-774b-4f0a-ad93-185914da8e3c\")) {window._Plotly.Plots.resize(document.getElementById(\"c7c00fb1-774b-4f0a-ad93-185914da8e3c\"));};})</script>"
      ],
      "text/vnd.plotly.v1+html": [
       "<div id=\"c7c00fb1-774b-4f0a-ad93-185914da8e3c\" style=\"height: 525px; width: 100%;\" class=\"plotly-graph-div\"></div><script type=\"text/javascript\">require([\"plotly\"], function(Plotly) { window.PLOTLYENV=window.PLOTLYENV || {};window.PLOTLYENV.BASE_URL=\"https://plot.ly\";\n",
       "if (document.getElementById(\"c7c00fb1-774b-4f0a-ad93-185914da8e3c\")) {\n",
       "    Plotly.newPlot(\"c7c00fb1-774b-4f0a-ad93-185914da8e3c\", [{\"marker\": {\"color\": [90347706, 71625678, 57037336, 53453201, 43421174, 40496629, 35351568, 33736056, 33055463, 26005866, 18766088, 18720115], \"colorscale\": \"Jet\", \"showscale\": true, \"size\": 30, \"sizemode\": \"diameter\", \"sizeref\": 1}, \"mode\": \"markers\", \"x\": [\"Pakistan\", \"Iran (Islamic Rep. of)\", \"Colombia\", \"Dem. Rep. of the Congo\", \"Sudan\", \"Syrian Arab Rep.\", \"United States of America\", \"Iraq\", \"Germany\", \"Somalia\", \"United Rep. of Tanzania\", \"Uganda\"], \"y\": [90347706, 71625678, 57037336, 53453201, 43421174, 40496629, 35351568, 33736056, 33055463, 26005866, 18766088, 18720115], \"type\": \"scatter\", \"uid\": \"35211a35-c2d0-40a2-a63e-d3e8b3f3b0dd\"}], {\"title\": {\"text\": \"Territory of asylum residence \"}, \"xaxis\": {\"tickangle\": -20}, \"yaxis\": {\"title\": {\"text\": \"Population\"}}}, {\"showLink\": false, \"linkText\": \"Export to plot.ly\", \"plotlyServerURL\": \"https://plot.ly\"}); \n",
       "}\n",
       "});</script><script type=\"text/javascript\">window.addEventListener(\"resize\", function(){if (document.getElementById(\"c7c00fb1-774b-4f0a-ad93-185914da8e3c\")) {window._Plotly.Plots.resize(document.getElementById(\"c7c00fb1-774b-4f0a-ad93-185914da8e3c\"));};})</script>"
      ]
     },
     "metadata": {},
     "output_type": "display_data"
    }
   ],
   "source": [
    "dff = df_new.groupby('Country').Population.sum().to_frame().sort_values(by='Population',\n",
    "                                                    ascending=False)[:12].round(2)\n",
    "\n",
    "trace = go.Scatter(\n",
    "    x=dff.index,\n",
    "    y=dff.Population,\n",
    "    mode='markers',\n",
    "    marker=dict(\n",
    "        sizemode = 'diameter',\n",
    "        sizeref = 1,\n",
    "        size = 30,\n",
    "        color = dff.Population.values,\n",
    "        colorscale='Jet',\n",
    "        showscale=True\n",
    "    )\n",
    ")\n",
    "\n",
    "data = [trace]\n",
    "layout = go.Layout(xaxis=dict(tickangle=-20),\n",
    "    title='Territory of asylum residence ', \n",
    "                   \n",
    "                   yaxis = dict(title = 'Population')\n",
    ")\n",
    "\n",
    "fig = go.Figure(data=data, layout=layout)\n",
    "py.iplot(fig)"
   ]
  },
  {
   "cell_type": "code",
   "execution_count": 234,
   "metadata": {},
   "outputs": [],
   "source": [
    "df['Applied']=pd.to_numeric(df.Applied, errors=\"coerce\").fillna(0).astype(int)\n",
    "df['Rejected']= pd.to_numeric(df.Rejected, errors=\"coerce\").fillna(0).astype(int)"
   ]
  },
  {
   "cell_type": "code",
   "execution_count": 238,
   "metadata": {},
   "outputs": [
    {
     "ename": "IndentationError",
     "evalue": "unindent does not match any outer indentation level (<tokenize>, line 13)",
     "output_type": "error",
     "traceback": [
      "\u001b[1;36m  File \u001b[1;32m\"<tokenize>\"\u001b[1;36m, line \u001b[1;32m13\u001b[0m\n\u001b[1;33m    x=dff.index,\u001b[0m\n\u001b[1;37m    ^\u001b[0m\n\u001b[1;31mIndentationError\u001b[0m\u001b[1;31m:\u001b[0m unindent does not match any outer indentation level\n"
     ]
    }
   ],
   "source": [
    "dff = df.groupby('Origin').Applied.sum().to_frame().sort_values(by='Applied',\n",
    "                                                    ascending=False)[:12].round(2)\n",
    "    y=df.Applied,\n",
    "    name='Applied',\n",
    "    marker=dict(\n",
    "        color = 'navy'\n",
    "    )\n",
    ")\n",
    "\n",
    "dff = df.groupby('Origin').Rejected.sum().to_frame().sort_values(by='Rejected',\n",
    "                                                    ascending=False)[:12].round(2)\n",
    "trace2 = go.Bar(\n",
    "    x=dff.index,\n",
    "    y=dff.Rejected,\n",
    "    name='Rejected',\n",
    "    marker=dict(\n",
    "        color = 'red'\n",
    "    )\n",
    ")\n",
    "\n",
    "\n",
    "data = [trace1,trace2]\n",
    "layout = go.Layout(\n",
    "    title='', \n",
    "    yaxis = dict(title = '%')\n",
    ")\n",
    "\n",
    "fig = go.Figure(data=data, layout=layout)\n",
    "py.iplot(fig)\n"
   ]
  },
  {
   "cell_type": "code",
   "execution_count": 160,
   "metadata": {},
   "outputs": [
    {
     "data": {
      "application/vnd.plotly.v1+json": {
       "config": {
        "linkText": "Export to plot.ly",
        "plotlyServerURL": "https://plot.ly",
        "showLink": false
       },
       "data": [
        {
         "marker": {
          "color": [
           438.184,
           437.084,
           221.735,
           213.616,
           185.817,
           180.911,
           173.753,
           163.036,
           161.146,
           151.482,
           140.356,
           135.6
          ],
          "colorscale": "Portland",
          "showscale": true,
          "size": 30,
          "sizemode": "diameter",
          "sizeref": 1,
          "symbol": "star-square"
         },
         "mode": "markers",
         "type": "scatter",
         "uid": "32e147ad-9283-443f-b2be-7e21c1100361",
         "x": [
          "Various/Unknown",
          "Serbia and Kosovo (S/RES/1244 (1999))",
          "Afghanistan",
          "Zimbabwe",
          "China",
          "Haiti",
          "Albania",
          "Turkey",
          "Mexico",
          "Colombia",
          "Iraq",
          "Pakistan"
         ],
         "y": [
          438.184,
          437.084,
          221.735,
          213.616,
          185.817,
          180.911,
          173.753,
          163.036,
          161.146,
          151.482,
          140.356,
          135.6
         ]
        }
       ],
       "layout": {
        "title": {
         "text": "Rejection Rate by Country"
        },
        "xaxis": {
         "tickangle": 20
        },
        "yaxis": {
         "title": {
          "text": "Rejection Rate"
         }
        }
       }
      },
      "text/html": [
       "<div id=\"6ea2200d-b07a-46d7-a30e-08500ecd3cd0\" style=\"height: 525px; width: 100%;\" class=\"plotly-graph-div\"></div><script type=\"text/javascript\">require([\"plotly\"], function(Plotly) { window.PLOTLYENV=window.PLOTLYENV || {};window.PLOTLYENV.BASE_URL=\"https://plot.ly\";\n",
       "if (document.getElementById(\"6ea2200d-b07a-46d7-a30e-08500ecd3cd0\")) {\n",
       "    Plotly.newPlot(\"6ea2200d-b07a-46d7-a30e-08500ecd3cd0\", [{\"marker\": {\"color\": [438.184, 437.084, 221.735, 213.616, 185.817, 180.911, 173.753, 163.036, 161.146, 151.482, 140.356, 135.6], \"colorscale\": \"Portland\", \"showscale\": true, \"size\": 30, \"sizemode\": \"diameter\", \"sizeref\": 1, \"symbol\": \"star-square\"}, \"mode\": \"markers\", \"x\": [\"Various/Unknown\", \"Serbia and Kosovo (S/RES/1244 (1999))\", \"Afghanistan\", \"Zimbabwe\", \"China\", \"Haiti\", \"Albania\", \"Turkey\", \"Mexico\", \"Colombia\", \"Iraq\", \"Pakistan\"], \"y\": [438.184, 437.084, 221.735, 213.616, 185.817, 180.911, 173.753, 163.036, 161.146, 151.482, 140.356, 135.6], \"type\": \"scatter\", \"uid\": \"32e147ad-9283-443f-b2be-7e21c1100361\"}], {\"title\": {\"text\": \"Rejection Rate by Country\"}, \"xaxis\": {\"tickangle\": 20}, \"yaxis\": {\"title\": {\"text\": \"Rejection Rate\"}}}, {\"showLink\": false, \"linkText\": \"Export to plot.ly\", \"plotlyServerURL\": \"https://plot.ly\"}); \n",
       "}\n",
       "});</script><script type=\"text/javascript\">window.addEventListener(\"resize\", function(){if (document.getElementById(\"6ea2200d-b07a-46d7-a30e-08500ecd3cd0\")) {window._Plotly.Plots.resize(document.getElementById(\"6ea2200d-b07a-46d7-a30e-08500ecd3cd0\"));};})</script>"
      ],
      "text/vnd.plotly.v1+html": [
       "<div id=\"6ea2200d-b07a-46d7-a30e-08500ecd3cd0\" style=\"height: 525px; width: 100%;\" class=\"plotly-graph-div\"></div><script type=\"text/javascript\">require([\"plotly\"], function(Plotly) { window.PLOTLYENV=window.PLOTLYENV || {};window.PLOTLYENV.BASE_URL=\"https://plot.ly\";\n",
       "if (document.getElementById(\"6ea2200d-b07a-46d7-a30e-08500ecd3cd0\")) {\n",
       "    Plotly.newPlot(\"6ea2200d-b07a-46d7-a30e-08500ecd3cd0\", [{\"marker\": {\"color\": [438.184, 437.084, 221.735, 213.616, 185.817, 180.911, 173.753, 163.036, 161.146, 151.482, 140.356, 135.6], \"colorscale\": \"Portland\", \"showscale\": true, \"size\": 30, \"sizemode\": \"diameter\", \"sizeref\": 1, \"symbol\": \"star-square\"}, \"mode\": \"markers\", \"x\": [\"Various/Unknown\", \"Serbia and Kosovo (S/RES/1244 (1999))\", \"Afghanistan\", \"Zimbabwe\", \"China\", \"Haiti\", \"Albania\", \"Turkey\", \"Mexico\", \"Colombia\", \"Iraq\", \"Pakistan\"], \"y\": [438.184, 437.084, 221.735, 213.616, 185.817, 180.911, 173.753, 163.036, 161.146, 151.482, 140.356, 135.6], \"type\": \"scatter\", \"uid\": \"32e147ad-9283-443f-b2be-7e21c1100361\"}], {\"title\": {\"text\": \"Rejection Rate by Country\"}, \"xaxis\": {\"tickangle\": 20}, \"yaxis\": {\"title\": {\"text\": \"Rejection Rate\"}}}, {\"showLink\": false, \"linkText\": \"Export to plot.ly\", \"plotlyServerURL\": \"https://plot.ly\"}); \n",
       "}\n",
       "});</script><script type=\"text/javascript\">window.addEventListener(\"resize\", function(){if (document.getElementById(\"6ea2200d-b07a-46d7-a30e-08500ecd3cd0\")) {window._Plotly.Plots.resize(document.getElementById(\"6ea2200d-b07a-46d7-a30e-08500ecd3cd0\"));};})</script>"
      ]
     },
     "metadata": {},
     "output_type": "display_data"
    },
    {
     "data": {
      "application/vnd.plotly.v1+json": {
       "config": {
        "linkText": "Export to plot.ly",
        "plotlyServerURL": "https://plot.ly",
        "showLink": false
       },
       "data": [
        {
         "marker": {
          "color": [
           105.499,
           89.414,
           82.099,
           80.267,
           67.44,
           56.32,
           53.954,
           50.659,
           46.373,
           46.075,
           44.784,
           44.487
          ],
          "colorscale": "Portland",
          "showscale": true,
          "size": 30,
          "sizemode": "diameter",
          "sizeref": 1,
          "symbol": "diamond"
         },
         "mode": "markers",
         "type": "scatter",
         "uid": "51dca3ef-6c91-45aa-9a5d-01fb7cff4117",
         "x": [
          2000,
          2002,
          2003,
          2001,
          2004,
          2016,
          2005,
          2012,
          2008,
          2006,
          2009,
          2010
         ],
         "y": [
          105.499,
          89.414,
          82.099,
          80.267,
          67.44,
          56.32,
          53.954,
          50.659,
          46.373,
          46.075,
          44.784,
          44.487
         ]
        }
       ],
       "layout": {
        "title": {
         "text": "Rejection Rate by Year"
        },
        "xaxis": {
         "tickangle": 20
        },
        "yaxis": {
         "title": {
          "text": "Rejection Rate"
         }
        }
       }
      },
      "text/html": [
       "<div id=\"212abf89-6a56-44b3-a8dc-6887098f6909\" style=\"height: 525px; width: 100%;\" class=\"plotly-graph-div\"></div><script type=\"text/javascript\">require([\"plotly\"], function(Plotly) { window.PLOTLYENV=window.PLOTLYENV || {};window.PLOTLYENV.BASE_URL=\"https://plot.ly\";\n",
       "if (document.getElementById(\"212abf89-6a56-44b3-a8dc-6887098f6909\")) {\n",
       "    Plotly.newPlot(\"212abf89-6a56-44b3-a8dc-6887098f6909\", [{\"marker\": {\"color\": [105.499, 89.414, 82.099, 80.267, 67.44, 56.32, 53.954, 50.659, 46.373, 46.075, 44.784, 44.487], \"colorscale\": \"Portland\", \"showscale\": true, \"size\": 30, \"sizemode\": \"diameter\", \"sizeref\": 1, \"symbol\": \"diamond\"}, \"mode\": \"markers\", \"x\": [2000, 2002, 2003, 2001, 2004, 2016, 2005, 2012, 2008, 2006, 2009, 2010], \"y\": [105.499, 89.414, 82.099, 80.267, 67.44, 56.32, 53.954, 50.659, 46.373, 46.075, 44.784, 44.487], \"type\": \"scatter\", \"uid\": \"51dca3ef-6c91-45aa-9a5d-01fb7cff4117\"}], {\"title\": {\"text\": \"Rejection Rate by Year\"}, \"xaxis\": {\"tickangle\": 20}, \"yaxis\": {\"title\": {\"text\": \"Rejection Rate\"}}}, {\"showLink\": false, \"linkText\": \"Export to plot.ly\", \"plotlyServerURL\": \"https://plot.ly\"}); \n",
       "}\n",
       "});</script><script type=\"text/javascript\">window.addEventListener(\"resize\", function(){if (document.getElementById(\"212abf89-6a56-44b3-a8dc-6887098f6909\")) {window._Plotly.Plots.resize(document.getElementById(\"212abf89-6a56-44b3-a8dc-6887098f6909\"));};})</script>"
      ],
      "text/vnd.plotly.v1+html": [
       "<div id=\"212abf89-6a56-44b3-a8dc-6887098f6909\" style=\"height: 525px; width: 100%;\" class=\"plotly-graph-div\"></div><script type=\"text/javascript\">require([\"plotly\"], function(Plotly) { window.PLOTLYENV=window.PLOTLYENV || {};window.PLOTLYENV.BASE_URL=\"https://plot.ly\";\n",
       "if (document.getElementById(\"212abf89-6a56-44b3-a8dc-6887098f6909\")) {\n",
       "    Plotly.newPlot(\"212abf89-6a56-44b3-a8dc-6887098f6909\", [{\"marker\": {\"color\": [105.499, 89.414, 82.099, 80.267, 67.44, 56.32, 53.954, 50.659, 46.373, 46.075, 44.784, 44.487], \"colorscale\": \"Portland\", \"showscale\": true, \"size\": 30, \"sizemode\": \"diameter\", \"sizeref\": 1, \"symbol\": \"diamond\"}, \"mode\": \"markers\", \"x\": [2000, 2002, 2003, 2001, 2004, 2016, 2005, 2012, 2008, 2006, 2009, 2010], \"y\": [105.499, 89.414, 82.099, 80.267, 67.44, 56.32, 53.954, 50.659, 46.373, 46.075, 44.784, 44.487], \"type\": \"scatter\", \"uid\": \"51dca3ef-6c91-45aa-9a5d-01fb7cff4117\"}], {\"title\": {\"text\": \"Rejection Rate by Year\"}, \"xaxis\": {\"tickangle\": 20}, \"yaxis\": {\"title\": {\"text\": \"Rejection Rate\"}}}, {\"showLink\": false, \"linkText\": \"Export to plot.ly\", \"plotlyServerURL\": \"https://plot.ly\"}); \n",
       "}\n",
       "});</script><script type=\"text/javascript\">window.addEventListener(\"resize\", function(){if (document.getElementById(\"212abf89-6a56-44b3-a8dc-6887098f6909\")) {window._Plotly.Plots.resize(document.getElementById(\"212abf89-6a56-44b3-a8dc-6887098f6909\"));};})</script>"
      ]
     },
     "metadata": {},
     "output_type": "display_data"
    }
   ],
   "source": [
    "dff = df.groupby('Origin')[['Rejected']].mean().sort_values(by='Rejected', \n",
    "                                                    ascending=False)[:12].round(3)\n",
    "\n",
    "trace1 = go.Scatter(\n",
    "    x=dff.index,\n",
    "    y=dff.Rejected,\n",
    "    mode='markers',\n",
    "    marker=dict(\n",
    "        symbol = 'star-square',\n",
    "        sizemode = 'diameter',\n",
    "        sizeref = 1,\n",
    "        size = 30,\n",
    "        color = dff.Rejected,\n",
    "        colorscale='Portland',\n",
    "        showscale=True\n",
    "    )\n",
    ")\n",
    "\n",
    "data = [trace1]\n",
    "layout = go.Layout(xaxis=dict(tickangle=20),\n",
    "    title='Rejection Rate by Country', yaxis = dict(title = 'Rejection Rate'\n",
    "                                                       )\n",
    ")\n",
    "\n",
    "fig = go.Figure(data=data, layout=layout)\n",
    "py.iplot(fig, filename=\"age\")\n",
    "\n",
    "dff = df.groupby('Year')[['Rejected']].mean().sort_values(by='Rejected', \n",
    "                                            ascending=False)[:12].round(3)\n",
    "trace2 = go.Scatter(\n",
    "    x=dff.index,\n",
    "    y=dff.Rejected,\n",
    "    mode='markers',\n",
    "    marker=dict(symbol = 'diamond',\n",
    "        sizemode = 'diameter',\n",
    "        sizeref = 1,\n",
    "        size = 30,\n",
    "        color = dff.Rejected,\n",
    "        colorscale='Portland',\n",
    "        showscale=True\n",
    "    )\n",
    ")\n",
    "\n",
    "data = [trace2]\n",
    "layout = go.Layout(xaxis=dict(tickangle=20),\n",
    "    title='Rejection Rate by Year', \n",
    "                   yaxis = dict(title = 'Rejection Rate'\n",
    "                                                     )\n",
    ")\n",
    "\n",
    "fig = go.Figure(data=data, layout=layout)\n",
    "py.iplot(fig)"
   ]
  },
  {
   "cell_type": "code",
   "execution_count": 94,
   "metadata": {},
   "outputs": [],
   "source": [
    "terror=pandas.read_csv(\"globalterror.csv\")"
   ]
  },
  {
   "cell_type": "code",
   "execution_count": 95,
   "metadata": {},
   "outputs": [
    {
     "data": {
      "text/html": [
       "<div>\n",
       "<style scoped>\n",
       "    .dataframe tbody tr th:only-of-type {\n",
       "        vertical-align: middle;\n",
       "    }\n",
       "\n",
       "    .dataframe tbody tr th {\n",
       "        vertical-align: top;\n",
       "    }\n",
       "\n",
       "    .dataframe thead th {\n",
       "        text-align: right;\n",
       "    }\n",
       "</style>\n",
       "<table border=\"1\" class=\"dataframe\">\n",
       "  <thead>\n",
       "    <tr style=\"text-align: right;\">\n",
       "      <th></th>\n",
       "      <th>eventid</th>\n",
       "      <th>year</th>\n",
       "      <th>imonth</th>\n",
       "      <th>iday</th>\n",
       "      <th>approxdate</th>\n",
       "      <th>extended</th>\n",
       "      <th>resolution</th>\n",
       "      <th>country</th>\n",
       "      <th>Country</th>\n",
       "      <th>region</th>\n",
       "      <th>...</th>\n",
       "      <th>addnotes</th>\n",
       "      <th>scite1</th>\n",
       "      <th>scite2</th>\n",
       "      <th>scite3</th>\n",
       "      <th>dbsource</th>\n",
       "      <th>INT_LOG</th>\n",
       "      <th>INT_IDEO</th>\n",
       "      <th>INT_MISC</th>\n",
       "      <th>INT_ANY</th>\n",
       "      <th>related</th>\n",
       "    </tr>\n",
       "  </thead>\n",
       "  <tbody>\n",
       "    <tr>\n",
       "      <th>0</th>\n",
       "      <td>1.970000e+11</td>\n",
       "      <td>1970</td>\n",
       "      <td>7</td>\n",
       "      <td>2</td>\n",
       "      <td>NaN</td>\n",
       "      <td>0</td>\n",
       "      <td>NaN</td>\n",
       "      <td>58</td>\n",
       "      <td>Dominican Republic</td>\n",
       "      <td>2</td>\n",
       "      <td>...</td>\n",
       "      <td>NaN</td>\n",
       "      <td>NaN</td>\n",
       "      <td>NaN</td>\n",
       "      <td>NaN</td>\n",
       "      <td>PGIS</td>\n",
       "      <td>0</td>\n",
       "      <td>0</td>\n",
       "      <td>0</td>\n",
       "      <td>0</td>\n",
       "      <td>NaN</td>\n",
       "    </tr>\n",
       "    <tr>\n",
       "      <th>1</th>\n",
       "      <td>1.970000e+11</td>\n",
       "      <td>1970</td>\n",
       "      <td>0</td>\n",
       "      <td>0</td>\n",
       "      <td>NaN</td>\n",
       "      <td>0</td>\n",
       "      <td>NaN</td>\n",
       "      <td>130</td>\n",
       "      <td>Mexico</td>\n",
       "      <td>1</td>\n",
       "      <td>...</td>\n",
       "      <td>NaN</td>\n",
       "      <td>NaN</td>\n",
       "      <td>NaN</td>\n",
       "      <td>NaN</td>\n",
       "      <td>PGIS</td>\n",
       "      <td>0</td>\n",
       "      <td>1</td>\n",
       "      <td>1</td>\n",
       "      <td>1</td>\n",
       "      <td>NaN</td>\n",
       "    </tr>\n",
       "    <tr>\n",
       "      <th>2</th>\n",
       "      <td>1.970010e+11</td>\n",
       "      <td>1970</td>\n",
       "      <td>1</td>\n",
       "      <td>0</td>\n",
       "      <td>NaN</td>\n",
       "      <td>0</td>\n",
       "      <td>NaN</td>\n",
       "      <td>160</td>\n",
       "      <td>Philippines</td>\n",
       "      <td>5</td>\n",
       "      <td>...</td>\n",
       "      <td>NaN</td>\n",
       "      <td>NaN</td>\n",
       "      <td>NaN</td>\n",
       "      <td>NaN</td>\n",
       "      <td>PGIS</td>\n",
       "      <td>-9</td>\n",
       "      <td>-9</td>\n",
       "      <td>1</td>\n",
       "      <td>1</td>\n",
       "      <td>NaN</td>\n",
       "    </tr>\n",
       "    <tr>\n",
       "      <th>3</th>\n",
       "      <td>1.970010e+11</td>\n",
       "      <td>1970</td>\n",
       "      <td>1</td>\n",
       "      <td>0</td>\n",
       "      <td>NaN</td>\n",
       "      <td>0</td>\n",
       "      <td>NaN</td>\n",
       "      <td>78</td>\n",
       "      <td>Greece</td>\n",
       "      <td>8</td>\n",
       "      <td>...</td>\n",
       "      <td>NaN</td>\n",
       "      <td>NaN</td>\n",
       "      <td>NaN</td>\n",
       "      <td>NaN</td>\n",
       "      <td>PGIS</td>\n",
       "      <td>-9</td>\n",
       "      <td>-9</td>\n",
       "      <td>1</td>\n",
       "      <td>1</td>\n",
       "      <td>NaN</td>\n",
       "    </tr>\n",
       "    <tr>\n",
       "      <th>4</th>\n",
       "      <td>1.970010e+11</td>\n",
       "      <td>1970</td>\n",
       "      <td>1</td>\n",
       "      <td>0</td>\n",
       "      <td>NaN</td>\n",
       "      <td>0</td>\n",
       "      <td>NaN</td>\n",
       "      <td>101</td>\n",
       "      <td>Japan</td>\n",
       "      <td>4</td>\n",
       "      <td>...</td>\n",
       "      <td>NaN</td>\n",
       "      <td>NaN</td>\n",
       "      <td>NaN</td>\n",
       "      <td>NaN</td>\n",
       "      <td>PGIS</td>\n",
       "      <td>-9</td>\n",
       "      <td>-9</td>\n",
       "      <td>1</td>\n",
       "      <td>1</td>\n",
       "      <td>NaN</td>\n",
       "    </tr>\n",
       "  </tbody>\n",
       "</table>\n",
       "<p>5 rows × 135 columns</p>\n",
       "</div>"
      ],
      "text/plain": [
       "        eventid  year  imonth  iday approxdate  extended resolution  country  \\\n",
       "0  1.970000e+11  1970       7     2        NaN         0        NaN       58   \n",
       "1  1.970000e+11  1970       0     0        NaN         0        NaN      130   \n",
       "2  1.970010e+11  1970       1     0        NaN         0        NaN      160   \n",
       "3  1.970010e+11  1970       1     0        NaN         0        NaN       78   \n",
       "4  1.970010e+11  1970       1     0        NaN         0        NaN      101   \n",
       "\n",
       "              Country  region   ...    addnotes scite1 scite2  scite3  \\\n",
       "0  Dominican Republic       2   ...         NaN    NaN    NaN     NaN   \n",
       "1              Mexico       1   ...         NaN    NaN    NaN     NaN   \n",
       "2         Philippines       5   ...         NaN    NaN    NaN     NaN   \n",
       "3              Greece       8   ...         NaN    NaN    NaN     NaN   \n",
       "4               Japan       4   ...         NaN    NaN    NaN     NaN   \n",
       "\n",
       "   dbsource  INT_LOG  INT_IDEO INT_MISC INT_ANY  related  \n",
       "0      PGIS        0         0        0       0      NaN  \n",
       "1      PGIS        0         1        1       1      NaN  \n",
       "2      PGIS       -9        -9        1       1      NaN  \n",
       "3      PGIS       -9        -9        1       1      NaN  \n",
       "4      PGIS       -9        -9        1       1      NaN  \n",
       "\n",
       "[5 rows x 135 columns]"
      ]
     },
     "execution_count": 95,
     "metadata": {},
     "output_type": "execute_result"
    }
   ],
   "source": [
    "terror.rename(columns={\"country_txt\":\"Country\", \"attacktype1_txt\":\"Attack\",\"iyear\":\"year\"}, inplace=True)\n",
    "terror.head()"
   ]
  },
  {
   "cell_type": "code",
   "execution_count": 96,
   "metadata": {},
   "outputs": [
    {
     "data": {
      "text/html": [
       "<div>\n",
       "<style scoped>\n",
       "    .dataframe tbody tr th:only-of-type {\n",
       "        vertical-align: middle;\n",
       "    }\n",
       "\n",
       "    .dataframe tbody tr th {\n",
       "        vertical-align: top;\n",
       "    }\n",
       "\n",
       "    .dataframe thead th {\n",
       "        text-align: right;\n",
       "    }\n",
       "</style>\n",
       "<table border=\"1\" class=\"dataframe\">\n",
       "  <thead>\n",
       "    <tr style=\"text-align: right;\">\n",
       "      <th></th>\n",
       "      <th>Country</th>\n",
       "      <th>year</th>\n",
       "      <th>Attack</th>\n",
       "    </tr>\n",
       "  </thead>\n",
       "  <tbody>\n",
       "    <tr>\n",
       "      <th>0</th>\n",
       "      <td>Dominican Republic</td>\n",
       "      <td>1970</td>\n",
       "      <td>Assassination</td>\n",
       "    </tr>\n",
       "    <tr>\n",
       "      <th>1</th>\n",
       "      <td>Mexico</td>\n",
       "      <td>1970</td>\n",
       "      <td>Hostage Taking (Kidnapping)</td>\n",
       "    </tr>\n",
       "    <tr>\n",
       "      <th>2</th>\n",
       "      <td>Philippines</td>\n",
       "      <td>1970</td>\n",
       "      <td>Assassination</td>\n",
       "    </tr>\n",
       "    <tr>\n",
       "      <th>3</th>\n",
       "      <td>Greece</td>\n",
       "      <td>1970</td>\n",
       "      <td>Bombing/Explosion</td>\n",
       "    </tr>\n",
       "    <tr>\n",
       "      <th>4</th>\n",
       "      <td>Japan</td>\n",
       "      <td>1970</td>\n",
       "      <td>Facility/Infrastructure Attack</td>\n",
       "    </tr>\n",
       "  </tbody>\n",
       "</table>\n",
       "</div>"
      ],
      "text/plain": [
       "              Country  year                          Attack\n",
       "0  Dominican Republic  1970                   Assassination\n",
       "1              Mexico  1970     Hostage Taking (Kidnapping)\n",
       "2         Philippines  1970                   Assassination\n",
       "3              Greece  1970               Bombing/Explosion\n",
       "4               Japan  1970  Facility/Infrastructure Attack"
      ]
     },
     "execution_count": 96,
     "metadata": {},
     "output_type": "execute_result"
    }
   ],
   "source": [
    "Terror=terror.loc[:, ['Country','year', 'Attack']]\n",
    "Terror.head()"
   ]
  },
  {
   "cell_type": "code",
   "execution_count": 97,
   "metadata": {},
   "outputs": [
    {
     "data": {
      "text/html": [
       "<div>\n",
       "<style scoped>\n",
       "    .dataframe tbody tr th:only-of-type {\n",
       "        vertical-align: middle;\n",
       "    }\n",
       "\n",
       "    .dataframe tbody tr th {\n",
       "        vertical-align: top;\n",
       "    }\n",
       "\n",
       "    .dataframe thead th {\n",
       "        text-align: right;\n",
       "    }\n",
       "</style>\n",
       "<table border=\"1\" class=\"dataframe\">\n",
       "  <thead>\n",
       "    <tr style=\"text-align: right;\">\n",
       "      <th></th>\n",
       "      <th>Country</th>\n",
       "      <th>year</th>\n",
       "      <th>Attack</th>\n",
       "      <th>Total</th>\n",
       "    </tr>\n",
       "  </thead>\n",
       "  <tbody>\n",
       "    <tr>\n",
       "      <th>0</th>\n",
       "      <td>Dominican Republic</td>\n",
       "      <td>1970</td>\n",
       "      <td>Assassination</td>\n",
       "      <td>1</td>\n",
       "    </tr>\n",
       "    <tr>\n",
       "      <th>1</th>\n",
       "      <td>Mexico</td>\n",
       "      <td>1970</td>\n",
       "      <td>Hostage Taking (Kidnapping)</td>\n",
       "      <td>1</td>\n",
       "    </tr>\n",
       "    <tr>\n",
       "      <th>2</th>\n",
       "      <td>Philippines</td>\n",
       "      <td>1970</td>\n",
       "      <td>Assassination</td>\n",
       "      <td>1</td>\n",
       "    </tr>\n",
       "    <tr>\n",
       "      <th>3</th>\n",
       "      <td>Greece</td>\n",
       "      <td>1970</td>\n",
       "      <td>Bombing/Explosion</td>\n",
       "      <td>1</td>\n",
       "    </tr>\n",
       "    <tr>\n",
       "      <th>4</th>\n",
       "      <td>Japan</td>\n",
       "      <td>1970</td>\n",
       "      <td>Facility/Infrastructure Attack</td>\n",
       "      <td>1</td>\n",
       "    </tr>\n",
       "  </tbody>\n",
       "</table>\n",
       "</div>"
      ],
      "text/plain": [
       "              Country  year                          Attack  Total\n",
       "0  Dominican Republic  1970                   Assassination      1\n",
       "1              Mexico  1970     Hostage Taking (Kidnapping)      1\n",
       "2         Philippines  1970                   Assassination      1\n",
       "3              Greece  1970               Bombing/Explosion      1\n",
       "4               Japan  1970  Facility/Infrastructure Attack      1"
      ]
     },
     "execution_count": 97,
     "metadata": {},
     "output_type": "execute_result"
    }
   ],
   "source": [
    "Terror['Total'] = 1\n",
    "Terror.head()"
   ]
  },
  {
   "cell_type": "code",
   "execution_count": 98,
   "metadata": {},
   "outputs": [
    {
     "data": {
      "text/html": [
       "<div>\n",
       "<style scoped>\n",
       "    .dataframe tbody tr th:only-of-type {\n",
       "        vertical-align: middle;\n",
       "    }\n",
       "\n",
       "    .dataframe tbody tr th {\n",
       "        vertical-align: top;\n",
       "    }\n",
       "\n",
       "    .dataframe thead th {\n",
       "        text-align: right;\n",
       "    }\n",
       "</style>\n",
       "<table border=\"1\" class=\"dataframe\">\n",
       "  <thead>\n",
       "    <tr style=\"text-align: right;\">\n",
       "      <th></th>\n",
       "      <th>Country</th>\n",
       "      <th>year</th>\n",
       "      <th>Attack</th>\n",
       "      <th>Total</th>\n",
       "    </tr>\n",
       "  </thead>\n",
       "  <tbody>\n",
       "    <tr>\n",
       "      <th>104649</th>\n",
       "      <td>Iraq</td>\n",
       "      <td>2011</td>\n",
       "      <td>Armed Assault</td>\n",
       "      <td>1</td>\n",
       "    </tr>\n",
       "    <tr>\n",
       "      <th>104650</th>\n",
       "      <td>Pakistan</td>\n",
       "      <td>2011</td>\n",
       "      <td>Bombing/Explosion</td>\n",
       "      <td>1</td>\n",
       "    </tr>\n",
       "    <tr>\n",
       "      <th>104651</th>\n",
       "      <td>Iraq</td>\n",
       "      <td>2011</td>\n",
       "      <td>Bombing/Explosion</td>\n",
       "      <td>1</td>\n",
       "    </tr>\n",
       "    <tr>\n",
       "      <th>104652</th>\n",
       "      <td>Pakistan</td>\n",
       "      <td>2011</td>\n",
       "      <td>Bombing/Explosion</td>\n",
       "      <td>1</td>\n",
       "    </tr>\n",
       "    <tr>\n",
       "      <th>104653</th>\n",
       "      <td>Pakistan</td>\n",
       "      <td>2011</td>\n",
       "      <td>Bombing/Explosion</td>\n",
       "      <td>1</td>\n",
       "    </tr>\n",
       "  </tbody>\n",
       "</table>\n",
       "</div>"
      ],
      "text/plain": [
       "         Country  year             Attack  Total\n",
       "104649      Iraq  2011      Armed Assault      1\n",
       "104650  Pakistan  2011  Bombing/Explosion      1\n",
       "104651      Iraq  2011  Bombing/Explosion      1\n",
       "104652  Pakistan  2011  Bombing/Explosion      1\n",
       "104653  Pakistan  2011  Bombing/Explosion      1"
      ]
     },
     "execution_count": 98,
     "metadata": {},
     "output_type": "execute_result"
    }
   ],
   "source": [
    "Terror2= Terror.drop(Terror[Terror.year < 2008].index)\n",
    "Terror3= Terror2.drop(Terror[Terror.year > 2011].index)\n",
    "Terror3.tail()"
   ]
  },
  {
   "cell_type": "code",
   "execution_count": 115,
   "metadata": {},
   "outputs": [],
   "source": [
    "Terror4=Terror3.set_index(\"Country\")"
   ]
  },
  {
   "cell_type": "code",
   "execution_count": 129,
   "metadata": {},
   "outputs": [
    {
     "data": {
      "text/html": [
       "<div>\n",
       "<style scoped>\n",
       "    .dataframe tbody tr th:only-of-type {\n",
       "        vertical-align: middle;\n",
       "    }\n",
       "\n",
       "    .dataframe tbody tr th {\n",
       "        vertical-align: top;\n",
       "    }\n",
       "\n",
       "    .dataframe thead th {\n",
       "        text-align: right;\n",
       "    }\n",
       "</style>\n",
       "<table border=\"1\" class=\"dataframe\">\n",
       "  <thead>\n",
       "    <tr style=\"text-align: right;\">\n",
       "      <th></th>\n",
       "      <th>year</th>\n",
       "      <th>Country</th>\n",
       "      <th>Total</th>\n",
       "    </tr>\n",
       "  </thead>\n",
       "  <tbody>\n",
       "    <tr>\n",
       "      <th>0</th>\n",
       "      <td>2008</td>\n",
       "      <td>Iraq</td>\n",
       "      <td>1105</td>\n",
       "    </tr>\n",
       "    <tr>\n",
       "      <th>1</th>\n",
       "      <td>2009</td>\n",
       "      <td>Iraq</td>\n",
       "      <td>1137</td>\n",
       "    </tr>\n",
       "    <tr>\n",
       "      <th>2</th>\n",
       "      <td>2010</td>\n",
       "      <td>Iraq</td>\n",
       "      <td>1179</td>\n",
       "    </tr>\n",
       "    <tr>\n",
       "      <th>3</th>\n",
       "      <td>2011</td>\n",
       "      <td>Iraq</td>\n",
       "      <td>1308</td>\n",
       "    </tr>\n",
       "  </tbody>\n",
       "</table>\n",
       "</div>"
      ],
      "text/plain": [
       "   year Country  Total\n",
       "0  2008    Iraq   1105\n",
       "1  2009    Iraq   1137\n",
       "2  2010    Iraq   1179\n",
       "3  2011    Iraq   1308"
      ]
     },
     "execution_count": 129,
     "metadata": {},
     "output_type": "execute_result"
    }
   ],
   "source": [
    "Terror5=Terror4.loc[['Iraq']]\n",
    "Terror6=Terror5.reset_index()\n",
    "Terror7=Terror6.groupby(['year', 'Country']).sum()\n",
    "Terror7.reset_index()"
   ]
  },
  {
   "cell_type": "code",
   "execution_count": null,
   "metadata": {},
   "outputs": [],
   "source": []
  },
  {
   "cell_type": "code",
   "execution_count": 215,
   "metadata": {},
   "outputs": [],
   "source": [
    "#Correlation between number of attacks and number of Refugee Applications in Iraq\n",
    "Spec22 = Spec.drop(Spec[Spec.Year < 2008].index)\n",
    "Spec23=Spec22.drop(Spec22[Spec22.Year > 2011].index)"
   ]
  },
  {
   "cell_type": "code",
   "execution_count": 216,
   "metadata": {},
   "outputs": [],
   "source": [
    "Spec24=Spec23.groupby(['Origin', 'Year']).sum()"
   ]
  },
  {
   "cell_type": "code",
   "execution_count": 217,
   "metadata": {},
   "outputs": [
    {
     "data": {
      "text/html": [
       "<div>\n",
       "<style scoped>\n",
       "    .dataframe tbody tr th:only-of-type {\n",
       "        vertical-align: middle;\n",
       "    }\n",
       "\n",
       "    .dataframe tbody tr th {\n",
       "        vertical-align: top;\n",
       "    }\n",
       "\n",
       "    .dataframe thead th {\n",
       "        text-align: right;\n",
       "    }\n",
       "</style>\n",
       "<table border=\"1\" class=\"dataframe\">\n",
       "  <thead>\n",
       "    <tr style=\"text-align: right;\">\n",
       "      <th></th>\n",
       "      <th>Origin</th>\n",
       "      <th>Year</th>\n",
       "      <th>Value</th>\n",
       "    </tr>\n",
       "  </thead>\n",
       "  <tbody>\n",
       "    <tr>\n",
       "      <th>0</th>\n",
       "      <td>Iraq</td>\n",
       "      <td>2008</td>\n",
       "      <td>40299</td>\n",
       "    </tr>\n",
       "    <tr>\n",
       "      <th>1</th>\n",
       "      <td>Iraq</td>\n",
       "      <td>2009</td>\n",
       "      <td>24316</td>\n",
       "    </tr>\n",
       "    <tr>\n",
       "      <th>2</th>\n",
       "      <td>Iraq</td>\n",
       "      <td>2010</td>\n",
       "      <td>20531</td>\n",
       "    </tr>\n",
       "    <tr>\n",
       "      <th>3</th>\n",
       "      <td>Iraq</td>\n",
       "      <td>2011</td>\n",
       "      <td>23748</td>\n",
       "    </tr>\n",
       "  </tbody>\n",
       "</table>\n",
       "</div>"
      ],
      "text/plain": [
       "  Origin  Year  Value\n",
       "0   Iraq  2008  40299\n",
       "1   Iraq  2009  24316\n",
       "2   Iraq  2010  20531\n",
       "3   Iraq  2011  23748"
      ]
     },
     "execution_count": 217,
     "metadata": {},
     "output_type": "execute_result"
    }
   ],
   "source": [
    "Spec25= Spec24.loc[[\"Iraq\"]]\n",
    "Spec25.reset_index()"
   ]
  },
  {
   "cell_type": "code",
   "execution_count": 218,
   "metadata": {},
   "outputs": [
    {
     "data": {
      "text/html": [
       "<div>\n",
       "<style scoped>\n",
       "    .dataframe tbody tr th:only-of-type {\n",
       "        vertical-align: middle;\n",
       "    }\n",
       "\n",
       "    .dataframe tbody tr th {\n",
       "        vertical-align: top;\n",
       "    }\n",
       "\n",
       "    .dataframe thead th {\n",
       "        text-align: right;\n",
       "    }\n",
       "</style>\n",
       "<table border=\"1\" class=\"dataframe\">\n",
       "  <thead>\n",
       "    <tr style=\"text-align: right;\">\n",
       "      <th></th>\n",
       "      <th></th>\n",
       "      <th>Total</th>\n",
       "    </tr>\n",
       "    <tr>\n",
       "      <th>Origin</th>\n",
       "      <th>Year</th>\n",
       "      <th></th>\n",
       "    </tr>\n",
       "  </thead>\n",
       "  <tbody>\n",
       "    <tr>\n",
       "      <th rowspan=\"4\" valign=\"top\">Iraq</th>\n",
       "      <th>2008</th>\n",
       "      <td>1105</td>\n",
       "    </tr>\n",
       "    <tr>\n",
       "      <th>2009</th>\n",
       "      <td>1137</td>\n",
       "    </tr>\n",
       "    <tr>\n",
       "      <th>2010</th>\n",
       "      <td>1179</td>\n",
       "    </tr>\n",
       "    <tr>\n",
       "      <th>2011</th>\n",
       "      <td>1308</td>\n",
       "    </tr>\n",
       "  </tbody>\n",
       "</table>\n",
       "</div>"
      ],
      "text/plain": [
       "             Total\n",
       "Origin Year       \n",
       "Iraq   2008   1105\n",
       "       2009   1137\n",
       "       2010   1179\n",
       "       2011   1308"
      ]
     },
     "execution_count": 218,
     "metadata": {},
     "output_type": "execute_result"
    }
   ],
   "source": [
    "Terror7"
   ]
  },
  {
   "cell_type": "code",
   "execution_count": 219,
   "metadata": {},
   "outputs": [],
   "source": [
    "Terror7=Terror7.set_index(Spec25.index)"
   ]
  },
  {
   "cell_type": "code",
   "execution_count": 220,
   "metadata": {},
   "outputs": [],
   "source": [
    "Spec25['Terror Attacks']=Terror7['Total']"
   ]
  },
  {
   "cell_type": "code",
   "execution_count": 221,
   "metadata": {},
   "outputs": [
    {
     "data": {
      "text/html": [
       "<div>\n",
       "<style scoped>\n",
       "    .dataframe tbody tr th:only-of-type {\n",
       "        vertical-align: middle;\n",
       "    }\n",
       "\n",
       "    .dataframe tbody tr th {\n",
       "        vertical-align: top;\n",
       "    }\n",
       "\n",
       "    .dataframe thead th {\n",
       "        text-align: right;\n",
       "    }\n",
       "</style>\n",
       "<table border=\"1\" class=\"dataframe\">\n",
       "  <thead>\n",
       "    <tr style=\"text-align: right;\">\n",
       "      <th></th>\n",
       "      <th>Origin</th>\n",
       "      <th>Year</th>\n",
       "      <th>Value</th>\n",
       "      <th>Terror Attacks</th>\n",
       "    </tr>\n",
       "  </thead>\n",
       "  <tbody>\n",
       "    <tr>\n",
       "      <th>0</th>\n",
       "      <td>Iraq</td>\n",
       "      <td>2008</td>\n",
       "      <td>40299</td>\n",
       "      <td>1105</td>\n",
       "    </tr>\n",
       "    <tr>\n",
       "      <th>1</th>\n",
       "      <td>Iraq</td>\n",
       "      <td>2009</td>\n",
       "      <td>24316</td>\n",
       "      <td>1137</td>\n",
       "    </tr>\n",
       "    <tr>\n",
       "      <th>2</th>\n",
       "      <td>Iraq</td>\n",
       "      <td>2010</td>\n",
       "      <td>20531</td>\n",
       "      <td>1179</td>\n",
       "    </tr>\n",
       "    <tr>\n",
       "      <th>3</th>\n",
       "      <td>Iraq</td>\n",
       "      <td>2011</td>\n",
       "      <td>23748</td>\n",
       "      <td>1308</td>\n",
       "    </tr>\n",
       "  </tbody>\n",
       "</table>\n",
       "</div>"
      ],
      "text/plain": [
       "  Origin  Year  Value  Terror Attacks\n",
       "0   Iraq  2008  40299            1105\n",
       "1   Iraq  2009  24316            1137\n",
       "2   Iraq  2010  20531            1179\n",
       "3   Iraq  2011  23748            1308"
      ]
     },
     "execution_count": 221,
     "metadata": {},
     "output_type": "execute_result"
    }
   ],
   "source": [
    "Spec25=Spec25.reset_index()\n",
    "Spec25"
   ]
  },
  {
   "cell_type": "code",
   "execution_count": 223,
   "metadata": {},
   "outputs": [
    {
     "data": {
      "application/vnd.plotly.v1+json": {
       "config": {
        "linkText": "Export to plot.ly",
        "plotlyServerURL": "https://plot.ly",
        "showLink": false
       },
       "data": [
        {
         "marker": {
          "color": [
           "rgb(93, 164, 214)",
           "rgb(255, 144, 14)",
           "rgb(44, 160, 101)",
           "rgb(255, 65, 54)"
          ],
          "opacity": [
           0.9,
           0.9,
           0.7,
           0.6
          ],
          "size": [
           40,
           40,
           40,
           40
          ]
         },
         "mode": "markers",
         "type": "scatter",
         "uid": "72d75110-6fcf-4b9d-bb37-b239eb39ded1",
         "x": [
          1105,
          1137,
          1179,
          1308
         ],
         "y": [
          40299,
          24316,
          20531,
          23748
         ]
        }
       ],
       "layout": {}
      },
      "text/html": [
       "<div id=\"b416cb63-0428-423e-8268-28791038ec91\" style=\"height: 525px; width: 100%;\" class=\"plotly-graph-div\"></div><script type=\"text/javascript\">require([\"plotly\"], function(Plotly) { window.PLOTLYENV=window.PLOTLYENV || {};window.PLOTLYENV.BASE_URL=\"https://plot.ly\";\n",
       "if (document.getElementById(\"b416cb63-0428-423e-8268-28791038ec91\")) {\n",
       "    Plotly.newPlot(\"b416cb63-0428-423e-8268-28791038ec91\", [{\"marker\": {\"color\": [\"rgb(93, 164, 214)\", \"rgb(255, 144, 14)\", \"rgb(44, 160, 101)\", \"rgb(255, 65, 54)\"], \"opacity\": [0.9, 0.9, 0.7, 0.6], \"size\": [40, 40, 40, 40]}, \"mode\": \"markers\", \"x\": [1105, 1137, 1179, 1308], \"y\": [40299, 24316, 20531, 23748], \"type\": \"scatter\", \"uid\": \"08248418-8ba7-4234-b4df-05909cb2df1c\"}], {}, {\"showLink\": false, \"linkText\": \"Export to plot.ly\", \"plotlyServerURL\": \"https://plot.ly\"}); \n",
       "}\n",
       "});</script><script type=\"text/javascript\">window.addEventListener(\"resize\", function(){if (document.getElementById(\"b416cb63-0428-423e-8268-28791038ec91\")) {window._Plotly.Plots.resize(document.getElementById(\"b416cb63-0428-423e-8268-28791038ec91\"));};})</script>"
      ],
      "text/vnd.plotly.v1+html": [
       "<div id=\"b416cb63-0428-423e-8268-28791038ec91\" style=\"height: 525px; width: 100%;\" class=\"plotly-graph-div\"></div><script type=\"text/javascript\">require([\"plotly\"], function(Plotly) { window.PLOTLYENV=window.PLOTLYENV || {};window.PLOTLYENV.BASE_URL=\"https://plot.ly\";\n",
       "if (document.getElementById(\"b416cb63-0428-423e-8268-28791038ec91\")) {\n",
       "    Plotly.newPlot(\"b416cb63-0428-423e-8268-28791038ec91\", [{\"marker\": {\"color\": [\"rgb(93, 164, 214)\", \"rgb(255, 144, 14)\", \"rgb(44, 160, 101)\", \"rgb(255, 65, 54)\"], \"opacity\": [0.9, 0.9, 0.7, 0.6], \"size\": [40, 40, 40, 40]}, \"mode\": \"markers\", \"x\": [1105, 1137, 1179, 1308], \"y\": [40299, 24316, 20531, 23748], \"type\": \"scatter\", \"uid\": \"08248418-8ba7-4234-b4df-05909cb2df1c\"}], {}, {\"showLink\": false, \"linkText\": \"Export to plot.ly\", \"plotlyServerURL\": \"https://plot.ly\"}); \n",
       "}\n",
       "});</script><script type=\"text/javascript\">window.addEventListener(\"resize\", function(){if (document.getElementById(\"b416cb63-0428-423e-8268-28791038ec91\")) {window._Plotly.Plots.resize(document.getElementById(\"b416cb63-0428-423e-8268-28791038ec91\"));};})</script>"
      ]
     },
     "metadata": {},
     "output_type": "display_data"
    }
   ],
   "source": [
    "trace0 = go.Scatter(\n",
    "    x=[1105, 1137, 1179, 1308],\n",
    "    y=[40299, 24316, 20531, 23748],\n",
    "    mode='markers',\n",
    "    marker=dict(\n",
    "        color=['rgb(93, 164, 214)', 'rgb(255, 144, 14)',\n",
    "               'rgb(44, 160, 101)', 'rgb(255, 65, 54)'],\n",
    "        opacity=[0.9, 0.9, 0.7, 0.6],\n",
    "        size=[40, 40, 40, 40]\n",
    "        \n",
    "       \n",
    "    )\n",
    ")\n",
    "\n",
    "data = [trace0]\n",
    "py.iplot(data)"
   ]
  },
  {
   "cell_type": "code",
   "execution_count": 239,
   "metadata": {},
   "outputs": [
    {
     "data": {
      "application/vnd.plotly.v1+json": {
       "config": {
        "linkText": "Export to plot.ly",
        "plotlyServerURL": "https://plot.ly",
        "showLink": false
       },
       "data": [
        {
         "marker": {
          "color": [
           120,
           125,
           130,
           135,
           140,
           145
          ],
          "showscale": true,
          "size": [
           15,
           30,
           55,
           70,
           90,
           110
          ]
         },
         "mode": "markers",
         "type": "scatter",
         "uid": "84c25dd9-bfba-469f-8c5b-77932ebb351b",
         "x": [
          1105,
          1137,
          1179,
          1308
         ],
         "y": [
          40299,
          24316,
          20531,
          23748
         ]
        }
       ],
       "layout": {}
      },
      "text/html": [
       "<div id=\"7e2cd189-f275-4be6-8acb-eaab5e746691\" style=\"height: 525px; width: 100%;\" class=\"plotly-graph-div\"></div><script type=\"text/javascript\">require([\"plotly\"], function(Plotly) { window.PLOTLYENV=window.PLOTLYENV || {};window.PLOTLYENV.BASE_URL=\"https://plot.ly\";\n",
       "if (document.getElementById(\"7e2cd189-f275-4be6-8acb-eaab5e746691\")) {\n",
       "    Plotly.newPlot(\"7e2cd189-f275-4be6-8acb-eaab5e746691\", [{\"marker\": {\"color\": [120, 125, 130, 135, 140, 145], \"showscale\": true, \"size\": [15, 30, 55, 70, 90, 110]}, \"mode\": \"markers\", \"x\": [1105, 1137, 1179, 1308], \"y\": [40299, 24316, 20531, 23748], \"type\": \"scatter\", \"uid\": \"51e1d636-52cc-47f2-b12f-99e337332877\"}], {}, {\"showLink\": false, \"linkText\": \"Export to plot.ly\", \"plotlyServerURL\": \"https://plot.ly\"}); \n",
       "}\n",
       "});</script><script type=\"text/javascript\">window.addEventListener(\"resize\", function(){if (document.getElementById(\"7e2cd189-f275-4be6-8acb-eaab5e746691\")) {window._Plotly.Plots.resize(document.getElementById(\"7e2cd189-f275-4be6-8acb-eaab5e746691\"));};})</script>"
      ],
      "text/vnd.plotly.v1+html": [
       "<div id=\"7e2cd189-f275-4be6-8acb-eaab5e746691\" style=\"height: 525px; width: 100%;\" class=\"plotly-graph-div\"></div><script type=\"text/javascript\">require([\"plotly\"], function(Plotly) { window.PLOTLYENV=window.PLOTLYENV || {};window.PLOTLYENV.BASE_URL=\"https://plot.ly\";\n",
       "if (document.getElementById(\"7e2cd189-f275-4be6-8acb-eaab5e746691\")) {\n",
       "    Plotly.newPlot(\"7e2cd189-f275-4be6-8acb-eaab5e746691\", [{\"marker\": {\"color\": [120, 125, 130, 135, 140, 145], \"showscale\": true, \"size\": [15, 30, 55, 70, 90, 110]}, \"mode\": \"markers\", \"x\": [1105, 1137, 1179, 1308], \"y\": [40299, 24316, 20531, 23748], \"type\": \"scatter\", \"uid\": \"51e1d636-52cc-47f2-b12f-99e337332877\"}], {}, {\"showLink\": false, \"linkText\": \"Export to plot.ly\", \"plotlyServerURL\": \"https://plot.ly\"}); \n",
       "}\n",
       "});</script><script type=\"text/javascript\">window.addEventListener(\"resize\", function(){if (document.getElementById(\"7e2cd189-f275-4be6-8acb-eaab5e746691\")) {window._Plotly.Plots.resize(document.getElementById(\"7e2cd189-f275-4be6-8acb-eaab5e746691\"));};})</script>"
      ]
     },
     "metadata": {},
     "output_type": "display_data"
    }
   ],
   "source": [
    "data = [\n",
    "    {\n",
    "        'x': [1105, 1137, 1179, 1308],\n",
    "        'y': [40299, 24316, 20531, 23748],\n",
    "        'mode': 'markers',\n",
    "        'marker': {\n",
    "            'color': [120, 125, 130, 135, 140, 145],\n",
    "            'size': [15, 30, 55, 70, 90, 110],\n",
    "            'showscale': True\n",
    "        }\n",
    "    }\n",
    "]\n",
    "\n",
    "layout = go.Layout(\n",
    "    title='Terror Attacks vs Number of Applications for Asylum',\n",
    "    xaxis=dict(\n",
    "        title='GDP per capita (2000 dollars)',\n",
    "        gridcolor='rgb(255, 255, 255)',\n",
    "        range=[2.003297660701705, 5.191505530708712],\n",
    "        type='log',\n",
    "        zerolinewidth=1,\n",
    "        ticklen=5,\n",
    "        gridwidth=2,\n",
    "    ),\n",
    "    yaxis=dict(\n",
    "        title='Life Expectancy (years)',\n",
    "        gridcolor='rgb(255, 255, 255)',\n",
    "        range=[36.12621671352166, 91.72921793264332],\n",
    "        zerolinewidth=1,\n",
    "        ticklen=5,\n",
    "        gridwidth=2,\n",
    "    ),\n",
    "    paper_bgcolor='rgb(243, 243, 243)',\n",
    "    plot_bgcolor='rgb(243, 243, 243)',\n",
    ")\n",
    "\n",
    "\n",
    "py.iplot(data)"
   ]
  },
  {
   "cell_type": "code",
   "execution_count": null,
   "metadata": {},
   "outputs": [],
   "source": []
  }
 ],
 "metadata": {
  "kernelspec": {
   "display_name": "Python 3",
   "language": "python",
   "name": "python3"
  },
  "language_info": {
   "codemirror_mode": {
    "name": "ipython",
    "version": 3
   },
   "file_extension": ".py",
   "mimetype": "text/x-python",
   "name": "python",
   "nbconvert_exporter": "python",
   "pygments_lexer": "ipython3",
   "version": "3.7.1"
  }
 },
 "nbformat": 4,
 "nbformat_minor": 2
}
